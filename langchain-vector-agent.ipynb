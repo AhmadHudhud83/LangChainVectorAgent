{
  "cells": [
    {
      "cell_type": "markdown",
      "source": [
        "# Installing Libraries"
      ],
      "metadata": {
        "id": "VyI2r_GNnzof"
      }
    },
    {
      "cell_type": "code",
      "source": [
        "!pip install langchain langchain-openai langchain-community langchain-chroma python-dotenv sentence-transformers faiss-cpu scikit-learn plotly transformers\n"
      ],
      "metadata": {
        "colab": {
          "base_uri": "https://localhost:8080/",
          "height": 1000
        },
        "id": "yExmZF7tzmhv",
        "outputId": "b1b7ec71-23fb-4110-a3fe-1579872ccc34"
      },
      "execution_count": null,
      "outputs": [
        {
          "output_type": "stream",
          "name": "stdout",
          "text": [
            "Requirement already satisfied: langchain in /usr/local/lib/python3.11/dist-packages (0.3.25)\n",
            "Collecting langchain-openai\n",
            "  Downloading langchain_openai-0.3.18-py3-none-any.whl.metadata (2.3 kB)\n",
            "Collecting langchain-community\n",
            "  Downloading langchain_community-0.3.24-py3-none-any.whl.metadata (2.5 kB)\n",
            "Collecting langchain-chroma\n",
            "  Downloading langchain_chroma-0.2.4-py3-none-any.whl.metadata (1.1 kB)\n",
            "Collecting python-dotenv\n",
            "  Downloading python_dotenv-1.1.0-py3-none-any.whl.metadata (24 kB)\n",
            "Requirement already satisfied: sentence-transformers in /usr/local/lib/python3.11/dist-packages (4.1.0)\n",
            "Collecting faiss-cpu\n",
            "  Downloading faiss_cpu-1.11.0-cp311-cp311-manylinux_2_28_x86_64.whl.metadata (4.8 kB)\n",
            "Requirement already satisfied: scikit-learn in /usr/local/lib/python3.11/dist-packages (1.6.1)\n",
            "Requirement already satisfied: plotly in /usr/local/lib/python3.11/dist-packages (5.24.1)\n",
            "Requirement already satisfied: transformers in /usr/local/lib/python3.11/dist-packages (4.51.3)\n",
            "Requirement already satisfied: langchain-core<1.0.0,>=0.3.58 in /usr/local/lib/python3.11/dist-packages (from langchain) (0.3.59)\n",
            "Requirement already satisfied: langchain-text-splitters<1.0.0,>=0.3.8 in /usr/local/lib/python3.11/dist-packages (from langchain) (0.3.8)\n",
            "Requirement already satisfied: langsmith<0.4,>=0.1.17 in /usr/local/lib/python3.11/dist-packages (from langchain) (0.3.42)\n",
            "Requirement already satisfied: pydantic<3.0.0,>=2.7.4 in /usr/local/lib/python3.11/dist-packages (from langchain) (2.11.4)\n",
            "Requirement already satisfied: SQLAlchemy<3,>=1.4 in /usr/local/lib/python3.11/dist-packages (from langchain) (2.0.40)\n",
            "Requirement already satisfied: requests<3,>=2 in /usr/local/lib/python3.11/dist-packages (from langchain) (2.32.3)\n",
            "Requirement already satisfied: PyYAML>=5.3 in /usr/local/lib/python3.11/dist-packages (from langchain) (6.0.2)\n",
            "Collecting langchain-core<1.0.0,>=0.3.58 (from langchain)\n",
            "  Downloading langchain_core-0.3.61-py3-none-any.whl.metadata (5.8 kB)\n",
            "Requirement already satisfied: openai<2.0.0,>=1.68.2 in /usr/local/lib/python3.11/dist-packages (from langchain-openai) (1.78.1)\n",
            "Requirement already satisfied: tiktoken<1,>=0.7 in /usr/local/lib/python3.11/dist-packages (from langchain-openai) (0.9.0)\n",
            "Requirement already satisfied: aiohttp<4.0.0,>=3.8.3 in /usr/local/lib/python3.11/dist-packages (from langchain-community) (3.11.15)\n",
            "Requirement already satisfied: tenacity!=8.4.0,<10,>=8.1.0 in /usr/local/lib/python3.11/dist-packages (from langchain-community) (9.1.2)\n",
            "Collecting dataclasses-json<0.7,>=0.5.7 (from langchain-community)\n",
            "  Downloading dataclasses_json-0.6.7-py3-none-any.whl.metadata (25 kB)\n",
            "Collecting pydantic-settings<3.0.0,>=2.4.0 (from langchain-community)\n",
            "  Downloading pydantic_settings-2.9.1-py3-none-any.whl.metadata (3.8 kB)\n",
            "Collecting httpx-sse<1.0.0,>=0.4.0 (from langchain-community)\n",
            "  Downloading httpx_sse-0.4.0-py3-none-any.whl.metadata (9.0 kB)\n",
            "Requirement already satisfied: numpy>=1.26.2 in /usr/local/lib/python3.11/dist-packages (from langchain-community) (2.0.2)\n",
            "Collecting chromadb>=1.0.9 (from langchain-chroma)\n",
            "  Downloading chromadb-1.0.10-cp39-abi3-manylinux_2_17_x86_64.manylinux2014_x86_64.whl.metadata (6.9 kB)\n",
            "Requirement already satisfied: tqdm in /usr/local/lib/python3.11/dist-packages (from sentence-transformers) (4.67.1)\n",
            "Requirement already satisfied: torch>=1.11.0 in /usr/local/lib/python3.11/dist-packages (from sentence-transformers) (2.6.0+cu124)\n",
            "Requirement already satisfied: scipy in /usr/local/lib/python3.11/dist-packages (from sentence-transformers) (1.15.3)\n",
            "Requirement already satisfied: huggingface-hub>=0.20.0 in /usr/local/lib/python3.11/dist-packages (from sentence-transformers) (0.31.2)\n",
            "Requirement already satisfied: Pillow in /usr/local/lib/python3.11/dist-packages (from sentence-transformers) (11.2.1)\n",
            "Requirement already satisfied: typing_extensions>=4.5.0 in /usr/local/lib/python3.11/dist-packages (from sentence-transformers) (4.13.2)\n",
            "Requirement already satisfied: packaging in /usr/local/lib/python3.11/dist-packages (from faiss-cpu) (24.2)\n",
            "Requirement already satisfied: joblib>=1.2.0 in /usr/local/lib/python3.11/dist-packages (from scikit-learn) (1.5.0)\n",
            "Requirement already satisfied: threadpoolctl>=3.1.0 in /usr/local/lib/python3.11/dist-packages (from scikit-learn) (3.6.0)\n",
            "Requirement already satisfied: filelock in /usr/local/lib/python3.11/dist-packages (from transformers) (3.18.0)\n",
            "Requirement already satisfied: regex!=2019.12.17 in /usr/local/lib/python3.11/dist-packages (from transformers) (2024.11.6)\n",
            "Requirement already satisfied: tokenizers<0.22,>=0.21 in /usr/local/lib/python3.11/dist-packages (from transformers) (0.21.1)\n",
            "Requirement already satisfied: safetensors>=0.4.3 in /usr/local/lib/python3.11/dist-packages (from transformers) (0.5.3)\n",
            "Requirement already satisfied: aiohappyeyeballs>=2.3.0 in /usr/local/lib/python3.11/dist-packages (from aiohttp<4.0.0,>=3.8.3->langchain-community) (2.6.1)\n",
            "Requirement already satisfied: aiosignal>=1.1.2 in /usr/local/lib/python3.11/dist-packages (from aiohttp<4.0.0,>=3.8.3->langchain-community) (1.3.2)\n",
            "Requirement already satisfied: attrs>=17.3.0 in /usr/local/lib/python3.11/dist-packages (from aiohttp<4.0.0,>=3.8.3->langchain-community) (25.3.0)\n",
            "Requirement already satisfied: frozenlist>=1.1.1 in /usr/local/lib/python3.11/dist-packages (from aiohttp<4.0.0,>=3.8.3->langchain-community) (1.6.0)\n",
            "Requirement already satisfied: multidict<7.0,>=4.5 in /usr/local/lib/python3.11/dist-packages (from aiohttp<4.0.0,>=3.8.3->langchain-community) (6.4.3)\n",
            "Requirement already satisfied: propcache>=0.2.0 in /usr/local/lib/python3.11/dist-packages (from aiohttp<4.0.0,>=3.8.3->langchain-community) (0.3.1)\n",
            "Requirement already satisfied: yarl<2.0,>=1.17.0 in /usr/local/lib/python3.11/dist-packages (from aiohttp<4.0.0,>=3.8.3->langchain-community) (1.20.0)\n",
            "Requirement already satisfied: build>=1.0.3 in /usr/local/lib/python3.11/dist-packages (from chromadb>=1.0.9->langchain-chroma) (1.2.2.post1)\n",
            "Collecting fastapi==0.115.9 (from chromadb>=1.0.9->langchain-chroma)\n",
            "  Downloading fastapi-0.115.9-py3-none-any.whl.metadata (27 kB)\n",
            "Collecting uvicorn>=0.18.3 (from uvicorn[standard]>=0.18.3->chromadb>=1.0.9->langchain-chroma)\n",
            "  Downloading uvicorn-0.34.2-py3-none-any.whl.metadata (6.5 kB)\n",
            "Collecting posthog>=2.4.0 (from chromadb>=1.0.9->langchain-chroma)\n",
            "  Downloading posthog-4.2.0-py2.py3-none-any.whl.metadata (3.0 kB)\n",
            "Collecting onnxruntime>=1.14.1 (from chromadb>=1.0.9->langchain-chroma)\n",
            "  Downloading onnxruntime-1.22.0-cp311-cp311-manylinux_2_27_x86_64.manylinux_2_28_x86_64.whl.metadata (4.5 kB)\n",
            "Collecting opentelemetry-api>=1.2.0 (from chromadb>=1.0.9->langchain-chroma)\n",
            "  Downloading opentelemetry_api-1.33.1-py3-none-any.whl.metadata (1.6 kB)\n",
            "Collecting opentelemetry-exporter-otlp-proto-grpc>=1.2.0 (from chromadb>=1.0.9->langchain-chroma)\n",
            "  Downloading opentelemetry_exporter_otlp_proto_grpc-1.33.1-py3-none-any.whl.metadata (2.5 kB)\n",
            "Collecting opentelemetry-instrumentation-fastapi>=0.41b0 (from chromadb>=1.0.9->langchain-chroma)\n",
            "  Downloading opentelemetry_instrumentation_fastapi-0.54b1-py3-none-any.whl.metadata (2.2 kB)\n",
            "Collecting opentelemetry-sdk>=1.2.0 (from chromadb>=1.0.9->langchain-chroma)\n",
            "  Downloading opentelemetry_sdk-1.33.1-py3-none-any.whl.metadata (1.6 kB)\n",
            "Collecting pypika>=0.48.9 (from chromadb>=1.0.9->langchain-chroma)\n",
            "  Downloading PyPika-0.48.9.tar.gz (67 kB)\n",
            "\u001b[2K     \u001b[90m━━━━━━━━━━━━━━━━━━━━━━━━━━━━━━━━━━━━━━━━\u001b[0m \u001b[32m67.3/67.3 kB\u001b[0m \u001b[31m3.2 MB/s\u001b[0m eta \u001b[36m0:00:00\u001b[0m\n",
            "\u001b[?25h  Installing build dependencies ... \u001b[?25l\u001b[?25hdone\n",
            "  Getting requirements to build wheel ... \u001b[?25l\u001b[?25hdone\n",
            "  Preparing metadata (pyproject.toml) ... \u001b[?25l\u001b[?25hdone\n",
            "Collecting overrides>=7.3.1 (from chromadb>=1.0.9->langchain-chroma)\n",
            "  Downloading overrides-7.7.0-py3-none-any.whl.metadata (5.8 kB)\n",
            "Requirement already satisfied: importlib-resources in /usr/local/lib/python3.11/dist-packages (from chromadb>=1.0.9->langchain-chroma) (6.5.2)\n",
            "Requirement already satisfied: grpcio>=1.58.0 in /usr/local/lib/python3.11/dist-packages (from chromadb>=1.0.9->langchain-chroma) (1.71.0)\n",
            "Collecting bcrypt>=4.0.1 (from chromadb>=1.0.9->langchain-chroma)\n",
            "  Downloading bcrypt-4.3.0-cp39-abi3-manylinux_2_34_x86_64.whl.metadata (10 kB)\n",
            "Requirement already satisfied: typer>=0.9.0 in /usr/local/lib/python3.11/dist-packages (from chromadb>=1.0.9->langchain-chroma) (0.15.3)\n",
            "Collecting kubernetes>=28.1.0 (from chromadb>=1.0.9->langchain-chroma)\n",
            "  Downloading kubernetes-32.0.1-py2.py3-none-any.whl.metadata (1.7 kB)\n",
            "Collecting mmh3>=4.0.1 (from chromadb>=1.0.9->langchain-chroma)\n",
            "  Downloading mmh3-5.1.0-cp311-cp311-manylinux_2_5_x86_64.manylinux1_x86_64.manylinux_2_17_x86_64.manylinux2014_x86_64.whl.metadata (16 kB)\n",
            "Requirement already satisfied: orjson>=3.9.12 in /usr/local/lib/python3.11/dist-packages (from chromadb>=1.0.9->langchain-chroma) (3.10.18)\n",
            "Requirement already satisfied: httpx>=0.27.0 in /usr/local/lib/python3.11/dist-packages (from chromadb>=1.0.9->langchain-chroma) (0.28.1)\n",
            "Requirement already satisfied: rich>=10.11.0 in /usr/local/lib/python3.11/dist-packages (from chromadb>=1.0.9->langchain-chroma) (13.9.4)\n",
            "Requirement already satisfied: jsonschema>=4.19.0 in /usr/local/lib/python3.11/dist-packages (from chromadb>=1.0.9->langchain-chroma) (4.23.0)\n",
            "Collecting starlette<0.46.0,>=0.40.0 (from fastapi==0.115.9->chromadb>=1.0.9->langchain-chroma)\n",
            "  Downloading starlette-0.45.3-py3-none-any.whl.metadata (6.3 kB)\n",
            "Collecting marshmallow<4.0.0,>=3.18.0 (from dataclasses-json<0.7,>=0.5.7->langchain-community)\n",
            "  Downloading marshmallow-3.26.1-py3-none-any.whl.metadata (7.3 kB)\n",
            "Collecting typing-inspect<1,>=0.4.0 (from dataclasses-json<0.7,>=0.5.7->langchain-community)\n",
            "  Downloading typing_inspect-0.9.0-py3-none-any.whl.metadata (1.5 kB)\n",
            "Requirement already satisfied: fsspec>=2023.5.0 in /usr/local/lib/python3.11/dist-packages (from huggingface-hub>=0.20.0->sentence-transformers) (2025.3.2)\n",
            "Requirement already satisfied: jsonpatch<2.0,>=1.33 in /usr/local/lib/python3.11/dist-packages (from langchain-core<1.0.0,>=0.3.58->langchain) (1.33)\n",
            "Requirement already satisfied: requests-toolbelt<2.0.0,>=1.0.0 in /usr/local/lib/python3.11/dist-packages (from langsmith<0.4,>=0.1.17->langchain) (1.0.0)\n",
            "Requirement already satisfied: zstandard<0.24.0,>=0.23.0 in /usr/local/lib/python3.11/dist-packages (from langsmith<0.4,>=0.1.17->langchain) (0.23.0)\n",
            "Requirement already satisfied: anyio<5,>=3.5.0 in /usr/local/lib/python3.11/dist-packages (from openai<2.0.0,>=1.68.2->langchain-openai) (4.9.0)\n",
            "Requirement already satisfied: distro<2,>=1.7.0 in /usr/local/lib/python3.11/dist-packages (from openai<2.0.0,>=1.68.2->langchain-openai) (1.9.0)\n",
            "Requirement already satisfied: jiter<1,>=0.4.0 in /usr/local/lib/python3.11/dist-packages (from openai<2.0.0,>=1.68.2->langchain-openai) (0.9.0)\n",
            "Requirement already satisfied: sniffio in /usr/local/lib/python3.11/dist-packages (from openai<2.0.0,>=1.68.2->langchain-openai) (1.3.1)\n",
            "Requirement already satisfied: annotated-types>=0.6.0 in /usr/local/lib/python3.11/dist-packages (from pydantic<3.0.0,>=2.7.4->langchain) (0.7.0)\n",
            "Requirement already satisfied: pydantic-core==2.33.2 in /usr/local/lib/python3.11/dist-packages (from pydantic<3.0.0,>=2.7.4->langchain) (2.33.2)\n",
            "Requirement already satisfied: typing-inspection>=0.4.0 in /usr/local/lib/python3.11/dist-packages (from pydantic<3.0.0,>=2.7.4->langchain) (0.4.0)\n",
            "Requirement already satisfied: charset-normalizer<4,>=2 in /usr/local/lib/python3.11/dist-packages (from requests<3,>=2->langchain) (3.4.2)\n",
            "Requirement already satisfied: idna<4,>=2.5 in /usr/local/lib/python3.11/dist-packages (from requests<3,>=2->langchain) (3.10)\n",
            "Requirement already satisfied: urllib3<3,>=1.21.1 in /usr/local/lib/python3.11/dist-packages (from requests<3,>=2->langchain) (2.4.0)\n",
            "Requirement already satisfied: certifi>=2017.4.17 in /usr/local/lib/python3.11/dist-packages (from requests<3,>=2->langchain) (2025.4.26)\n",
            "Requirement already satisfied: greenlet>=1 in /usr/local/lib/python3.11/dist-packages (from SQLAlchemy<3,>=1.4->langchain) (3.2.2)\n",
            "Requirement already satisfied: networkx in /usr/local/lib/python3.11/dist-packages (from torch>=1.11.0->sentence-transformers) (3.4.2)\n",
            "Requirement already satisfied: jinja2 in /usr/local/lib/python3.11/dist-packages (from torch>=1.11.0->sentence-transformers) (3.1.6)\n",
            "Collecting nvidia-cuda-nvrtc-cu12==12.4.127 (from torch>=1.11.0->sentence-transformers)\n",
            "  Downloading nvidia_cuda_nvrtc_cu12-12.4.127-py3-none-manylinux2014_x86_64.whl.metadata (1.5 kB)\n",
            "Collecting nvidia-cuda-runtime-cu12==12.4.127 (from torch>=1.11.0->sentence-transformers)\n",
            "  Downloading nvidia_cuda_runtime_cu12-12.4.127-py3-none-manylinux2014_x86_64.whl.metadata (1.5 kB)\n",
            "Collecting nvidia-cuda-cupti-cu12==12.4.127 (from torch>=1.11.0->sentence-transformers)\n",
            "  Downloading nvidia_cuda_cupti_cu12-12.4.127-py3-none-manylinux2014_x86_64.whl.metadata (1.6 kB)\n",
            "Collecting nvidia-cudnn-cu12==9.1.0.70 (from torch>=1.11.0->sentence-transformers)\n",
            "  Downloading nvidia_cudnn_cu12-9.1.0.70-py3-none-manylinux2014_x86_64.whl.metadata (1.6 kB)\n",
            "Collecting nvidia-cublas-cu12==12.4.5.8 (from torch>=1.11.0->sentence-transformers)\n",
            "  Downloading nvidia_cublas_cu12-12.4.5.8-py3-none-manylinux2014_x86_64.whl.metadata (1.5 kB)\n",
            "Collecting nvidia-cufft-cu12==11.2.1.3 (from torch>=1.11.0->sentence-transformers)\n",
            "  Downloading nvidia_cufft_cu12-11.2.1.3-py3-none-manylinux2014_x86_64.whl.metadata (1.5 kB)\n",
            "Collecting nvidia-curand-cu12==10.3.5.147 (from torch>=1.11.0->sentence-transformers)\n",
            "  Downloading nvidia_curand_cu12-10.3.5.147-py3-none-manylinux2014_x86_64.whl.metadata (1.5 kB)\n",
            "Collecting nvidia-cusolver-cu12==11.6.1.9 (from torch>=1.11.0->sentence-transformers)\n",
            "  Downloading nvidia_cusolver_cu12-11.6.1.9-py3-none-manylinux2014_x86_64.whl.metadata (1.6 kB)\n",
            "Collecting nvidia-cusparse-cu12==12.3.1.170 (from torch>=1.11.0->sentence-transformers)\n",
            "  Downloading nvidia_cusparse_cu12-12.3.1.170-py3-none-manylinux2014_x86_64.whl.metadata (1.6 kB)\n",
            "Requirement already satisfied: nvidia-cusparselt-cu12==0.6.2 in /usr/local/lib/python3.11/dist-packages (from torch>=1.11.0->sentence-transformers) (0.6.2)\n",
            "Requirement already satisfied: nvidia-nccl-cu12==2.21.5 in /usr/local/lib/python3.11/dist-packages (from torch>=1.11.0->sentence-transformers) (2.21.5)\n",
            "Requirement already satisfied: nvidia-nvtx-cu12==12.4.127 in /usr/local/lib/python3.11/dist-packages (from torch>=1.11.0->sentence-transformers) (12.4.127)\n",
            "Collecting nvidia-nvjitlink-cu12==12.4.127 (from torch>=1.11.0->sentence-transformers)\n",
            "  Downloading nvidia_nvjitlink_cu12-12.4.127-py3-none-manylinux2014_x86_64.whl.metadata (1.5 kB)\n",
            "Requirement already satisfied: triton==3.2.0 in /usr/local/lib/python3.11/dist-packages (from torch>=1.11.0->sentence-transformers) (3.2.0)\n",
            "Requirement already satisfied: sympy==1.13.1 in /usr/local/lib/python3.11/dist-packages (from torch>=1.11.0->sentence-transformers) (1.13.1)\n",
            "Requirement already satisfied: mpmath<1.4,>=1.1.0 in /usr/local/lib/python3.11/dist-packages (from sympy==1.13.1->torch>=1.11.0->sentence-transformers) (1.3.0)\n",
            "Requirement already satisfied: pyproject_hooks in /usr/local/lib/python3.11/dist-packages (from build>=1.0.3->chromadb>=1.0.9->langchain-chroma) (1.2.0)\n",
            "Requirement already satisfied: httpcore==1.* in /usr/local/lib/python3.11/dist-packages (from httpx>=0.27.0->chromadb>=1.0.9->langchain-chroma) (1.0.9)\n",
            "Requirement already satisfied: h11>=0.16 in /usr/local/lib/python3.11/dist-packages (from httpcore==1.*->httpx>=0.27.0->chromadb>=1.0.9->langchain-chroma) (0.16.0)\n",
            "Requirement already satisfied: jsonpointer>=1.9 in /usr/local/lib/python3.11/dist-packages (from jsonpatch<2.0,>=1.33->langchain-core<1.0.0,>=0.3.58->langchain) (3.0.0)\n",
            "Requirement already satisfied: jsonschema-specifications>=2023.03.6 in /usr/local/lib/python3.11/dist-packages (from jsonschema>=4.19.0->chromadb>=1.0.9->langchain-chroma) (2025.4.1)\n",
            "Requirement already satisfied: referencing>=0.28.4 in /usr/local/lib/python3.11/dist-packages (from jsonschema>=4.19.0->chromadb>=1.0.9->langchain-chroma) (0.36.2)\n",
            "Requirement already satisfied: rpds-py>=0.7.1 in /usr/local/lib/python3.11/dist-packages (from jsonschema>=4.19.0->chromadb>=1.0.9->langchain-chroma) (0.24.0)\n",
            "Requirement already satisfied: six>=1.9.0 in /usr/local/lib/python3.11/dist-packages (from kubernetes>=28.1.0->chromadb>=1.0.9->langchain-chroma) (1.17.0)\n",
            "Requirement already satisfied: python-dateutil>=2.5.3 in /usr/local/lib/python3.11/dist-packages (from kubernetes>=28.1.0->chromadb>=1.0.9->langchain-chroma) (2.9.0.post0)\n",
            "Requirement already satisfied: google-auth>=1.0.1 in /usr/local/lib/python3.11/dist-packages (from kubernetes>=28.1.0->chromadb>=1.0.9->langchain-chroma) (2.38.0)\n",
            "Requirement already satisfied: websocket-client!=0.40.0,!=0.41.*,!=0.42.*,>=0.32.0 in /usr/local/lib/python3.11/dist-packages (from kubernetes>=28.1.0->chromadb>=1.0.9->langchain-chroma) (1.8.0)\n",
            "Requirement already satisfied: requests-oauthlib in /usr/local/lib/python3.11/dist-packages (from kubernetes>=28.1.0->chromadb>=1.0.9->langchain-chroma) (2.0.0)\n",
            "Requirement already satisfied: oauthlib>=3.2.2 in /usr/local/lib/python3.11/dist-packages (from kubernetes>=28.1.0->chromadb>=1.0.9->langchain-chroma) (3.2.2)\n",
            "Collecting durationpy>=0.7 (from kubernetes>=28.1.0->chromadb>=1.0.9->langchain-chroma)\n",
            "  Downloading durationpy-0.10-py3-none-any.whl.metadata (340 bytes)\n",
            "Collecting coloredlogs (from onnxruntime>=1.14.1->chromadb>=1.0.9->langchain-chroma)\n",
            "  Downloading coloredlogs-15.0.1-py2.py3-none-any.whl.metadata (12 kB)\n",
            "Requirement already satisfied: flatbuffers in /usr/local/lib/python3.11/dist-packages (from onnxruntime>=1.14.1->chromadb>=1.0.9->langchain-chroma) (25.2.10)\n",
            "Requirement already satisfied: protobuf in /usr/local/lib/python3.11/dist-packages (from onnxruntime>=1.14.1->chromadb>=1.0.9->langchain-chroma) (5.29.4)\n",
            "Collecting deprecated>=1.2.6 (from opentelemetry-api>=1.2.0->chromadb>=1.0.9->langchain-chroma)\n",
            "  Downloading Deprecated-1.2.18-py2.py3-none-any.whl.metadata (5.7 kB)\n",
            "Collecting importlib-metadata<8.7.0,>=6.0 (from opentelemetry-api>=1.2.0->chromadb>=1.0.9->langchain-chroma)\n",
            "  Downloading importlib_metadata-8.6.1-py3-none-any.whl.metadata (4.7 kB)\n",
            "Requirement already satisfied: googleapis-common-protos~=1.52 in /usr/local/lib/python3.11/dist-packages (from opentelemetry-exporter-otlp-proto-grpc>=1.2.0->chromadb>=1.0.9->langchain-chroma) (1.70.0)\n",
            "Collecting opentelemetry-exporter-otlp-proto-common==1.33.1 (from opentelemetry-exporter-otlp-proto-grpc>=1.2.0->chromadb>=1.0.9->langchain-chroma)\n",
            "  Downloading opentelemetry_exporter_otlp_proto_common-1.33.1-py3-none-any.whl.metadata (1.9 kB)\n",
            "Collecting opentelemetry-proto==1.33.1 (from opentelemetry-exporter-otlp-proto-grpc>=1.2.0->chromadb>=1.0.9->langchain-chroma)\n",
            "  Downloading opentelemetry_proto-1.33.1-py3-none-any.whl.metadata (2.4 kB)\n",
            "Collecting opentelemetry-instrumentation-asgi==0.54b1 (from opentelemetry-instrumentation-fastapi>=0.41b0->chromadb>=1.0.9->langchain-chroma)\n",
            "  Downloading opentelemetry_instrumentation_asgi-0.54b1-py3-none-any.whl.metadata (2.1 kB)\n",
            "Collecting opentelemetry-instrumentation==0.54b1 (from opentelemetry-instrumentation-fastapi>=0.41b0->chromadb>=1.0.9->langchain-chroma)\n",
            "  Downloading opentelemetry_instrumentation-0.54b1-py3-none-any.whl.metadata (6.8 kB)\n",
            "Collecting opentelemetry-semantic-conventions==0.54b1 (from opentelemetry-instrumentation-fastapi>=0.41b0->chromadb>=1.0.9->langchain-chroma)\n",
            "  Downloading opentelemetry_semantic_conventions-0.54b1-py3-none-any.whl.metadata (2.5 kB)\n",
            "Collecting opentelemetry-util-http==0.54b1 (from opentelemetry-instrumentation-fastapi>=0.41b0->chromadb>=1.0.9->langchain-chroma)\n",
            "  Downloading opentelemetry_util_http-0.54b1-py3-none-any.whl.metadata (2.6 kB)\n",
            "Requirement already satisfied: wrapt<2.0.0,>=1.0.0 in /usr/local/lib/python3.11/dist-packages (from opentelemetry-instrumentation==0.54b1->opentelemetry-instrumentation-fastapi>=0.41b0->chromadb>=1.0.9->langchain-chroma) (1.17.2)\n",
            "Collecting asgiref~=3.0 (from opentelemetry-instrumentation-asgi==0.54b1->opentelemetry-instrumentation-fastapi>=0.41b0->chromadb>=1.0.9->langchain-chroma)\n",
            "  Downloading asgiref-3.8.1-py3-none-any.whl.metadata (9.3 kB)\n",
            "Collecting backoff>=1.10.0 (from posthog>=2.4.0->chromadb>=1.0.9->langchain-chroma)\n",
            "  Downloading backoff-2.2.1-py3-none-any.whl.metadata (14 kB)\n",
            "Requirement already satisfied: markdown-it-py>=2.2.0 in /usr/local/lib/python3.11/dist-packages (from rich>=10.11.0->chromadb>=1.0.9->langchain-chroma) (3.0.0)\n",
            "Requirement already satisfied: pygments<3.0.0,>=2.13.0 in /usr/local/lib/python3.11/dist-packages (from rich>=10.11.0->chromadb>=1.0.9->langchain-chroma) (2.19.1)\n",
            "Requirement already satisfied: click>=8.0.0 in /usr/local/lib/python3.11/dist-packages (from typer>=0.9.0->chromadb>=1.0.9->langchain-chroma) (8.2.0)\n",
            "Requirement already satisfied: shellingham>=1.3.0 in /usr/local/lib/python3.11/dist-packages (from typer>=0.9.0->chromadb>=1.0.9->langchain-chroma) (1.5.4)\n",
            "Collecting mypy-extensions>=0.3.0 (from typing-inspect<1,>=0.4.0->dataclasses-json<0.7,>=0.5.7->langchain-community)\n",
            "  Downloading mypy_extensions-1.1.0-py3-none-any.whl.metadata (1.1 kB)\n",
            "Collecting httptools>=0.6.3 (from uvicorn[standard]>=0.18.3->chromadb>=1.0.9->langchain-chroma)\n",
            "  Downloading httptools-0.6.4-cp311-cp311-manylinux_2_5_x86_64.manylinux1_x86_64.manylinux_2_17_x86_64.manylinux2014_x86_64.whl.metadata (3.6 kB)\n",
            "Collecting uvloop!=0.15.0,!=0.15.1,>=0.14.0 (from uvicorn[standard]>=0.18.3->chromadb>=1.0.9->langchain-chroma)\n",
            "  Downloading uvloop-0.21.0-cp311-cp311-manylinux_2_17_x86_64.manylinux2014_x86_64.whl.metadata (4.9 kB)\n",
            "Collecting watchfiles>=0.13 (from uvicorn[standard]>=0.18.3->chromadb>=1.0.9->langchain-chroma)\n",
            "  Downloading watchfiles-1.0.5-cp311-cp311-manylinux_2_17_x86_64.manylinux2014_x86_64.whl.metadata (4.9 kB)\n",
            "Requirement already satisfied: websockets>=10.4 in /usr/local/lib/python3.11/dist-packages (from uvicorn[standard]>=0.18.3->chromadb>=1.0.9->langchain-chroma) (15.0.1)\n",
            "Requirement already satisfied: MarkupSafe>=2.0 in /usr/local/lib/python3.11/dist-packages (from jinja2->torch>=1.11.0->sentence-transformers) (3.0.2)\n",
            "Requirement already satisfied: cachetools<6.0,>=2.0.0 in /usr/local/lib/python3.11/dist-packages (from google-auth>=1.0.1->kubernetes>=28.1.0->chromadb>=1.0.9->langchain-chroma) (5.5.2)\n",
            "Requirement already satisfied: pyasn1-modules>=0.2.1 in /usr/local/lib/python3.11/dist-packages (from google-auth>=1.0.1->kubernetes>=28.1.0->chromadb>=1.0.9->langchain-chroma) (0.4.2)\n",
            "Requirement already satisfied: rsa<5,>=3.1.4 in /usr/local/lib/python3.11/dist-packages (from google-auth>=1.0.1->kubernetes>=28.1.0->chromadb>=1.0.9->langchain-chroma) (4.9.1)\n",
            "Requirement already satisfied: zipp>=3.20 in /usr/local/lib/python3.11/dist-packages (from importlib-metadata<8.7.0,>=6.0->opentelemetry-api>=1.2.0->chromadb>=1.0.9->langchain-chroma) (3.21.0)\n",
            "Requirement already satisfied: mdurl~=0.1 in /usr/local/lib/python3.11/dist-packages (from markdown-it-py>=2.2.0->rich>=10.11.0->chromadb>=1.0.9->langchain-chroma) (0.1.2)\n",
            "Collecting humanfriendly>=9.1 (from coloredlogs->onnxruntime>=1.14.1->chromadb>=1.0.9->langchain-chroma)\n",
            "  Downloading humanfriendly-10.0-py2.py3-none-any.whl.metadata (9.2 kB)\n",
            "Requirement already satisfied: pyasn1<0.7.0,>=0.6.1 in /usr/local/lib/python3.11/dist-packages (from pyasn1-modules>=0.2.1->google-auth>=1.0.1->kubernetes>=28.1.0->chromadb>=1.0.9->langchain-chroma) (0.6.1)\n",
            "Downloading langchain_openai-0.3.18-py3-none-any.whl (63 kB)\n",
            "\u001b[2K   \u001b[90m━━━━━━━━━━━━━━━━━━━━━━━━━━━━━━━━━━━━━━━━\u001b[0m \u001b[32m63.4/63.4 kB\u001b[0m \u001b[31m5.3 MB/s\u001b[0m eta \u001b[36m0:00:00\u001b[0m\n",
            "\u001b[?25hDownloading langchain_community-0.3.24-py3-none-any.whl (2.5 MB)\n",
            "\u001b[2K   \u001b[90m━━━━━━━━━━━━━━━━━━━━━━━━━━━━━━━━━━━━━━━━\u001b[0m \u001b[32m2.5/2.5 MB\u001b[0m \u001b[31m36.6 MB/s\u001b[0m eta \u001b[36m0:00:00\u001b[0m\n",
            "\u001b[?25hDownloading langchain_chroma-0.2.4-py3-none-any.whl (11 kB)\n",
            "Downloading python_dotenv-1.1.0-py3-none-any.whl (20 kB)\n",
            "Downloading faiss_cpu-1.11.0-cp311-cp311-manylinux_2_28_x86_64.whl (31.3 MB)\n",
            "\u001b[2K   \u001b[90m━━━━━━━━━━━━━━━━━━━━━━━━━━━━━━━━━━━━━━━━\u001b[0m \u001b[32m31.3/31.3 MB\u001b[0m \u001b[31m33.3 MB/s\u001b[0m eta \u001b[36m0:00:00\u001b[0m\n",
            "\u001b[?25hDownloading chromadb-1.0.10-cp39-abi3-manylinux_2_17_x86_64.manylinux2014_x86_64.whl (19.0 MB)\n",
            "\u001b[2K   \u001b[90m━━━━━━━━━━━━━━━━━━━━━━━━━━━━━━━━━━━━━━━━\u001b[0m \u001b[32m19.0/19.0 MB\u001b[0m \u001b[31m74.0 MB/s\u001b[0m eta \u001b[36m0:00:00\u001b[0m\n",
            "\u001b[?25hDownloading fastapi-0.115.9-py3-none-any.whl (94 kB)\n",
            "\u001b[2K   \u001b[90m━━━━━━━━━━━━━━━━━━━━━━━━━━━━━━━━━━━━━━━━\u001b[0m \u001b[32m94.9/94.9 kB\u001b[0m \u001b[31m7.4 MB/s\u001b[0m eta \u001b[36m0:00:00\u001b[0m\n",
            "\u001b[?25hDownloading dataclasses_json-0.6.7-py3-none-any.whl (28 kB)\n",
            "Downloading httpx_sse-0.4.0-py3-none-any.whl (7.8 kB)\n",
            "Downloading langchain_core-0.3.61-py3-none-any.whl (438 kB)\n",
            "\u001b[2K   \u001b[90m━━━━━━━━━━━━━━━━━━━━━━━━━━━━━━━━━━━━━━━━\u001b[0m \u001b[32m438.3/438.3 kB\u001b[0m \u001b[31m29.0 MB/s\u001b[0m eta \u001b[36m0:00:00\u001b[0m\n",
            "\u001b[?25hDownloading pydantic_settings-2.9.1-py3-none-any.whl (44 kB)\n",
            "\u001b[2K   \u001b[90m━━━━━━━━━━━━━━━━━━━━━━━━━━━━━━━━━━━━━━━━\u001b[0m \u001b[32m44.4/44.4 kB\u001b[0m \u001b[31m3.1 MB/s\u001b[0m eta \u001b[36m0:00:00\u001b[0m\n",
            "\u001b[?25hDownloading nvidia_cublas_cu12-12.4.5.8-py3-none-manylinux2014_x86_64.whl (363.4 MB)\n",
            "\u001b[2K   \u001b[90m━━━━━━━━━━━━━━━━━━━━━━━━━━━━━━━━━━━━━━━━\u001b[0m \u001b[32m363.4/363.4 MB\u001b[0m \u001b[31m4.4 MB/s\u001b[0m eta \u001b[36m0:00:00\u001b[0m\n",
            "\u001b[?25hDownloading nvidia_cuda_cupti_cu12-12.4.127-py3-none-manylinux2014_x86_64.whl (13.8 MB)\n",
            "\u001b[2K   \u001b[90m━━━━━━━━━━━━━━━━━━━━━━━━━━━━━━━━━━━━━━━━\u001b[0m \u001b[32m13.8/13.8 MB\u001b[0m \u001b[31m63.5 MB/s\u001b[0m eta \u001b[36m0:00:00\u001b[0m\n",
            "\u001b[?25hDownloading nvidia_cuda_nvrtc_cu12-12.4.127-py3-none-manylinux2014_x86_64.whl (24.6 MB)\n",
            "\u001b[2K   \u001b[90m━━━━━━━━━━━━━━━━━━━━━━━━━━━━━━━━━━━━━━━━\u001b[0m \u001b[32m24.6/24.6 MB\u001b[0m \u001b[31m79.3 MB/s\u001b[0m eta \u001b[36m0:00:00\u001b[0m\n",
            "\u001b[?25hDownloading nvidia_cuda_runtime_cu12-12.4.127-py3-none-manylinux2014_x86_64.whl (883 kB)\n",
            "\u001b[2K   \u001b[90m━━━━━━━━━━━━━━━━━━━━━━━━━━━━━━━━━━━━━━━━\u001b[0m \u001b[32m883.7/883.7 kB\u001b[0m \u001b[31m43.7 MB/s\u001b[0m eta \u001b[36m0:00:00\u001b[0m\n",
            "\u001b[?25hDownloading nvidia_cudnn_cu12-9.1.0.70-py3-none-manylinux2014_x86_64.whl (664.8 MB)\n",
            "\u001b[2K   \u001b[90m━━━━━━━━━━━━━━━━━━━━━━━━━━━━━━━━━━━━━━━━\u001b[0m \u001b[32m664.8/664.8 MB\u001b[0m \u001b[31m2.3 MB/s\u001b[0m eta \u001b[36m0:00:00\u001b[0m\n",
            "\u001b[?25hDownloading nvidia_cufft_cu12-11.2.1.3-py3-none-manylinux2014_x86_64.whl (211.5 MB)\n",
            "\u001b[2K   \u001b[90m━━━━━━━━━━━━━━━━━━━━━━━━━━━━━━━━━━━━━━━━\u001b[0m \u001b[32m211.5/211.5 MB\u001b[0m \u001b[31m4.0 MB/s\u001b[0m eta \u001b[36m0:00:00\u001b[0m\n",
            "\u001b[?25hDownloading nvidia_curand_cu12-10.3.5.147-py3-none-manylinux2014_x86_64.whl (56.3 MB)\n",
            "\u001b[2K   \u001b[90m━━━━━━━━━━━━━━━━━━━━━━━━━━━━━━━━━━━━━━━━\u001b[0m \u001b[32m56.3/56.3 MB\u001b[0m \u001b[31m8.0 MB/s\u001b[0m eta \u001b[36m0:00:00\u001b[0m\n",
            "\u001b[?25hDownloading nvidia_cusolver_cu12-11.6.1.9-py3-none-manylinux2014_x86_64.whl (127.9 MB)\n",
            "\u001b[2K   \u001b[90m━━━━━━━━━━━━━━━━━━━━━━━━━━━━━━━━━━━━━━━━\u001b[0m \u001b[32m127.9/127.9 MB\u001b[0m \u001b[31m7.6 MB/s\u001b[0m eta \u001b[36m0:00:00\u001b[0m\n",
            "\u001b[?25hDownloading nvidia_cusparse_cu12-12.3.1.170-py3-none-manylinux2014_x86_64.whl (207.5 MB)\n",
            "\u001b[2K   \u001b[90m━━━━━━━━━━━━━━━━━━━━━━━━━━━━━━━━━━━━━━━━\u001b[0m \u001b[32m207.5/207.5 MB\u001b[0m \u001b[31m5.8 MB/s\u001b[0m eta \u001b[36m0:00:00\u001b[0m\n",
            "\u001b[?25hDownloading nvidia_nvjitlink_cu12-12.4.127-py3-none-manylinux2014_x86_64.whl (21.1 MB)\n",
            "\u001b[2K   \u001b[90m━━━━━━━━━━━━━━━━━━━━━━━━━━━━━━━━━━━━━━━━\u001b[0m \u001b[32m21.1/21.1 MB\u001b[0m \u001b[31m64.0 MB/s\u001b[0m eta \u001b[36m0:00:00\u001b[0m\n",
            "\u001b[?25hDownloading bcrypt-4.3.0-cp39-abi3-manylinux_2_34_x86_64.whl (284 kB)\n",
            "\u001b[2K   \u001b[90m━━━━━━━━━━━━━━━━━━━━━━━━━━━━━━━━━━━━━━━━\u001b[0m \u001b[32m284.2/284.2 kB\u001b[0m \u001b[31m19.0 MB/s\u001b[0m eta \u001b[36m0:00:00\u001b[0m\n",
            "\u001b[?25hDownloading kubernetes-32.0.1-py2.py3-none-any.whl (2.0 MB)\n",
            "\u001b[2K   \u001b[90m━━━━━━━━━━━━━━━━━━━━━━━━━━━━━━━━━━━━━━━━\u001b[0m \u001b[32m2.0/2.0 MB\u001b[0m \u001b[31m55.8 MB/s\u001b[0m eta \u001b[36m0:00:00\u001b[0m\n",
            "\u001b[?25hDownloading marshmallow-3.26.1-py3-none-any.whl (50 kB)\n",
            "\u001b[2K   \u001b[90m━━━━━━━━━━━━━━━━━━━━━━━━━━━━━━━━━━━━━━━━\u001b[0m \u001b[32m50.9/50.9 kB\u001b[0m \u001b[31m3.3 MB/s\u001b[0m eta \u001b[36m0:00:00\u001b[0m\n",
            "\u001b[?25hDownloading mmh3-5.1.0-cp311-cp311-manylinux_2_5_x86_64.manylinux1_x86_64.manylinux_2_17_x86_64.manylinux2014_x86_64.whl (101 kB)\n",
            "\u001b[2K   \u001b[90m━━━━━━━━━━━━━━━━━━━━━━━━━━━━━━━━━━━━━━━━\u001b[0m \u001b[32m101.6/101.6 kB\u001b[0m \u001b[31m7.7 MB/s\u001b[0m eta \u001b[36m0:00:00\u001b[0m\n",
            "\u001b[?25hDownloading onnxruntime-1.22.0-cp311-cp311-manylinux_2_27_x86_64.manylinux_2_28_x86_64.whl (16.4 MB)\n",
            "\u001b[2K   \u001b[90m━━━━━━━━━━━━━━━━━━━━━━━━━━━━━━━━━━━━━━━━\u001b[0m \u001b[32m16.4/16.4 MB\u001b[0m \u001b[31m66.6 MB/s\u001b[0m eta \u001b[36m0:00:00\u001b[0m\n",
            "\u001b[?25hDownloading opentelemetry_api-1.33.1-py3-none-any.whl (65 kB)\n",
            "\u001b[2K   \u001b[90m━━━━━━━━━━━━━━━━━━━━━━━━━━━━━━━━━━━━━━━━\u001b[0m \u001b[32m65.8/65.8 kB\u001b[0m \u001b[31m4.6 MB/s\u001b[0m eta \u001b[36m0:00:00\u001b[0m\n",
            "\u001b[?25hDownloading opentelemetry_exporter_otlp_proto_grpc-1.33.1-py3-none-any.whl (18 kB)\n",
            "Downloading opentelemetry_exporter_otlp_proto_common-1.33.1-py3-none-any.whl (18 kB)\n",
            "Downloading opentelemetry_proto-1.33.1-py3-none-any.whl (55 kB)\n",
            "\u001b[2K   \u001b[90m━━━━━━━━━━━━━━━━━━━━━━━━━━━━━━━━━━━━━━━━\u001b[0m \u001b[32m55.9/55.9 kB\u001b[0m \u001b[31m4.1 MB/s\u001b[0m eta \u001b[36m0:00:00\u001b[0m\n",
            "\u001b[?25hDownloading opentelemetry_instrumentation_fastapi-0.54b1-py3-none-any.whl (12 kB)\n",
            "Downloading opentelemetry_instrumentation-0.54b1-py3-none-any.whl (31 kB)\n",
            "Downloading opentelemetry_instrumentation_asgi-0.54b1-py3-none-any.whl (16 kB)\n",
            "Downloading opentelemetry_semantic_conventions-0.54b1-py3-none-any.whl (194 kB)\n",
            "\u001b[2K   \u001b[90m━━━━━━━━━━━━━━━━━━━━━━━━━━━━━━━━━━━━━━━━\u001b[0m \u001b[32m194.9/194.9 kB\u001b[0m \u001b[31m15.3 MB/s\u001b[0m eta \u001b[36m0:00:00\u001b[0m\n",
            "\u001b[?25hDownloading opentelemetry_util_http-0.54b1-py3-none-any.whl (7.3 kB)\n",
            "Downloading opentelemetry_sdk-1.33.1-py3-none-any.whl (118 kB)\n",
            "\u001b[2K   \u001b[90m━━━━━━━━━━━━━━━━━━━━━━━━━━━━━━━━━━━━━━━━\u001b[0m \u001b[32m119.0/119.0 kB\u001b[0m \u001b[31m9.7 MB/s\u001b[0m eta \u001b[36m0:00:00\u001b[0m\n",
            "\u001b[?25hDownloading overrides-7.7.0-py3-none-any.whl (17 kB)\n",
            "Downloading posthog-4.2.0-py2.py3-none-any.whl (96 kB)\n",
            "\u001b[2K   \u001b[90m━━━━━━━━━━━━━━━━━━━━━━━━━━━━━━━━━━━━━━━━\u001b[0m \u001b[32m96.7/96.7 kB\u001b[0m \u001b[31m8.1 MB/s\u001b[0m eta \u001b[36m0:00:00\u001b[0m\n",
            "\u001b[?25hDownloading typing_inspect-0.9.0-py3-none-any.whl (8.8 kB)\n",
            "Downloading uvicorn-0.34.2-py3-none-any.whl (62 kB)\n",
            "\u001b[2K   \u001b[90m━━━━━━━━━━━━━━━━━━━━━━━━━━━━━━━━━━━━━━━━\u001b[0m \u001b[32m62.5/62.5 kB\u001b[0m \u001b[31m5.0 MB/s\u001b[0m eta \u001b[36m0:00:00\u001b[0m\n",
            "\u001b[?25hDownloading backoff-2.2.1-py3-none-any.whl (15 kB)\n",
            "Downloading Deprecated-1.2.18-py2.py3-none-any.whl (10.0 kB)\n",
            "Downloading durationpy-0.10-py3-none-any.whl (3.9 kB)\n",
            "Downloading httptools-0.6.4-cp311-cp311-manylinux_2_5_x86_64.manylinux1_x86_64.manylinux_2_17_x86_64.manylinux2014_x86_64.whl (459 kB)\n",
            "\u001b[2K   \u001b[90m━━━━━━━━━━━━━━━━━━━━━━━━━━━━━━━━━━━━━━━━\u001b[0m \u001b[32m459.8/459.8 kB\u001b[0m \u001b[31m32.3 MB/s\u001b[0m eta \u001b[36m0:00:00\u001b[0m\n",
            "\u001b[?25hDownloading importlib_metadata-8.6.1-py3-none-any.whl (26 kB)\n",
            "Downloading mypy_extensions-1.1.0-py3-none-any.whl (5.0 kB)\n",
            "Downloading starlette-0.45.3-py3-none-any.whl (71 kB)\n",
            "\u001b[2K   \u001b[90m━━━━━━━━━━━━━━━━━━━━━━━━━━━━━━━━━━━━━━━━\u001b[0m \u001b[32m71.5/71.5 kB\u001b[0m \u001b[31m6.0 MB/s\u001b[0m eta \u001b[36m0:00:00\u001b[0m\n",
            "\u001b[?25hDownloading uvloop-0.21.0-cp311-cp311-manylinux_2_17_x86_64.manylinux2014_x86_64.whl (4.0 MB)\n",
            "\u001b[2K   \u001b[90m━━━━━━━━━━━━━━━━━━━━━━━━━━━━━━━━━━━━━━━━\u001b[0m \u001b[32m4.0/4.0 MB\u001b[0m \u001b[31m97.5 MB/s\u001b[0m eta \u001b[36m0:00:00\u001b[0m\n",
            "\u001b[?25hDownloading watchfiles-1.0.5-cp311-cp311-manylinux_2_17_x86_64.manylinux2014_x86_64.whl (454 kB)\n",
            "\u001b[2K   \u001b[90m━━━━━━━━━━━━━━━━━━━━━━━━━━━━━━━━━━━━━━━━\u001b[0m \u001b[32m454.8/454.8 kB\u001b[0m \u001b[31m30.2 MB/s\u001b[0m eta \u001b[36m0:00:00\u001b[0m\n",
            "\u001b[?25hDownloading coloredlogs-15.0.1-py2.py3-none-any.whl (46 kB)\n",
            "\u001b[2K   \u001b[90m━━━━━━━━━━━━━━━━━━━━━━━━━━━━━━━━━━━━━━━━\u001b[0m \u001b[32m46.0/46.0 kB\u001b[0m \u001b[31m3.0 MB/s\u001b[0m eta \u001b[36m0:00:00\u001b[0m\n",
            "\u001b[?25hDownloading asgiref-3.8.1-py3-none-any.whl (23 kB)\n",
            "Downloading humanfriendly-10.0-py2.py3-none-any.whl (86 kB)\n",
            "\u001b[2K   \u001b[90m━━━━━━━━━━━━━━━━━━━━━━━━━━━━━━━━━━━━━━━━\u001b[0m \u001b[32m86.8/86.8 kB\u001b[0m \u001b[31m7.3 MB/s\u001b[0m eta \u001b[36m0:00:00\u001b[0m\n",
            "\u001b[?25hBuilding wheels for collected packages: pypika\n",
            "  Building wheel for pypika (pyproject.toml) ... \u001b[?25l\u001b[?25hdone\n",
            "  Created wheel for pypika: filename=pypika-0.48.9-py2.py3-none-any.whl size=53801 sha256=ea54ef2810e7abacf9a9d3e395ce818aa75389257080659fa7279f15d262449c\n",
            "  Stored in directory: /root/.cache/pip/wheels/a3/01/bd/4c40ceb9d5354160cb186dcc153360f4ab7eb23e2b24daf96d\n",
            "Successfully built pypika\n",
            "Installing collected packages: pypika, durationpy, uvloop, uvicorn, python-dotenv, overrides, opentelemetry-util-http, opentelemetry-proto, nvidia-nvjitlink-cu12, nvidia-curand-cu12, nvidia-cufft-cu12, nvidia-cuda-runtime-cu12, nvidia-cuda-nvrtc-cu12, nvidia-cuda-cupti-cu12, nvidia-cublas-cu12, mypy-extensions, mmh3, marshmallow, importlib-metadata, humanfriendly, httpx-sse, httptools, faiss-cpu, deprecated, bcrypt, backoff, asgiref, watchfiles, typing-inspect, starlette, posthog, opentelemetry-exporter-otlp-proto-common, opentelemetry-api, nvidia-cusparse-cu12, nvidia-cudnn-cu12, coloredlogs, pydantic-settings, opentelemetry-semantic-conventions, onnxruntime, nvidia-cusolver-cu12, kubernetes, fastapi, dataclasses-json, opentelemetry-sdk, opentelemetry-instrumentation, langchain-core, opentelemetry-instrumentation-asgi, opentelemetry-exporter-otlp-proto-grpc, langchain-openai, opentelemetry-instrumentation-fastapi, langchain-community, chromadb, langchain-chroma\n",
            "  Attempting uninstall: nvidia-nvjitlink-cu12\n",
            "    Found existing installation: nvidia-nvjitlink-cu12 12.5.82\n",
            "    Uninstalling nvidia-nvjitlink-cu12-12.5.82:\n",
            "      Successfully uninstalled nvidia-nvjitlink-cu12-12.5.82\n",
            "  Attempting uninstall: nvidia-curand-cu12\n",
            "    Found existing installation: nvidia-curand-cu12 10.3.6.82\n",
            "    Uninstalling nvidia-curand-cu12-10.3.6.82:\n",
            "      Successfully uninstalled nvidia-curand-cu12-10.3.6.82\n",
            "  Attempting uninstall: nvidia-cufft-cu12\n",
            "    Found existing installation: nvidia-cufft-cu12 11.2.3.61\n",
            "    Uninstalling nvidia-cufft-cu12-11.2.3.61:\n",
            "      Successfully uninstalled nvidia-cufft-cu12-11.2.3.61\n",
            "  Attempting uninstall: nvidia-cuda-runtime-cu12\n",
            "    Found existing installation: nvidia-cuda-runtime-cu12 12.5.82\n",
            "    Uninstalling nvidia-cuda-runtime-cu12-12.5.82:\n",
            "      Successfully uninstalled nvidia-cuda-runtime-cu12-12.5.82\n",
            "  Attempting uninstall: nvidia-cuda-nvrtc-cu12\n",
            "    Found existing installation: nvidia-cuda-nvrtc-cu12 12.5.82\n",
            "    Uninstalling nvidia-cuda-nvrtc-cu12-12.5.82:\n",
            "      Successfully uninstalled nvidia-cuda-nvrtc-cu12-12.5.82\n",
            "  Attempting uninstall: nvidia-cuda-cupti-cu12\n",
            "    Found existing installation: nvidia-cuda-cupti-cu12 12.5.82\n",
            "    Uninstalling nvidia-cuda-cupti-cu12-12.5.82:\n",
            "      Successfully uninstalled nvidia-cuda-cupti-cu12-12.5.82\n",
            "  Attempting uninstall: nvidia-cublas-cu12\n",
            "    Found existing installation: nvidia-cublas-cu12 12.5.3.2\n",
            "    Uninstalling nvidia-cublas-cu12-12.5.3.2:\n",
            "      Successfully uninstalled nvidia-cublas-cu12-12.5.3.2\n",
            "  Attempting uninstall: importlib-metadata\n",
            "    Found existing installation: importlib_metadata 8.7.0\n",
            "    Uninstalling importlib_metadata-8.7.0:\n",
            "      Successfully uninstalled importlib_metadata-8.7.0\n",
            "  Attempting uninstall: nvidia-cusparse-cu12\n",
            "    Found existing installation: nvidia-cusparse-cu12 12.5.1.3\n",
            "    Uninstalling nvidia-cusparse-cu12-12.5.1.3:\n",
            "      Successfully uninstalled nvidia-cusparse-cu12-12.5.1.3\n",
            "  Attempting uninstall: nvidia-cudnn-cu12\n",
            "    Found existing installation: nvidia-cudnn-cu12 9.3.0.75\n",
            "    Uninstalling nvidia-cudnn-cu12-9.3.0.75:\n",
            "      Successfully uninstalled nvidia-cudnn-cu12-9.3.0.75\n",
            "  Attempting uninstall: nvidia-cusolver-cu12\n",
            "    Found existing installation: nvidia-cusolver-cu12 11.6.3.83\n",
            "    Uninstalling nvidia-cusolver-cu12-11.6.3.83:\n",
            "      Successfully uninstalled nvidia-cusolver-cu12-11.6.3.83\n",
            "  Attempting uninstall: langchain-core\n",
            "    Found existing installation: langchain-core 0.3.59\n",
            "    Uninstalling langchain-core-0.3.59:\n",
            "      Successfully uninstalled langchain-core-0.3.59\n",
            "Successfully installed asgiref-3.8.1 backoff-2.2.1 bcrypt-4.3.0 chromadb-1.0.10 coloredlogs-15.0.1 dataclasses-json-0.6.7 deprecated-1.2.18 durationpy-0.10 faiss-cpu-1.11.0 fastapi-0.115.9 httptools-0.6.4 httpx-sse-0.4.0 humanfriendly-10.0 importlib-metadata-8.6.1 kubernetes-32.0.1 langchain-chroma-0.2.4 langchain-community-0.3.24 langchain-core-0.3.61 langchain-openai-0.3.18 marshmallow-3.26.1 mmh3-5.1.0 mypy-extensions-1.1.0 nvidia-cublas-cu12-12.4.5.8 nvidia-cuda-cupti-cu12-12.4.127 nvidia-cuda-nvrtc-cu12-12.4.127 nvidia-cuda-runtime-cu12-12.4.127 nvidia-cudnn-cu12-9.1.0.70 nvidia-cufft-cu12-11.2.1.3 nvidia-curand-cu12-10.3.5.147 nvidia-cusolver-cu12-11.6.1.9 nvidia-cusparse-cu12-12.3.1.170 nvidia-nvjitlink-cu12-12.4.127 onnxruntime-1.22.0 opentelemetry-api-1.33.1 opentelemetry-exporter-otlp-proto-common-1.33.1 opentelemetry-exporter-otlp-proto-grpc-1.33.1 opentelemetry-instrumentation-0.54b1 opentelemetry-instrumentation-asgi-0.54b1 opentelemetry-instrumentation-fastapi-0.54b1 opentelemetry-proto-1.33.1 opentelemetry-sdk-1.33.1 opentelemetry-semantic-conventions-0.54b1 opentelemetry-util-http-0.54b1 overrides-7.7.0 posthog-4.2.0 pydantic-settings-2.9.1 pypika-0.48.9 python-dotenv-1.1.0 starlette-0.45.3 typing-inspect-0.9.0 uvicorn-0.34.2 uvloop-0.21.0 watchfiles-1.0.5\n"
          ]
        },
        {
          "output_type": "display_data",
          "data": {
            "application/vnd.colab-display-data+json": {
              "pip_warning": {
                "packages": [
                  "importlib_metadata"
                ]
              },
              "id": "e101ccbb83f5475dbe865a1d6dc76613"
            }
          },
          "metadata": {}
        }
      ]
    },
    {
      "cell_type": "markdown",
      "source": [
        "# Imports"
      ],
      "metadata": {
        "id": "NfJgIrDWrbaK"
      }
    },
    {
      "cell_type": "code",
      "execution_count": 150,
      "metadata": {
        "id": "aUj7B54cziVV"
      },
      "outputs": [],
      "source": [
        "# Langchain Family\n",
        "from langchain.document_loaders import DirectoryLoader, TextLoader\n",
        "from langchain.text_splitter import CharacterTextSplitter\n",
        "from langchain_openai import ChatOpenAI, OpenAI\n",
        "from langchain_chroma import Chroma\n",
        "from langchain.memory import ConversationBufferMemory\n",
        "from langchain.chains import ConversationalRetrievalChain\n",
        "from langchain.embeddings import HuggingFaceEmbeddings\n",
        "\n",
        "\n",
        "# Basic Libraries\n",
        "import os\n",
        "import glob\n",
        "import numpy as np\n",
        "\n",
        "# Metrics & Visulaization\n",
        "from sklearn.manifold import TSNE\n",
        "import plotly.graph_objects as go\n",
        "import seaborn as sns\n",
        "import matplotlib.pyplot as plt\n",
        "import matplotlib\n",
        "from IPython.display import Markdown, display\n",
        "from sklearn.metrics.pairwise import cosine_similarity\n",
        "import faiss\n"
      ]
    },
    {
      "cell_type": "code",
      "source": [
        "# Get OpenAI Token\n",
        "from google.colab import userdata\n",
        "openai_token = userdata.get('OPENAI_TOKEN')\n",
        "if openai_token:\n",
        "  print(\"OpenAI Token Retrieved Successfully\")\n",
        "  print(openai_token[:2]+'-xxx-xxx')\n",
        "else:\n",
        "  print(\"Failed to get OpenAI Token\")"
      ],
      "metadata": {
        "colab": {
          "base_uri": "https://localhost:8080/"
        },
        "id": "0dCewquDp-ik",
        "outputId": "d2f63bcd-af50-4de6-9e7d-ce3c0ef1e5dc"
      },
      "execution_count": 151,
      "outputs": [
        {
          "output_type": "stream",
          "name": "stdout",
          "text": [
            "OpenAI Token Retrieved Successfully\n",
            "sk-xxx-xxx\n"
          ]
        }
      ]
    },
    {
      "cell_type": "markdown",
      "source": [
        "# Loading & Chunking Documents"
      ],
      "metadata": {
        "id": "aFAQyAd8z9AR"
      }
    },
    {
      "cell_type": "code",
      "execution_count": 152,
      "metadata": {
        "id": "TI2Tb1iEziVa",
        "colab": {
          "base_uri": "https://localhost:8080/"
        },
        "outputId": "c934e620-6e16-4281-fda6-d9a3246cd2f8"
      },
      "outputs": [
        {
          "output_type": "execute_result",
          "data": {
            "text/plain": [
              "51"
            ]
          },
          "metadata": {},
          "execution_count": 152
        }
      ],
      "source": [
        "# Read in documents using LangChain's loaders\n",
        "# Take everything in all the sub-folders of our knowledgebase\n",
        "folders = glob.glob(\"knowledge-base2/\")\n",
        "text_loader_kwargs = {'encoding': 'utf-8'}\n",
        "\n",
        "# Defiing documents list\n",
        "documents = []\n",
        "\n",
        "for folder in folders:\n",
        "    loader = DirectoryLoader(folder, glob=\"**/*.txt\", loader_cls=TextLoader, loader_kwargs=text_loader_kwargs)\n",
        "    folder_docs = loader.load()\n",
        "    for doc in folder_docs:\n",
        "        file_name = os.path.basename(doc.metadata[\"source\"])\n",
        "        doc.metadata[\"doc_type\"] = os.path.splitext(file_name)[0]\n",
        "        documents.append(doc)\n",
        "\n",
        "# Getting length of documents found\n",
        "len(documents)"
      ]
    },
    {
      "cell_type": "code",
      "execution_count": 153,
      "metadata": {
        "colab": {
          "base_uri": "https://localhost:8080/"
        },
        "id": "z-dQpCvoziVb",
        "outputId": "8e4aef96-217c-475a-c07e-9067b270e133"
      },
      "outputs": [
        {
          "output_type": "execute_result",
          "data": {
            "text/plain": [
              "{'source': 'knowledge-base2/Genetic Engineering.txt',\n",
              " 'doc_type': 'Genetic Engineering'}"
            ]
          },
          "metadata": {},
          "execution_count": 153
        }
      ],
      "source": [
        "# Exploring metadata of a sample\n",
        "documents[1].metadata"
      ]
    },
    {
      "cell_type": "code",
      "execution_count": 154,
      "metadata": {
        "id": "NR-vrleMziVb",
        "colab": {
          "base_uri": "https://localhost:8080/"
        },
        "outputId": "6db14b36-cb1f-40b6-a257-37416dbbf8f1",
        "collapsed": true
      },
      "outputs": [
        {
          "output_type": "stream",
          "name": "stderr",
          "text": [
            "WARNING:langchain_text_splitters.base:Created a chunk of size 584, which is longer than the specified 500\n",
            "WARNING:langchain_text_splitters.base:Created a chunk of size 513, which is longer than the specified 500\n",
            "WARNING:langchain_text_splitters.base:Created a chunk of size 549, which is longer than the specified 500\n",
            "WARNING:langchain_text_splitters.base:Created a chunk of size 593, which is longer than the specified 500\n",
            "WARNING:langchain_text_splitters.base:Created a chunk of size 636, which is longer than the specified 500\n",
            "WARNING:langchain_text_splitters.base:Created a chunk of size 530, which is longer than the specified 500\n",
            "WARNING:langchain_text_splitters.base:Created a chunk of size 709, which is longer than the specified 500\n",
            "WARNING:langchain_text_splitters.base:Created a chunk of size 804, which is longer than the specified 500\n",
            "WARNING:langchain_text_splitters.base:Created a chunk of size 627, which is longer than the specified 500\n",
            "WARNING:langchain_text_splitters.base:Created a chunk of size 746, which is longer than the specified 500\n",
            "WARNING:langchain_text_splitters.base:Created a chunk of size 934, which is longer than the specified 500\n",
            "WARNING:langchain_text_splitters.base:Created a chunk of size 904, which is longer than the specified 500\n",
            "WARNING:langchain_text_splitters.base:Created a chunk of size 781, which is longer than the specified 500\n",
            "WARNING:langchain_text_splitters.base:Created a chunk of size 818, which is longer than the specified 500\n",
            "WARNING:langchain_text_splitters.base:Created a chunk of size 552, which is longer than the specified 500\n",
            "WARNING:langchain_text_splitters.base:Created a chunk of size 769, which is longer than the specified 500\n",
            "WARNING:langchain_text_splitters.base:Created a chunk of size 826, which is longer than the specified 500\n",
            "WARNING:langchain_text_splitters.base:Created a chunk of size 783, which is longer than the specified 500\n",
            "WARNING:langchain_text_splitters.base:Created a chunk of size 752, which is longer than the specified 500\n",
            "WARNING:langchain_text_splitters.base:Created a chunk of size 544, which is longer than the specified 500\n",
            "WARNING:langchain_text_splitters.base:Created a chunk of size 524, which is longer than the specified 500\n",
            "WARNING:langchain_text_splitters.base:Created a chunk of size 556, which is longer than the specified 500\n",
            "WARNING:langchain_text_splitters.base:Created a chunk of size 644, which is longer than the specified 500\n",
            "WARNING:langchain_text_splitters.base:Created a chunk of size 610, which is longer than the specified 500\n",
            "WARNING:langchain_text_splitters.base:Created a chunk of size 733, which is longer than the specified 500\n",
            "WARNING:langchain_text_splitters.base:Created a chunk of size 504, which is longer than the specified 500\n",
            "WARNING:langchain_text_splitters.base:Created a chunk of size 639, which is longer than the specified 500\n",
            "WARNING:langchain_text_splitters.base:Created a chunk of size 650, which is longer than the specified 500\n",
            "WARNING:langchain_text_splitters.base:Created a chunk of size 581, which is longer than the specified 500\n",
            "WARNING:langchain_text_splitters.base:Created a chunk of size 616, which is longer than the specified 500\n",
            "WARNING:langchain_text_splitters.base:Created a chunk of size 644, which is longer than the specified 500\n",
            "WARNING:langchain_text_splitters.base:Created a chunk of size 530, which is longer than the specified 500\n",
            "WARNING:langchain_text_splitters.base:Created a chunk of size 510, which is longer than the specified 500\n",
            "WARNING:langchain_text_splitters.base:Created a chunk of size 558, which is longer than the specified 500\n",
            "WARNING:langchain_text_splitters.base:Created a chunk of size 768, which is longer than the specified 500\n",
            "WARNING:langchain_text_splitters.base:Created a chunk of size 570, which is longer than the specified 500\n",
            "WARNING:langchain_text_splitters.base:Created a chunk of size 535, which is longer than the specified 500\n",
            "WARNING:langchain_text_splitters.base:Created a chunk of size 625, which is longer than the specified 500\n",
            "WARNING:langchain_text_splitters.base:Created a chunk of size 675, which is longer than the specified 500\n",
            "WARNING:langchain_text_splitters.base:Created a chunk of size 526, which is longer than the specified 500\n",
            "WARNING:langchain_text_splitters.base:Created a chunk of size 613, which is longer than the specified 500\n",
            "WARNING:langchain_text_splitters.base:Created a chunk of size 581, which is longer than the specified 500\n",
            "WARNING:langchain_text_splitters.base:Created a chunk of size 513, which is longer than the specified 500\n",
            "WARNING:langchain_text_splitters.base:Created a chunk of size 508, which is longer than the specified 500\n",
            "WARNING:langchain_text_splitters.base:Created a chunk of size 521, which is longer than the specified 500\n",
            "WARNING:langchain_text_splitters.base:Created a chunk of size 586, which is longer than the specified 500\n",
            "WARNING:langchain_text_splitters.base:Created a chunk of size 736, which is longer than the specified 500\n",
            "WARNING:langchain_text_splitters.base:Created a chunk of size 699, which is longer than the specified 500\n",
            "WARNING:langchain_text_splitters.base:Created a chunk of size 570, which is longer than the specified 500\n",
            "WARNING:langchain_text_splitters.base:Created a chunk of size 716, which is longer than the specified 500\n",
            "WARNING:langchain_text_splitters.base:Created a chunk of size 780, which is longer than the specified 500\n",
            "WARNING:langchain_text_splitters.base:Created a chunk of size 714, which is longer than the specified 500\n",
            "WARNING:langchain_text_splitters.base:Created a chunk of size 742, which is longer than the specified 500\n",
            "WARNING:langchain_text_splitters.base:Created a chunk of size 566, which is longer than the specified 500\n",
            "WARNING:langchain_text_splitters.base:Created a chunk of size 539, which is longer than the specified 500\n",
            "WARNING:langchain_text_splitters.base:Created a chunk of size 614, which is longer than the specified 500\n",
            "WARNING:langchain_text_splitters.base:Created a chunk of size 575, which is longer than the specified 500\n",
            "WARNING:langchain_text_splitters.base:Created a chunk of size 562, which is longer than the specified 500\n",
            "WARNING:langchain_text_splitters.base:Created a chunk of size 555, which is longer than the specified 500\n",
            "WARNING:langchain_text_splitters.base:Created a chunk of size 557, which is longer than the specified 500\n",
            "WARNING:langchain_text_splitters.base:Created a chunk of size 514, which is longer than the specified 500\n",
            "WARNING:langchain_text_splitters.base:Created a chunk of size 554, which is longer than the specified 500\n",
            "WARNING:langchain_text_splitters.base:Created a chunk of size 550, which is longer than the specified 500\n",
            "WARNING:langchain_text_splitters.base:Created a chunk of size 620, which is longer than the specified 500\n",
            "WARNING:langchain_text_splitters.base:Created a chunk of size 603, which is longer than the specified 500\n",
            "WARNING:langchain_text_splitters.base:Created a chunk of size 746, which is longer than the specified 500\n",
            "WARNING:langchain_text_splitters.base:Created a chunk of size 826, which is longer than the specified 500\n",
            "WARNING:langchain_text_splitters.base:Created a chunk of size 772, which is longer than the specified 500\n",
            "WARNING:langchain_text_splitters.base:Created a chunk of size 596, which is longer than the specified 500\n",
            "WARNING:langchain_text_splitters.base:Created a chunk of size 572, which is longer than the specified 500\n",
            "WARNING:langchain_text_splitters.base:Created a chunk of size 603, which is longer than the specified 500\n",
            "WARNING:langchain_text_splitters.base:Created a chunk of size 633, which is longer than the specified 500\n",
            "WARNING:langchain_text_splitters.base:Created a chunk of size 586, which is longer than the specified 500\n",
            "WARNING:langchain_text_splitters.base:Created a chunk of size 613, which is longer than the specified 500\n",
            "WARNING:langchain_text_splitters.base:Created a chunk of size 509, which is longer than the specified 500\n",
            "WARNING:langchain_text_splitters.base:Created a chunk of size 562, which is longer than the specified 500\n",
            "WARNING:langchain_text_splitters.base:Created a chunk of size 785, which is longer than the specified 500\n",
            "WARNING:langchain_text_splitters.base:Created a chunk of size 504, which is longer than the specified 500\n",
            "WARNING:langchain_text_splitters.base:Created a chunk of size 530, which is longer than the specified 500\n",
            "WARNING:langchain_text_splitters.base:Created a chunk of size 508, which is longer than the specified 500\n",
            "WARNING:langchain_text_splitters.base:Created a chunk of size 551, which is longer than the specified 500\n",
            "WARNING:langchain_text_splitters.base:Created a chunk of size 791, which is longer than the specified 500\n",
            "WARNING:langchain_text_splitters.base:Created a chunk of size 505, which is longer than the specified 500\n",
            "WARNING:langchain_text_splitters.base:Created a chunk of size 766, which is longer than the specified 500\n",
            "WARNING:langchain_text_splitters.base:Created a chunk of size 885, which is longer than the specified 500\n",
            "WARNING:langchain_text_splitters.base:Created a chunk of size 822, which is longer than the specified 500\n",
            "WARNING:langchain_text_splitters.base:Created a chunk of size 699, which is longer than the specified 500\n",
            "WARNING:langchain_text_splitters.base:Created a chunk of size 508, which is longer than the specified 500\n",
            "WARNING:langchain_text_splitters.base:Created a chunk of size 547, which is longer than the specified 500\n",
            "WARNING:langchain_text_splitters.base:Created a chunk of size 623, which is longer than the specified 500\n",
            "WARNING:langchain_text_splitters.base:Created a chunk of size 598, which is longer than the specified 500\n",
            "WARNING:langchain_text_splitters.base:Created a chunk of size 618, which is longer than the specified 500\n",
            "WARNING:langchain_text_splitters.base:Created a chunk of size 676, which is longer than the specified 500\n",
            "WARNING:langchain_text_splitters.base:Created a chunk of size 554, which is longer than the specified 500\n",
            "WARNING:langchain_text_splitters.base:Created a chunk of size 682, which is longer than the specified 500\n",
            "WARNING:langchain_text_splitters.base:Created a chunk of size 731, which is longer than the specified 500\n",
            "WARNING:langchain_text_splitters.base:Created a chunk of size 722, which is longer than the specified 500\n",
            "WARNING:langchain_text_splitters.base:Created a chunk of size 590, which is longer than the specified 500\n",
            "WARNING:langchain_text_splitters.base:Created a chunk of size 607, which is longer than the specified 500\n",
            "WARNING:langchain_text_splitters.base:Created a chunk of size 593, which is longer than the specified 500\n",
            "WARNING:langchain_text_splitters.base:Created a chunk of size 669, which is longer than the specified 500\n",
            "WARNING:langchain_text_splitters.base:Created a chunk of size 504, which is longer than the specified 500\n",
            "WARNING:langchain_text_splitters.base:Created a chunk of size 686, which is longer than the specified 500\n",
            "WARNING:langchain_text_splitters.base:Created a chunk of size 704, which is longer than the specified 500\n",
            "WARNING:langchain_text_splitters.base:Created a chunk of size 651, which is longer than the specified 500\n",
            "WARNING:langchain_text_splitters.base:Created a chunk of size 625, which is longer than the specified 500\n",
            "WARNING:langchain_text_splitters.base:Created a chunk of size 584, which is longer than the specified 500\n",
            "WARNING:langchain_text_splitters.base:Created a chunk of size 643, which is longer than the specified 500\n",
            "WARNING:langchain_text_splitters.base:Created a chunk of size 537, which is longer than the specified 500\n",
            "WARNING:langchain_text_splitters.base:Created a chunk of size 761, which is longer than the specified 500\n",
            "WARNING:langchain_text_splitters.base:Created a chunk of size 702, which is longer than the specified 500\n",
            "WARNING:langchain_text_splitters.base:Created a chunk of size 808, which is longer than the specified 500\n",
            "WARNING:langchain_text_splitters.base:Created a chunk of size 573, which is longer than the specified 500\n",
            "WARNING:langchain_text_splitters.base:Created a chunk of size 556, which is longer than the specified 500\n",
            "WARNING:langchain_text_splitters.base:Created a chunk of size 549, which is longer than the specified 500\n"
          ]
        }
      ],
      "source": [
        "# Splitting Text into chunks with overlapping\n",
        "\n",
        "text_splitter = CharacterTextSplitter(separator=\"\\n\", chunk_size=500, chunk_overlap=50)\n",
        "chunks = text_splitter.split_documents(documents)"
      ]
    },
    {
      "cell_type": "code",
      "execution_count": 155,
      "metadata": {
        "colab": {
          "base_uri": "https://localhost:8080/"
        },
        "id": "4fj4krbUziVb",
        "outputId": "1abdc56b-3039-4823-f0e4-165c1d125830"
      },
      "outputs": [
        {
          "output_type": "execute_result",
          "data": {
            "text/plain": [
              "222"
            ]
          },
          "metadata": {},
          "execution_count": 155
        }
      ],
      "source": [
        "# Getting how many chunks\n",
        "len(chunks)"
      ]
    },
    {
      "cell_type": "code",
      "execution_count": 156,
      "metadata": {
        "colab": {
          "base_uri": "https://localhost:8080/"
        },
        "id": "C1lQUVFIziVc",
        "outputId": "8a0394fa-7cae-448f-de2a-f95f1fd3440c"
      },
      "outputs": [
        {
          "output_type": "execute_result",
          "data": {
            "text/plain": [
              "Document(metadata={'source': 'knowledge-base2/Genetic Engineering.txt', 'doc_type': 'Genetic Engineering'}, page_content='One of the most widely used techniques in genetic engineering is gene cloning, which involves making many copies of a specific gene. Another powerful tool is CRISPR-Cas9, a revolutionary gene editing technology that allows for precise modifications to the DNA sequence in living cells. Genetic engineering has numerous applications. In medicine, it is used to produce therapeutic proteins (e.g., insulin), develop gene therapies for genetic disorders, and create genetically modified cells for immunotherapy. In agriculture, it is used to develop crops with increased yields, enhanced nutritional value, and resistance to pests and herbicides. While offering immense potential, genetic engineering also raises ethical and safety concerns that need to be carefully considered and regulated.')"
            ]
          },
          "metadata": {},
          "execution_count": 156
        }
      ],
      "source": [
        "# Exploring a random chunk\n",
        "chunks[5]"
      ]
    },
    {
      "cell_type": "code",
      "execution_count": 157,
      "metadata": {
        "id": "GwrC3ChZziVc",
        "colab": {
          "base_uri": "https://localhost:8080/"
        },
        "outputId": "5e2a9ccb-21e0-4e72-d347-d70dfacfe49a"
      },
      "outputs": [
        {
          "output_type": "stream",
          "name": "stdout",
          "text": [
            "Document types found: machine_learning, Numerical Methods, genetic_engineering, pharmacokinetics, Probability and Statistics, Ecology, database_systems, Electromagnetism, Pharmaceutical Chemistry, Software Engineering, structural_engineering, thermodynamics_1, fluid_dynamics, Artificial Intelligence, Materials Science Engineering, Genetics, quantum_computing, Pharmacology, Chemical Thermodynamics, organic_chemistry, neural_networks, differential_equations, optics, Protein Chemistry, Linear algebra, immunology_1, Molecular biology, polymer_science, molecular_biology, Physical Chemistry, Numerical Analysis, Quantum Mechanics, Immunology, Biomaterials Engineering, Thermodynamics, Analytical Chemistry, Biotechnology, astrophysics, cryptography, Data structures, biochemistry, Clinical Pharmacy, Semiconductor Physics, Fluid mechanics, nanotechnology, Control Systems Engineering, Renewable energy, Genetic Engineering, semiconductor_physics, Organic Chemistry, Calculus_\n"
          ]
        }
      ],
      "source": [
        "# Outputting all documents in knowledge-base storage\n",
        "doc_types = set(chunk.metadata['doc_type'] for chunk in chunks)\n",
        "print(f\"Document types found: {', '.join(doc_types)}\")"
      ]
    },
    {
      "cell_type": "code",
      "execution_count": 158,
      "metadata": {
        "id": "JJ2e_MBoziVc",
        "colab": {
          "base_uri": "https://localhost:8080/"
        },
        "outputId": "e453b2a9-ee4f-4cf5-c93d-db7e127b8796"
      },
      "outputs": [
        {
          "output_type": "stream",
          "name": "stdout",
          "text": [
            "knowledge-base2/Artificial Intelligence.txt page_content='Artificial Intelligence (AI) in computer science is the field dedicated to creating systems that can perform tasks that typically require human intelligence. This includes learning from experience, understanding natural language, recognizing patterns, solving problems, and making decisions. The goal of AI is to develop intelligent agents, which are systems that can perceive their environment and take actions to maximize their chances of achieving a goal.' metadata={'source': 'knowledge-base2/Artificial Intelligence.txt', 'doc_type': 'Artificial Intelligence'}\n",
            "--------------------------------------\n",
            "knowledge-base2/Artificial Intelligence.txt page_content='AI encompasses a wide range of approaches and subfields. Machine learning, a prominent subfield, focuses on developing algorithms that allow computers to learn from data without being explicitly programmed. This includes supervised learning (learning from labeled data), unsupervised learning (finding patterns in unlabeled data), and reinforcement learning (learning through trial and error). Deep learning, a subset of machine learning, utilizes artificial neural networks with multiple layers to process complex data like images, audio, and text.' metadata={'source': 'knowledge-base2/Artificial Intelligence.txt', 'doc_type': 'Artificial Intelligence'}\n",
            "--------------------------------------\n",
            "knowledge-base2/Artificial Intelligence.txt page_content='Other areas within AI include natural language processing (enabling computers to understand and generate human language), computer vision (enabling computers to \"see\" and interpret images), robotics (designing and programming robots to perform tasks), and expert systems (systems that mimic the decision-making ability of a human expert). AI has numerous applications across various industries, including healthcare (medical diagnosis, drug discovery), finance (fraud detection, algorithmic trading), transportation (autonomous vehicles), and entertainment (recommendation systems). While AI offers significant potential to improve lives and solve complex problems, it also raises important ethical considerations regarding bias, privacy, and the future of work.' metadata={'source': 'knowledge-base2/Artificial Intelligence.txt', 'doc_type': 'Artificial Intelligence'}\n",
            "--------------------------------------\n"
          ]
        }
      ],
      "source": [
        "# Normal search\n",
        "for chunk in chunks:\n",
        "    if 'AI' in chunk.page_content:\n",
        "        print(chunk.metadata['source'], chunk)\n",
        "        print(\"--------------------------------------\")"
      ]
    },
    {
      "cell_type": "markdown",
      "source": [
        "# Embedding Chunks"
      ],
      "metadata": {
        "id": "0rfPW8iY0JVI"
      }
    },
    {
      "cell_type": "code",
      "execution_count": 159,
      "metadata": {
        "id": "M97KDbtBziVc"
      },
      "outputs": [],
      "source": [
        "# Embedding with HuggingFace Model\n",
        "embeddings = HuggingFaceEmbeddings(model_name=\"sentence-transformers/all-MiniLM-L6-v2\")"
      ]
    },
    {
      "cell_type": "markdown",
      "source": [
        "# Tokenization"
      ],
      "metadata": {
        "id": "_eBUnzdn0VMA"
      }
    },
    {
      "cell_type": "code",
      "execution_count": 160,
      "metadata": {
        "id": "wZod-TohziVd",
        "colab": {
          "base_uri": "https://localhost:8080/"
        },
        "outputId": "7e924280-884b-4a16-a82b-37dd0dfd3841"
      },
      "outputs": [
        {
          "output_type": "stream",
          "name": "stdout",
          "text": [
            "Token Strings: ['i', \"'\", 'am', 'ahmad', 'hu', '##dh', '##ud', 'with', 'student', 'number', '122', '##20', '##7', '##18']\n",
            "Token IDs: [101, 1045, 1005, 2572, 10781, 15876, 16425, 6784, 2007, 3076, 2193, 13092, 11387, 2581, 15136, 102]\n",
            "[CLS] i ' am ahmad hudhud with student number 12220718 [SEP]\n"
          ]
        }
      ],
      "source": [
        "# Importing Tokenizer\n",
        "from transformers import AutoTokenizer\n",
        "\n",
        "# Defining a random sentence for tokenization process\n",
        "query = \"i'am ahmad hudhud with student number 12220718\"\n",
        "\n",
        "# Applying Pretrained Tokenizer \"all-MiniLM-L6-v2\"\n",
        "tokenizer = AutoTokenizer.from_pretrained(\"sentence-transformers/all-MiniLM-L6-v2\")\n",
        "tokens = tokenizer.tokenize(query)\n",
        "token_ids = tokenizer.encode(query, add_special_tokens=True)\n",
        "\n",
        "# Outputting tokens\n",
        "print(\"Token Strings:\", tokens)\n",
        "print(\"Token IDs:\", token_ids)\n",
        "\n",
        "# Getting original sentence (Decoding)\n",
        "decoded = tokenizer.decode(token_ids)\n",
        "print(decoded)"
      ]
    },
    {
      "cell_type": "markdown",
      "source": [
        "# Storing Embeddings in the Chroma Vector Database"
      ],
      "metadata": {
        "id": "jcxhGqOUtw5M"
      }
    },
    {
      "cell_type": "code",
      "source": [
        "# Defining Datastore\n",
        "db_name = \"vector_store\""
      ],
      "metadata": {
        "id": "q5_qrw4xCE_V"
      },
      "execution_count": 161,
      "outputs": []
    },
    {
      "cell_type": "code",
      "execution_count": 162,
      "metadata": {
        "id": "g9NfxipyziVd"
      },
      "outputs": [],
      "source": [
        "# Check if a Chroma Datastore already exists - if so, delete the collection to start from scratch\n",
        "if os.path.exists(db_name):\n",
        "    Chroma(persist_directory=db_name, embedding_function=embeddings).delete_collection()"
      ]
    },
    {
      "cell_type": "code",
      "execution_count": 163,
      "metadata": {
        "id": "1c86jA-CziVd",
        "colab": {
          "base_uri": "https://localhost:8080/"
        },
        "outputId": "2e8df789-a15a-4d34-c167-35be225bbc60"
      },
      "outputs": [
        {
          "output_type": "stream",
          "name": "stdout",
          "text": [
            "Vectorstore created with 222 documents\n"
          ]
        }
      ],
      "source": [
        "# Create our Chroma vectorstore!\n",
        "# Put the chunks of data into a Vector Store that associates a Vector Embedding with each chunk\n",
        "vectorstore = Chroma.from_documents(documents=chunks, embedding=embeddings, persist_directory=db_name)\n",
        "print(f\"Vectorstore created with {vectorstore._collection.count()} documents\")"
      ]
    },
    {
      "cell_type": "code",
      "execution_count": 164,
      "metadata": {
        "id": "tUNNQ7-SziVd"
      },
      "outputs": [],
      "source": [
        "# Extract Data from Chroma vectorstore\n",
        "collection = vectorstore._collection\n",
        "ds = collection.get(include=['embeddings', 'documents', 'metadatas'])\n",
        "\n",
        "# List of Embedding Vectors of each document & it's chunks\n",
        "vectors = np.array(ds['embeddings'])\n",
        "docs = ds['documents']\n",
        "\n",
        "# List of topics of each document\n",
        "doc_types = [metadata['doc_type'] for metadata in ds['metadatas']]"
      ]
    },
    {
      "cell_type": "code",
      "execution_count": 165,
      "metadata": {
        "id": "4sFFayhIziVd",
        "colab": {
          "base_uri": "https://localhost:8080/"
        },
        "outputId": "0996ac3d-e3ba-4428-da1c-adb72d8c4620"
      },
      "outputs": [
        {
          "output_type": "stream",
          "name": "stdout",
          "text": [
            "The vectors have 384 dimensions\n"
          ]
        }
      ],
      "source": [
        "# Get one vector and find how many dimensions it has\n",
        "sample_embedding = ds[\"embeddings\"][0]\n",
        "dimensions = len(sample_embedding)\n",
        "print(f\"The vectors have {dimensions:,} dimensions\")"
      ]
    },
    {
      "cell_type": "markdown",
      "source": [
        "# TNSE"
      ],
      "metadata": {
        "id": "SHs9TOYxt8Zb"
      }
    },
    {
      "cell_type": "code",
      "execution_count": 166,
      "metadata": {
        "id": "wSGWUTVpziVe",
        "colab": {
          "base_uri": "https://localhost:8080/",
          "height": 737
        },
        "outputId": "f3ffef48-ab76-4c6e-eb21-a32d311bd808"
      },
      "outputs": [
        {
          "output_type": "display_data",
          "data": {
            "text/html": [
              "<html>\n",
              "<head><meta charset=\"utf-8\" /></head>\n",
              "<body>\n",
              "    <div>            <script src=\"https://cdnjs.cloudflare.com/ajax/libs/mathjax/2.7.5/MathJax.js?config=TeX-AMS-MML_SVG\"></script><script type=\"text/javascript\">if (window.MathJax && window.MathJax.Hub && window.MathJax.Hub.Config) {window.MathJax.Hub.Config({SVG: {font: \"STIX-Web\"}});}</script>                <script type=\"text/javascript\">window.PlotlyConfig = {MathJaxConfig: 'local'};</script>\n",
              "        <script charset=\"utf-8\" src=\"https://cdn.plot.ly/plotly-2.35.2.min.js\"></script>                <div id=\"f2e93c2c-b085-41fa-9ab9-daad04320143\" class=\"plotly-graph-div\" style=\"height:700px; width:1000px;\"></div>            <script type=\"text/javascript\">                                    window.PLOTLYENV=window.PLOTLYENV || {};                                    if (document.getElementById(\"f2e93c2c-b085-41fa-9ab9-daad04320143\")) {                    Plotly.newPlot(                        \"f2e93c2c-b085-41fa-9ab9-daad04320143\",                        [{\"hoverinfo\":\"text\",\"marker\":{\"color\":\"rgb(255, 23, 0)\",\"opacity\":0.7,\"size\":10},\"mode\":\"markers\",\"name\":\"Analytical Chemistry\",\"text\":[\"\\u003cb\\u003eAnalytical Chemistry\\u003c\\u002fb\\u003e\\u003cbr\\u003eAnalytical Chemistry is the branch of chemistry that deals with the identification and quantificatio...\",\"\\u003cb\\u003eAnalytical Chemistry\\u003c\\u002fb\\u003e\\u003cbr\\u003eAnalytical methods can be broadly classified into classical and instrumental techniques. Classical m...\",\"\\u003cb\\u003eAnalytical Chemistry\\u003c\\u002fb\\u003e\\u003cbr\\u003eThe process of chemical analysis typically involves several steps: sampling (obtaining a representat...\"],\"x\":[-12.810888,-13.691523,-12.597749],\"y\":[-30.857473,-29.895176,-30.38784],\"type\":\"scatter\"},{\"hoverinfo\":\"text\",\"marker\":{\"color\":\"rgb(255, 53, 0)\",\"opacity\":0.7,\"size\":10},\"mode\":\"markers\",\"name\":\"Artificial Intelligence\",\"text\":[\"\\u003cb\\u003eArtificial Intelligence\\u003c\\u002fb\\u003e\\u003cbr\\u003eArtificial Intelligence (AI) in computer science is the field dedicated to creating systems that can...\",\"\\u003cb\\u003eArtificial Intelligence\\u003c\\u002fb\\u003e\\u003cbr\\u003eAI encompasses a wide range of approaches and subfields. Machine learning, a prominent subfield, foc...\",\"\\u003cb\\u003eArtificial Intelligence\\u003c\\u002fb\\u003e\\u003cbr\\u003eOther areas within AI include natural language processing (enabling computers to understand and gene...\"],\"x\":[11.194541,12.486682,10.374798],\"y\":[57.693043,57.657524,57.640667],\"type\":\"scatter\"},{\"hoverinfo\":\"text\",\"marker\":{\"color\":\"rgb(255, 82, 0)\",\"opacity\":0.7,\"size\":10},\"mode\":\"markers\",\"name\":\"Biomaterials Engineering\",\"text\":[\"\\u003cb\\u003eBiomaterials Engineering\\u003c\\u002fb\\u003e\\u003cbr\\u003eBiomaterials Engineering is a specialized area within biotechnology and materials science that focus...\",\"\\u003cb\\u003eBiomaterials Engineering\\u003c\\u002fb\\u003e\\u003cbr\\u003eBiomaterials can be derived from natural sources (e.g., collagen, chitosan) or synthesized in the la...\",\"\\u003cb\\u003eBiomaterials Engineering\\u003c\\u002fb\\u003e\\u003cbr\\u003eBiomaterials engineering often involves modifying the surface properties of materials to enhance the...\"],\"x\":[-9.187583,-8.636834,-9.823537],\"y\":[-12.09535,-13.178073,-12.58213],\"type\":\"scatter\"},{\"hoverinfo\":\"text\",\"marker\":{\"color\":\"rgb(255, 112, 0)\",\"opacity\":0.7,\"size\":10},\"mode\":\"markers\",\"name\":\"Biotechnology\",\"text\":[\"\\u003cb\\u003eBiotechnology\\u003c\\u002fb\\u003e\\u003cbr\\u003eBiotechnology is a broad field that harnesses biological processes, organisms, or systems to produce...\",\"\\u003cb\\u003eBiotechnology\\u003c\\u002fb\\u003e\\u003cbr\\u003eIn medicine, biotechnology has revolutionized the diagnosis, prevention, and treatment of diseases. ...\",\"\\u003cb\\u003eBiotechnology\\u003c\\u002fb\\u003e\\u003cbr\\u003eIn agriculture, biotechnology is used to develop genetically modified crops with improved yields, re...\"],\"x\":[-29.755056,-34.320076,-29.992813],\"y\":[-5.2429056,-8.055658,-6.1157002],\"type\":\"scatter\"},{\"hoverinfo\":\"text\",\"marker\":{\"color\":\"rgb(255, 141, 0)\",\"opacity\":0.7,\"size\":10},\"mode\":\"markers\",\"name\":\"Calculus_\",\"text\":[\"\\u003cb\\u003eCalculus_\\u003c\\u002fb\\u003e\\u003cbr\\u003eCalculus is a major branch of mathematics that deals with continuous change. It is built upon two ma...\",\"\\u003cb\\u003eCalculus_\\u003c\\u002fb\\u003e\\u003cbr\\u003eIntegral calculus, on the other hand, deals with accumulation of quantities and the areas under curv...\",\"\\u003cb\\u003eCalculus_\\u003c\\u002fb\\u003e\\u003cbr\\u003eCalculus provides a powerful set of tools for modeling and solving problems involving change and mot...\"],\"x\":[-9.495169,-9.801597,-9.40539],\"y\":[41.03872,42.17545,40.42508],\"type\":\"scatter\"},{\"hoverinfo\":\"text\",\"marker\":{\"color\":\"rgb(255, 171, 0)\",\"opacity\":0.7,\"size\":10},\"mode\":\"markers\",\"name\":\"Chemical Thermodynamics\",\"text\":[\"\\u003cb\\u003eChemical Thermodynamics\\u003c\\u002fb\\u003e\\u003cbr\\u003eChemical Thermodynamics is a branch of chemistry that applies the principles of thermodynamics to ch...\",\"\\u003cb\\u003eChemical Thermodynamics\\u003c\\u002fb\\u003e\\u003cbr\\u003eKey concepts in chemical thermodynamics include enthalpy, entropy, and Gibbs free energy. Enthalpy (...\",\"\\u003cb\\u003eChemical Thermodynamics\\u003c\\u002fb\\u003e\\u003cbr\\u003eChemical thermodynamics provides the tools to calculate equilibrium constants, which describe the re...\"],\"x\":[7.7711315,5.7192283,7.604056],\"y\":[2.249588,3.2190576,1.2765617],\"type\":\"scatter\"},{\"hoverinfo\":\"text\",\"marker\":{\"color\":\"rgb(255, 200, 0)\",\"opacity\":0.7,\"size\":10},\"mode\":\"markers\",\"name\":\"Clinical Pharmacy\",\"text\":[\"\\u003cb\\u003eClinical Pharmacy\\u003c\\u002fb\\u003e\\u003cbr\\u003eClinical Pharmacy is a patient-oriented branch of pharmacy where pharmacists work directly with pati...\",\"\\u003cb\\u003eClinical Pharmacy\\u003c\\u002fb\\u003e\\u003cbr\\u003eClinical pharmacists often work in hospitals, clinics, and other healthcare settings, actively parti...\",\"\\u003cb\\u003eClinical Pharmacy\\u003c\\u002fb\\u003e\\u003cbr\\u003ePatient education is a crucial aspect of clinical pharmacy. Clinical pharmacists counsel patients on...\"],\"x\":[-4.7391996,-5.981046,-4.820994],\"y\":[-43.495594,-44.768673,-44.296043],\"type\":\"scatter\"},{\"hoverinfo\":\"text\",\"marker\":{\"color\":\"rgb(255, 230, 0)\",\"opacity\":0.7,\"size\":10},\"mode\":\"markers\",\"name\":\"Control Systems Engineering\",\"text\":[\"\\u003cb\\u003eControl Systems Engineering\\u003c\\u002fb\\u003e\\u003cbr\\u003eControl Systems Engineering is a discipline focused on designing, implementing, and managing systems...\",\"\\u003cb\\u003eControl Systems Engineering\\u003c\\u002fb\\u003e\\u003cbr\\u003eA basic control system consists of several key components: a sensor to measure the output, a control...\",\"\\u003cb\\u003eControl Systems Engineering\\u003c\\u002fb\\u003e\\u003cbr\\u003eAnalysis and design of control systems involve techniques from linear algebra, differential equation...\"],\"x\":[-3.9386206,-3.726598,-4.145697],\"y\":[35.347805,35.780872,36.881935],\"type\":\"scatter\"},{\"hoverinfo\":\"text\",\"marker\":{\"color\":\"rgb(248, 252, 0)\",\"opacity\":0.7,\"size\":10},\"mode\":\"markers\",\"name\":\"Data structures\",\"text\":[\"\\u003cb\\u003eData structures\\u003c\\u002fb\\u003e\\u003cbr\\u003eData structures and algorithms are foundational concepts in computer science, crucial for efficient ...\",\"\\u003cb\\u003eData structures\\u003c\\u002fb\\u003e\\u003cbr\\u003eAn algorithm is a step-by-step procedure or formula for solving a problem or completing a task. Algo...\",\"\\u003cb\\u003eData structures\\u003c\\u002fb\\u003e\\u003cbr\\u003eThe interplay between data structures and algorithms is fundamental. The choice of data structure of...\"],\"x\":[17.572758,15.822405,16.838213],\"y\":[42.900673,43.972614,43.037647],\"type\":\"scatter\"},{\"hoverinfo\":\"text\",\"marker\":{\"color\":\"rgb(220, 255, 0)\",\"opacity\":0.7,\"size\":10},\"mode\":\"markers\",\"name\":\"Ecology\",\"text\":[\"\\u003cb\\u003eEcology\\u003c\\u002fb\\u003e\\u003cbr\\u003eEcology is the scientific study of the relationships between living organisms and their environment....\",\"\\u003cb\\u003eEcology\\u003c\\u002fb\\u003e\\u003cbr\\u003eEcologists study life at various levels of organization, from individual organisms and populations t...\",\"\\u003cb\\u003eEcology\\u003c\\u002fb\\u003e\\u003cbr\\u003eUnderstanding ecological principles is crucial for addressing pressing environmental issues, such as...\"],\"x\":[-30.893286,-31.168737,-30.48918],\"y\":[7.182885,6.58759,8.038621],\"type\":\"scatter\"},{\"hoverinfo\":\"text\",\"marker\":{\"color\":\"rgb(191, 255, 0)\",\"opacity\":0.7,\"size\":10},\"mode\":\"markers\",\"name\":\"Electromagnetism\",\"text\":[\"\\u003cb\\u003eElectromagnetism\\u003c\\u002fb\\u003e\\u003cbr\\u003eElectromagnetism is a fundamental force of nature that describes the interaction between electricall...\",\"\\u003cb\\u003eElectromagnetism\\u003c\\u002fb\\u003e\\u003cbr\\u003eElectromagnetism encompasses several key concepts. Electric charges, either positive or negative, ar...\",\"\\u003cb\\u003eElectromagnetism\\u003c\\u002fb\\u003e\\u003cbr\\u003eElectromagnetic waves, such as visible light, radio waves, microwaves, and X-rays, are disturbances ...\"],\"x\":[34.918774,35.67098,34.087486],\"y\":[-8.6754265,-8.898202,-8.492903],\"type\":\"scatter\"},{\"hoverinfo\":\"text\",\"marker\":{\"color\":\"rgb(161, 255, 0)\",\"opacity\":0.7,\"size\":10},\"mode\":\"markers\",\"name\":\"Fluid mechanics\",\"text\":[\"\\u003cb\\u003eFluid mechanics\\u003c\\u002fb\\u003e\\u003cbr\\u003eFluid mechanics is a fundamental branch of engineering and physics that studies the behavior of flui...\",\"\\u003cb\\u003eFluid mechanics\\u003c\\u002fb\\u003e\\u003cbr\\u003eFluid mechanics is broadly divided into two main areas: fluid statics and fluid dynamics. Fluid stat...\",\"\\u003cb\\u003eFluid mechanics\\u003c\\u002fb\\u003e\\u003cbr\\u003eKey principles in fluid mechanics include conservation of mass (continuity equation), conservation o...\"],\"x\":[-26.237911,-25.775545,-24.14499],\"y\":[42.532906,41.84484,40.94434],\"type\":\"scatter\"},{\"hoverinfo\":\"text\",\"marker\":{\"color\":\"rgb(131, 255, 0)\",\"opacity\":0.7,\"size\":10},\"mode\":\"markers\",\"name\":\"Genetic Engineering\",\"text\":[\"\\u003cb\\u003eGenetic Engineering\\u003c\\u002fb\\u003e\\u003cbr\\u003eGenetic Engineering, also known as genetic modification, is a core set of techniques in biotechnolog...\",\"\\u003cb\\u003eGenetic Engineering\\u003c\\u002fb\\u003e\\u003cbr\\u003eThe fundamental tools of genetic engineering include restriction enzymes, which act like molecular s...\",\"\\u003cb\\u003eGenetic Engineering\\u003c\\u002fb\\u003e\\u003cbr\\u003eOne of the most widely used techniques in genetic engineering is gene cloning, which involves making...\"],\"x\":[-32.633507,-33.337433,-34.66365],\"y\":[-9.852516,-11.71181,-9.414944],\"type\":\"scatter\"},{\"hoverinfo\":\"text\",\"marker\":{\"color\":\"rgb(108, 255, 0)\",\"opacity\":0.7,\"size\":10},\"mode\":\"markers\",\"name\":\"Genetics\",\"text\":[\"\\u003cb\\u003eGenetics\\u003c\\u002fb\\u003e\\u003cbr\\u003eGenetics is the study of genes, genetic variation, and heredity in living organisms. It is a corners...\",\"\\u003cb\\u003eGenetics\\u003c\\u002fb\\u003e\\u003cbr\\u003eClassical genetics, initiated by Gregor Mendel's work with pea plants, established the basic princip...\",\"\\u003cb\\u003eGenetics\\u003c\\u002fb\\u003e\\u003cbr\\u003ePopulation genetics examines the genetic variation within populations and how it changes over time d...\"],\"x\":[-31.839842,-31.617786,-32.299313],\"y\":[-17.643213,-18.421951,-16.056774],\"type\":\"scatter\"},{\"hoverinfo\":\"text\",\"marker\":{\"color\":\"rgb(78, 255, 0)\",\"opacity\":0.7,\"size\":10},\"mode\":\"markers\",\"name\":\"Immunology\",\"text\":[\"\\u003cb\\u003eImmunology\\u003c\\u002fb\\u003e\\u003cbr\\u003eImmunology is the branch of biology that studies the immune system, a complex network of cells, tiss...\",\"\\u003cb\\u003eImmunology\\u003c\\u002fb\\u003e\\u003cbr\\u003eThe immune system is broadly divided into two main branches: the innate immune system and the adapti...\",\"\\u003cb\\u003eImmunology\\u003c\\u002fb\\u003e\\u003cbr\\u003eB cells produce antibodies, which are proteins that can bind to antigens and neutralize pathogens or...\"],\"x\":[44.41174,47.270855,47.25282],\"y\":[-30.464678,-30.29938,-28.130522],\"type\":\"scatter\"},{\"hoverinfo\":\"text\",\"marker\":{\"color\":\"rgb(49, 255, 0)\",\"opacity\":0.7,\"size\":10},\"mode\":\"markers\",\"name\":\"Linear algebra\",\"text\":[\"\\u003cb\\u003eLinear algebra\\u003c\\u002fb\\u003e\\u003cbr\\u003eLinear algebra is a branch of mathematics concerning linear equations, linear functions, and their r...\",\"\\u003cb\\u003eLinear algebra\\u003c\\u002fb\\u003e\\u003cbr\\u003eA central object in linear algebra is the matrix, a rectangular array of numbers. Matrices are used ...\",\"\\u003cb\\u003eLinear algebra\\u003c\\u002fb\\u003e\\u003cbr\\u003eVector spaces are abstract mathematical structures that generalize the concept of vectors in two or ...\"],\"x\":[5.5798674,5.058466,6.4635324],\"y\":[47.64461,47.320885,48.213676],\"type\":\"scatter\"},{\"hoverinfo\":\"text\",\"marker\":{\"color\":\"rgb(19, 255, 0)\",\"opacity\":0.7,\"size\":10},\"mode\":\"markers\",\"name\":\"Materials Science Engineering\",\"text\":[\"\\u003cb\\u003eMaterials Science Engineering\\u003c\\u002fb\\u003e\\u003cbr\\u003eMaterials Science Engineering is an interdisciplinary field that focuses on the discovery, design, a...\",\"\\u003cb\\u003eMaterials Science Engineering\\u003c\\u002fb\\u003e\\u003cbr\\u003eA core aspect of this field is the materials paradigm, which links processing, structure, properties...\",\"\\u003cb\\u003eMaterials Science Engineering\\u003c\\u002fb\\u003e\\u003cbr\\u003eResearch in materials science engineering is constantly pushing the boundaries of what is possible. ...\"],\"x\":[-8.262843,-7.332746,-9.294468],\"y\":[-8.434296,-8.560374,-8.151517],\"type\":\"scatter\"},{\"hoverinfo\":\"text\",\"marker\":{\"color\":\"rgb(2, 255, 11)\",\"opacity\":0.7,\"size\":10},\"mode\":\"markers\",\"name\":\"Molecular biology\",\"text\":[\"\\u003cb\\u003eMolecular biology\\u003c\\u002fb\\u003e\\u003cbr\\u003eMolecular biology is a branch of biology that concerns the molecular basis of biological activity be...\",\"\\u003cb\\u003eMolecular biology\\u003c\\u002fb\\u003e\\u003cbr\\u003eA central dogma of molecular biology outlines the flow of genetic information: from DNA to RNA throu...\",\"\\u003cb\\u003eMolecular biology\\u003c\\u002fb\\u003e\\u003cbr\\u003eTechniques in molecular biology are constantly evolving, enabling scientists to manipulate and analy...\"],\"x\":[-29.324675,-30.754967,-37.421844],\"y\":[-23.279835,-23.803326,-13.012885],\"type\":\"scatter\"},{\"hoverinfo\":\"text\",\"marker\":{\"color\":\"rgb(0, 255, 39)\",\"opacity\":0.7,\"size\":10},\"mode\":\"markers\",\"name\":\"Numerical Analysis\",\"text\":[\"\\u003cb\\u003eNumerical Analysis\\u003c\\u002fb\\u003e\\u003cbr\\u003eNumerical Analysis is the study of algorithms for solving mathematical problems that arise in scienc...\",\"\\u003cb\\u003eNumerical Analysis\\u003c\\u002fb\\u003e\\u003cbr\\u003eThe field encompasses a wide range of topics, including finding roots of equations, solving systems ...\",\"\\u003cb\\u003eNumerical Analysis\\u003c\\u002fb\\u003e\\u003cbr\\u003eA key consideration in numerical analysis is the accuracy and stability of the algorithms. Numerical...\"],\"x\":[-13.300595,-12.50573,-15.179458],\"y\":[47.571068,45.299946,48.249935],\"type\":\"scatter\"},{\"hoverinfo\":\"text\",\"marker\":{\"color\":\"rgb(0, 255, 68)\",\"opacity\":0.7,\"size\":10},\"mode\":\"markers\",\"name\":\"Numerical Methods\",\"text\":[\"\\u003cb\\u003eNumerical Methods\\u003c\\u002fb\\u003e\\u003cbr\\u003eNumerical Methods in engineering involve the application of mathematical algorithms to solve complex...\",\"\\u003cb\\u003eNumerical Methods\\u003c\\u002fb\\u003e\\u003cbr\\u003eEngineers use numerical methods for a wide variety of tasks, including solving systems of equations,...\",\"\\u003cb\\u003eNumerical Methods\\u003c\\u002fb\\u003e\\u003cbr\\u003eCommon numerical techniques used in engineering include methods for finding roots of equations (e.g....\"],\"x\":[-13.7718315,-20.297737,-14.682309],\"y\":[46.72465,44.902332,46.845406],\"type\":\"scatter\"},{\"hoverinfo\":\"text\",\"marker\":{\"color\":\"rgb(0, 255, 98)\",\"opacity\":0.7,\"size\":10},\"mode\":\"markers\",\"name\":\"Organic Chemistry\",\"text\":[\"\\u003cb\\u003eOrganic Chemistry\\u003c\\u002fb\\u003e\\u003cbr\\u003eOrganic Chemistry is the study of the structure, properties, composition, reactions, and synthesis o...\",\"\\u003cb\\u003eOrganic Chemistry\\u003c\\u002fb\\u003e\\u003cbr\\u003eThe structure of organic molecules is crucial to understanding their properties and reactivity. Orga...\",\"\\u003cb\\u003eOrganic Chemistry\\u003c\\u002fb\\u003e\\u003cbr\\u003eOrganic synthesis, the construction of complex organic molecules from simpler ones, is a significant...\"],\"x\":[-4.020935,-1.6763684,-5.244107],\"y\":[-27.563526,-27.528141,-29.465162],\"type\":\"scatter\"},{\"hoverinfo\":\"text\",\"marker\":{\"color\":\"rgb(0, 255, 127)\",\"opacity\":0.7,\"size\":10},\"mode\":\"markers\",\"name\":\"Pharmaceutical Chemistry\",\"text\":[\"\\u003cb\\u003ePharmaceutical Chemistry\\u003c\\u002fb\\u003e\\u003cbr\\u003ePharmaceutical Chemistry is a multidisciplinary field that combines principles of chemistry and biol...\",\"\\u003cb\\u003ePharmaceutical Chemistry\\u003c\\u002fb\\u003e\\u003cbr\\u003eDrug discovery often begins with identifying a target molecule in the body, such as an enzyme or rec...\",\"\\u003cb\\u003ePharmaceutical Chemistry\\u003c\\u002fb\\u003e\\u003cbr\\u003eOnce a potential drug candidate is identified, pharmaceutical chemists are involved in developing ef...\"],\"x\":[-7.516859,-8.392055,-6.847831],\"y\":[-38.985195,-37.965145,-38.91091],\"type\":\"scatter\"},{\"hoverinfo\":\"text\",\"marker\":{\"color\":\"rgb(0, 255, 157)\",\"opacity\":0.7,\"size\":10},\"mode\":\"markers\",\"name\":\"Pharmacology\",\"text\":[\"\\u003cb\\u003ePharmacology\\u003c\\u002fb\\u003e\\u003cbr\\u003ePharmacology is the branch of medicine and biology concerned with the study of drug action, where a ...\",\"\\u003cb\\u003ePharmacology\\u003c\\u002fb\\u003e\\u003cbr\\u003ePharmacology is typically divided into two main branches: pharmacodynamics and pharmacokinetics. Pha...\",\"\\u003cb\\u003ePharmacology\\u003c\\u002fb\\u003e\\u003cbr\\u003ePharmacists use their knowledge of pharmacology to understand how different drugs work, how they int...\"],\"x\":[-8.770355,-10.354258,-6.9113965],\"y\":[-45.993786,-46.46927,-45.18052],\"type\":\"scatter\"},{\"hoverinfo\":\"text\",\"marker\":{\"color\":\"rgb(0, 255, 186)\",\"opacity\":0.7,\"size\":10},\"mode\":\"markers\",\"name\":\"Physical Chemistry\",\"text\":[\"\\u003cb\\u003ePhysical Chemistry\\u003c\\u002fb\\u003e\\u003cbr\\u003ePhysical Chemistry is a branch of chemistry that applies principles of physics to study chemical sys...\",\"\\u003cb\\u003ePhysical Chemistry\\u003c\\u002fb\\u003e\\u003cbr\\u003eKey areas within physical chemistry include thermodynamics, kinetics, quantum mechanics, statistical...\",\"\\u003cb\\u003ePhysical Chemistry\\u003c\\u002fb\\u003e\\u003cbr\\u003eQuantum mechanics is applied to understand the electronic structure of atoms and molecules, providin...\"],\"x\":[9.8156805,9.365068,11.653387],\"y\":[2.9185672,2.280506,4.397769],\"type\":\"scatter\"},{\"hoverinfo\":\"text\",\"marker\":{\"color\":\"rgb(0, 255, 216)\",\"opacity\":0.7,\"size\":10},\"mode\":\"markers\",\"name\":\"Probability and Statistics\",\"text\":[\"\\u003cb\\u003eProbability and Statistics\\u003c\\u002fb\\u003e\\u003cbr\\u003eProbability and Statistics are two closely related branches of mathematics that deal with uncertaint...\",\"\\u003cb\\u003eProbability and Statistics\\u003c\\u002fb\\u003e\\u003cbr\\u003eStatistics, on the other hand, is the science of collecting, organizing, analyzing, interpreting, an...\",\"\\u003cb\\u003eProbability and Statistics\\u003c\\u002fb\\u003e\\u003cbr\\u003eProbability provides the theoretical foundation for statistics, as statistical inference often relie...\"],\"x\":[13.849881,12.843457,13.346228],\"y\":[16.96227,18.045607,17.06896],\"type\":\"scatter\"},{\"hoverinfo\":\"text\",\"marker\":{\"color\":\"rgb(0, 255, 245)\",\"opacity\":0.7,\"size\":10},\"mode\":\"markers\",\"name\":\"Protein Chemistry\",\"text\":[\"\\u003cb\\u003eProtein Chemistry\\u003c\\u002fb\\u003e\\u003cbr\\u003eProtein Chemistry is a fundamental area within biochemistry that focuses on the study of proteins, w...\",\"\\u003cb\\u003eProtein Chemistry\\u003c\\u002fb\\u003e\\u003cbr\\u003eProteins perform a vast array of functions in biological systems. Enzymes, a major class of proteins...\",\"\\u003cb\\u003eProtein Chemistry\\u003c\\u002fb\\u003e\\u003cbr\\u003eProtein chemists use a variety of techniques to study proteins. These include methods for isolating ...\"],\"x\":[-25.378075,-24.389263,-25.944725],\"y\":[-29.04113,-29.768375,-28.9809],\"type\":\"scatter\"},{\"hoverinfo\":\"text\",\"marker\":{\"color\":\"rgb(0, 240, 255)\",\"opacity\":0.7,\"size\":10},\"mode\":\"markers\",\"name\":\"Quantum Mechanics\",\"text\":[\"\\u003cb\\u003eQuantum Mechanics\\u003c\\u002fb\\u003e\\u003cbr\\u003eQuantum Mechanics is a fundamental theory in physics that provides a description of the physical pro...\",\"\\u003cb\\u003eQuantum Mechanics\\u003c\\u002fb\\u003e\\u003cbr\\u003eA central concept in quantum mechanics is the wavefunction, a mathematical function that contains al...\",\"\\u003cb\\u003eQuantum Mechanics\\u003c\\u002fb\\u003e\\u003cbr\\u003eKey principles of quantum mechanics include quantization, meaning that certain physical properties, ...\"],\"x\":[20.157484,19.417355,21.228716],\"y\":[11.760524,11.721809,11.994919],\"type\":\"scatter\"},{\"hoverinfo\":\"text\",\"marker\":{\"color\":\"rgb(0, 210, 255)\",\"opacity\":0.7,\"size\":10},\"mode\":\"markers\",\"name\":\"Renewable energy\",\"text\":[\"\\u003cb\\u003eRenewable energy\\u003c\\u002fb\\u003e\\u003cbr\\u003eRenewable energy engineering is a rapidly evolving field focused on the sustainable generation of en...\",\"\\u003cb\\u003eRenewable energy\\u003c\\u002fb\\u003e\\u003cbr\\u003eA key aspect of renewable energy engineering involves optimizing the efficiency and reliability of t...\",\"\\u003cb\\u003eRenewable energy\\u003c\\u002fb\\u003e\\u003cbr\\u003eFurthermore, renewable energy engineers consider the entire lifecycle of energy systems, from the ex...\"],\"x\":[-9.823395,-9.619555,-10.238268],\"y\":[6.8754835,7.565436,6.1474953],\"type\":\"scatter\"},{\"hoverinfo\":\"text\",\"marker\":{\"color\":\"rgb(0, 181, 255)\",\"opacity\":0.7,\"size\":10},\"mode\":\"markers\",\"name\":\"Semiconductor Physics\",\"text\":[\"\\u003cb\\u003eSemiconductor Physics\\u003c\\u002fb\\u003e\\u003cbr\\u003eSemiconductor Physics is a branch of physics that studies the electrical properties of semiconductor...\",\"\\u003cb\\u003eSemiconductor Physics\\u003c\\u002fb\\u003e\\u003cbr\\u003eThe electrical properties of semiconductors are determined by their band structure, which describes ...\",\"\\u003cb\\u003eSemiconductor Physics\\u003c\\u002fb\\u003e\\u003cbr\\u003eDoping is a crucial technique in semiconductor physics, involving intentionally adding small amounts...\"],\"x\":[20.39068,21.897383,22.301968],\"y\":[-26.241493,-25.998377,-29.24842],\"type\":\"scatter\"},{\"hoverinfo\":\"text\",\"marker\":{\"color\":\"rgb(0, 151, 255)\",\"opacity\":0.7,\"size\":10},\"mode\":\"markers\",\"name\":\"Software Engineering\",\"text\":[\"\\u003cb\\u003eSoftware Engineering\\u003c\\u002fb\\u003e\\u003cbr\\u003eSoftware Engineering is a systematic approach to the design, development, testing, deployment, and m...\",\"\\u003cb\\u003eSoftware Engineering\\u003c\\u002fb\\u003e\\u003cbr\\u003eThe software development lifecycle (SDLC) is a common framework used in software engineering, outlin...\",\"\\u003cb\\u003eSoftware Engineering\\u003c\\u002fb\\u003e\\u003cbr\\u003eKey aspects of software engineering include software design (creating the architecture and detailed ...\"],\"x\":[-4.605171,-3.4335887,-4.9568133],\"y\":[25.38932,25.15298,25.128292],\"type\":\"scatter\"},{\"hoverinfo\":\"text\",\"marker\":{\"color\":\"rgb(0, 122, 255)\",\"opacity\":0.7,\"size\":10},\"mode\":\"markers\",\"name\":\"Thermodynamics\",\"text\":[\"\\u003cb\\u003eThermodynamics\\u003c\\u002fb\\u003e\\u003cbr\\u003eThermodynamics is a fundamental branch of physics that deals with heat, work, temperature, and energ...\",\"\\u003cb\\u003eThermodynamics\\u003c\\u002fb\\u003e\\u003cbr\\u003eThe second law of thermodynamics introduces the concept of entropy, a measure of the disorder or ran...\",\"\\u003cb\\u003eThermodynamics\\u003c\\u002fb\\u003e\\u003cbr\\u003eThe third law of thermodynamics states that the entropy of a system approaches a constant value as t...\"],\"x\":[1.5967126,3.4570482,1.1133088],\"y\":[7.336044,4.974978,4.979027],\"type\":\"scatter\"},{\"hoverinfo\":\"text\",\"marker\":{\"color\":\"rgb(0, 92, 255)\",\"opacity\":0.7,\"size\":10},\"mode\":\"markers\",\"name\":\"astrophysics\",\"text\":[\"\\u003cb\\u003eastrophysics\\u003c\\u002fb\\u003e\\u003cbr\\u003eAstrophysics\\nAstrophysics merges physics and astronomy to investigate celestial objects and phenomen...\",\"\\u003cb\\u003eastrophysics\\u003c\\u002fb\\u003e\\u003cbr\\u003eStellar astrophysics examines the life cycles of stars, beginning with gravitational collapse of mol...\",\"\\u003cb\\u003eastrophysics\\u003c\\u002fb\\u003e\\u003cbr\\u003eGalactic astrophysics investigates galaxy formation, structure, and evolution. The Milky Way exempli...\",\"\\u003cb\\u003eastrophysics\\u003c\\u002fb\\u003e\\u003cbr\\u003eCosmology addresses the universe's origin, evolution, and ultimate fate. The Big Bang theory, suppor...\",\"\\u003cb\\u003eastrophysics\\u003c\\u002fb\\u003e\\u003cbr\\u003eHigh-energy astrophysics examines extreme cosmic environments producing gamma rays, X-rays, and ener...\",\"\\u003cb\\u003eastrophysics\\u003c\\u002fb\\u003e\\u003cbr\\u003eMulti-messenger astronomy incorporates complementary information from electromagnetic radiation, gra...\"],\"x\":[51.732788,52.883472,52.603928,53.60111,51.11696,50.420425],\"y\":[0.032409336,1.5252881,-0.47329086,-0.22826031,1.0927397,0.06625515],\"type\":\"scatter\"},{\"hoverinfo\":\"text\",\"marker\":{\"color\":\"rgb(0, 63, 255)\",\"opacity\":0.7,\"size\":10},\"mode\":\"markers\",\"name\":\"biochemistry\",\"text\":[\"\\u003cb\\u003ebiochemistry\\u003c\\u002fb\\u003e\\u003cbr\\u003eBiochemistry...\",\"\\u003cb\\u003ebiochemistry\\u003c\\u002fb\\u003e\\u003cbr\\u003eBiochemistry examines the molecular basis of life, investigating chemical processes and substances o...\",\"\\u003cb\\u003ebiochemistry\\u003c\\u002fb\\u003e\\u003cbr\\u003eProteins serve diverse functions as cellular workhorses, from catalysis to structural support and si...\",\"\\u003cb\\u003ebiochemistry\\u003c\\u002fb\\u003e\\u003cbr\\u003eEnzymes dramatically accelerate biochemical reactions without being consumed, enabling metabolic pro...\",\"\\u003cb\\u003ebiochemistry\\u003c\\u002fb\\u003e\\u003cbr\\u003eCarbohydrates perform diverse biological roles, from energy storage and structural support to cellul...\",\"\\u003cb\\u003ebiochemistry\\u003c\\u002fb\\u003e\\u003cbr\\u003eLipids encompass hydrophobic or amphipathic molecules performing vital functions from energy storage...\",\"\\u003cb\\u003ebiochemistry\\u003c\\u002fb\\u003e\\u003cbr\\u003eMetabolic pathways integrate complex reaction sequences that extract energy from nutrients and synth...\"],\"x\":[-26.488401,-27.404543,-27.219128,-27.468485,-26.810343,-26.852438,-26.801996],\"y\":[-24.391619,-24.042543,-30.342415,-31.72302,-35.377052,-37.304153,-36.189552],\"type\":\"scatter\"},{\"hoverinfo\":\"text\",\"marker\":{\"color\":\"rgb(0, 33, 255)\",\"opacity\":0.7,\"size\":10},\"mode\":\"markers\",\"name\":\"cryptography\",\"text\":[\"\\u003cb\\u003ecryptography\\u003c\\u002fb\\u003e\\u003cbr\\u003e# Cryptography...\",\"\\u003cb\\u003ecryptography\\u003c\\u002fb\\u003e\\u003cbr\\u003eCryptography, the science of secure communication, transforms readable information into unintelligib...\",\"\\u003cb\\u003ecryptography\\u003c\\u002fb\\u003e\\u003cbr\\u003eSymmetric encryption uses identical keys for encryption and decryption, offering computational effic...\",\"\\u003cb\\u003ecryptography\\u003c\\u002fb\\u003e\\u003cbr\\u003ePublic key cryptography revolutionized secure communication by introducing asymmetric key pairs—one ...\",\"\\u003cb\\u003ecryptography\\u003c\\u002fb\\u003e\\u003cbr\\u003eCryptographic hash functions generate fixed-length digests from arbitrary data inputs, with slight i...\",\"\\u003cb\\u003ecryptography\\u003c\\u002fb\\u003e\\u003cbr\\u003eAuthenticated encryption combines confidentiality with integrity protection, addressing vulnerabilit...\",\"\\u003cb\\u003ecryptography\\u003c\\u002fb\\u003e\\u003cbr\\u003ePost-quantum cryptography addresses theoretical threats posed by quantum computing advances, particu...\"],\"x\":[31.227533,30.549702,32.138706,32.802696,29.779522,31.293436,29.075804],\"y\":[19.208872,19.62165,21.245298,19.438528,21.145567,22.011246,17.75694],\"type\":\"scatter\"},{\"hoverinfo\":\"text\",\"marker\":{\"color\":\"rgb(3, 8, 255)\",\"opacity\":0.7,\"size\":10},\"mode\":\"markers\",\"name\":\"database_systems\",\"text\":[\"\\u003cb\\u003edatabase_systems\\u003c\\u002fb\\u003e\\u003cbr\\u003e# Database Systems\\nDatabase systems form the bedrock of modern information architecture, providing s...\",\"\\u003cb\\u003edatabase_systems\\u003c\\u002fb\\u003e\\u003cbr\\u003eRelational database management systems (RDBMS) organize data into tables with predefined schemas, li...\",\"\\u003cb\\u003edatabase_systems\\u003c\\u002fb\\u003e\\u003cbr\\u003eTransaction management ensures database consistency despite concurrent access and system failures. A...\",\"\\u003cb\\u003edatabase_systems\\u003c\\u002fb\\u003e\\u003cbr\\u003eNoSQL databases emerged to address limitations of relational systems for web-scale applications and ...\",\"\\u003cb\\u003edatabase_systems\\u003c\\u002fb\\u003e\\u003cbr\\u003eQuery optimization transforms user requests into efficient execution plans by analyzing statistical ...\",\"\\u003cb\\u003edatabase_systems\\u003c\\u002fb\\u003e\\u003cbr\\u003eDistributed database architectures address scalability challenges by partitioning data across multip...\"],\"x\":[19.325403,19.512676,20.836636,21.486696,16.467388,21.820778],\"y\":[39.711678,40.37408,37.927525,39.726208,41.346046,38.979534],\"type\":\"scatter\"},{\"hoverinfo\":\"text\",\"marker\":{\"color\":\"rgb(25, 0, 255)\",\"opacity\":0.7,\"size\":10},\"mode\":\"markers\",\"name\":\"differential_equations\",\"text\":[\"\\u003cb\\u003edifferential_equations\\u003c\\u002fb\\u003e\\u003cbr\\u003e# Differential Equations...\",\"\\u003cb\\u003edifferential_equations\\u003c\\u002fb\\u003e\\u003cbr\\u003eDifferential equations govern countless natural phenomena, forming the mathematical framework for de...\",\"\\u003cb\\u003edifferential_equations\\u003c\\u002fb\\u003e\\u003cbr\\u003eOrdinary differential equations (ODEs) involve functions of a single independent variable and their ...\",\"\\u003cb\\u003edifferential_equations\\u003c\\u002fb\\u003e\\u003cbr\\u003ePartial differential equations (PDEs) extend the concept to functions of multiple variables, introdu...\",\"\\u003cb\\u003edifferential_equations\\u003c\\u002fb\\u003e\\u003cbr\\u003eInitial conditions specify function values at a starting point, while boundary conditions constrain ...\",\"\\u003cb\\u003edifferential_equations\\u003c\\u002fb\\u003e\\u003cbr\\u003eNumerical methods provide approximate solutions when analytical approaches prove intractable. Euler'...\",\"\\u003cb\\u003edifferential_equations\\u003c\\u002fb\\u003e\\u003cbr\\u003eSystems of differential equations model interactions between multiple variables, describing coupled ...\"],\"x\":[-11.23152,-9.869355,-10.612663,-12.070686,-12.937215,-16.21739,-8.2136755],\"y\":[38.061333,37.99899,36.688873,35.004353,35.156033,46.16533,36.98309],\"type\":\"scatter\"},{\"hoverinfo\":\"text\",\"marker\":{\"color\":\"rgb(54, 0, 255)\",\"opacity\":0.7,\"size\":10},\"mode\":\"markers\",\"name\":\"fluid_dynamics\",\"text\":[\"\\u003cb\\u003efluid_dynamics\\u003c\\u002fb\\u003e\\u003cbr\\u003e# Fluid Dynamics\\nFluid dynamics, a branch of continuum mechanics, explores the physics of fluids in ...\",\"\\u003cb\\u003efluid_dynamics\\u003c\\u002fb\\u003e\\u003cbr\\u003eThe fundamental principles of fluid dynamics rest on conservation laws: conservation of mass (contin...\",\"\\u003cb\\u003efluid_dynamics\\u003c\\u002fb\\u003e\\u003cbr\\u003eReynolds number, a dimensionless quantity representing the ratio of inertial forces to viscous force...\",\"\\u003cb\\u003efluid_dynamics\\u003c\\u002fb\\u003e\\u003cbr\\u003eComputational fluid dynamics (CFD) has revolutionized the field, enabling numerical solutions to com...\",\"\\u003cb\\u003efluid_dynamics\\u003c\\u002fb\\u003e\\u003cbr\\u003eBoundary layer theory, pioneered by Ludwig Prandtl, explains fluid behavior near solid surfaces. Thi...\",\"\\u003cb\\u003efluid_dynamics\\u003c\\u002fb\\u003e\\u003cbr\\u003eBernoulli's principle describes the inverse relationship between fluid velocity and pressure in stea...\",\"\\u003cb\\u003efluid_dynamics\\u003c\\u002fb\\u003e\\u003cbr\\u003eIn biomedical engineering, fluid dynamics principles elucidate blood flow through vessels and artifi...\"],\"x\":[-27.289803,-23.375917,-25.331526,-20.864645,-25.934515,-24.05568,-28.652458],\"y\":[42.475418,40.5615,39.2425,44.700253,44.88948,42.82947,42.318233],\"type\":\"scatter\"},{\"hoverinfo\":\"text\",\"marker\":{\"color\":\"rgb(84, 0, 255)\",\"opacity\":0.7,\"size\":10},\"mode\":\"markers\",\"name\":\"genetic_engineering\",\"text\":[\"\\u003cb\\u003egenetic_engineering\\u003c\\u002fb\\u003e\\u003cbr\\u003e# Genetic Engineering...\",\"\\u003cb\\u003egenetic_engineering\\u003c\\u002fb\\u003e\\u003cbr\\u003eGenetic engineering encompasses technologies that directly manipulate an organism's genetic material...\",\"\\u003cb\\u003egenetic_engineering\\u003c\\u002fb\\u003e\\u003cbr\\u003eRestriction enzymes serve as molecular scissors, recognizing and cutting specific DNA sequences. The...\",\"\\u003cb\\u003egenetic_engineering\\u003c\\u002fb\\u003e\\u003cbr\\u003eCRISPR-Cas9 represents the latest revolution in genome editing technology. This system, adapted from...\",\"\\u003cb\\u003egenetic_engineering\\u003c\\u002fb\\u003e\\u003cbr\\u003eGenetically modified organisms (GMOs) incorporate DNA from foreign sources to introduce novel traits...\",\"\\u003cb\\u003egenetic_engineering\\u003c\\u002fb\\u003e\\u003cbr\\u003eVector systems facilitate gene transfer into target organisms. Plasmids—small circular DNA molecules...\",\"\\u003cb\\u003egenetic_engineering\\u003c\\u002fb\\u003e\\u003cbr\\u003eSynthetic biology extends genetic engineering principles by applying engineering concepts to biologi...\"],\"x\":[-28.584663,-32.29454,-33.793198,-36.793827,-31.572721,-36.37232,-29.236633],\"y\":[-11.756896,-10.455914,-12.645203,-10.733215,-7.4792204,-7.8223996,-7.011665],\"type\":\"scatter\"},{\"hoverinfo\":\"text\",\"marker\":{\"color\":\"rgb(113, 0, 255)\",\"opacity\":0.7,\"size\":10},\"mode\":\"markers\",\"name\":\"immunology_1\",\"text\":[\"\\u003cb\\u003eimmunology_1\\u003c\\u002fb\\u003e\\u003cbr\\u003e# Immunology\\nImmunology explores the intricate defense mechanisms protecting organisms from pathogen...\",\"\\u003cb\\u003eimmunology_1\\u003c\\u002fb\\u003e\\u003cbr\\u003eThe immune system operates through two complementary branches: innate and adaptive immunity. Innate ...\",\"\\u003cb\\u003eimmunology_1\\u003c\\u002fb\\u003e\\u003cbr\\u003eAdaptive immunity, exclusive to vertebrates, generates pathogen-specific responses through lymphocyt...\",\"\\u003cb\\u003eimmunology_1\\u003c\\u002fb\\u003e\\u003cbr\\u003eAntigen presentation forms the critical bridge between innate and adaptive immunity. Specialized ant...\",\"\\u003cb\\u003eimmunology_1\\u003c\\u002fb\\u003e\\u003cbr\\u003eCytokines—small signaling proteins—coordinate immune responses through complex communication network...\",\"\\u003cb\\u003eimmunology_1\\u003c\\u002fb\\u003e\\u003cbr\\u003eImmunological tolerance prevents harmful reactions against self-tissues through central and peripher...\"],\"x\":[44.73502,47.386017,47.115406,48.710415,47.394638,44.964954],\"y\":[-29.82777,-31.04703,-27.538332,-28.15275,-32.410744,-27.971249],\"type\":\"scatter\"},{\"hoverinfo\":\"text\",\"marker\":{\"color\":\"rgb(137, 0, 255)\",\"opacity\":0.7,\"size\":10},\"mode\":\"markers\",\"name\":\"machine_learning\",\"text\":[\"\\u003cb\\u003emachine_learning\\u003c\\u002fb\\u003e\\u003cbr\\u003e# Machine Learning\\nMachine learning enables computers to improve their performance on tasks through ...\",\"\\u003cb\\u003emachine_learning\\u003c\\u002fb\\u003e\\u003cbr\\u003eSupervised learning algorithms learn mappings between inputs and outputs using labeled training data...\",\"\\u003cb\\u003emachine_learning\\u003c\\u002fb\\u003e\\u003cbr\\u003eUnsupervised learning discovers inherent data structures without labeled outputs. Clustering algorit...\",\"\\u003cb\\u003emachine_learning\\u003c\\u002fb\\u003e\\u003cbr\\u003eDeep learning employs neural networks with multiple layers to learn hierarchical representations fro...\",\"\\u003cb\\u003emachine_learning\\u003c\\u002fb\\u003e\\u003cbr\\u003eReinforcement learning trains agents to maximize cumulative rewards through environment interaction....\",\"\\u003cb\\u003emachine_learning\\u003c\\u002fb\\u003e\\u003cbr\\u003eModel evaluation and selection constitute critical aspects of machine learning workflows. Cross-vali...\"],\"x\":[12.440626,11.38658,9.399328,15.724904,15.13159,12.353916],\"y\":[56.05784,53.165222,50.275333,59.547237,56.845066,53.328613],\"type\":\"scatter\"},{\"hoverinfo\":\"text\",\"marker\":{\"color\":\"rgb(167, 0, 255)\",\"opacity\":0.7,\"size\":10},\"mode\":\"markers\",\"name\":\"molecular_biology\",\"text\":[\"\\u003cb\\u003emolecular_biology\\u003c\\u002fb\\u003e\\u003cbr\\u003e# Molecular Biology...\",\"\\u003cb\\u003emolecular_biology\\u003c\\u002fb\\u003e\\u003cbr\\u003eMolecular biology investigates biological processes at the molecular level, focusing on the structur...\",\"\\u003cb\\u003emolecular_biology\\u003c\\u002fb\\u003e\\u003cbr\\u003eDNA replication maintains genetic continuity through semiconservative mechanisms that generate ident...\",\"\\u003cb\\u003emolecular_biology\\u003c\\u002fb\\u003e\\u003cbr\\u003eTranscription converts genetic information from DNA to RNA through RNA polymerase activity. In proka...\",\"\\u003cb\\u003emolecular_biology\\u003c\\u002fb\\u003e\\u003cbr\\u003eTranslation converts mRNA information into polypeptide sequences through ribosomal protein synthesis...\",\"\\u003cb\\u003emolecular_biology\\u003c\\u002fb\\u003e\\u003cbr\\u003eRegulation of gene expression ensures appropriate protein production in specific cellular contexts. ...\",\"\\u003cb\\u003emolecular_biology\\u003c\\u002fb\\u003e\\u003cbr\\u003eModern molecular biology techniques enable precise manipulation and analysis of biological molecules...\"],\"x\":[-27.672531,-29.728455,-39.313976,-32.739773,-29.52983,-32.482296,-37.638508],\"y\":[-12.4456215,-22.528194,-12.833302,-25.77547,-29.229807,-25.076693,-12.030498],\"type\":\"scatter\"},{\"hoverinfo\":\"text\",\"marker\":{\"color\":\"rgb(196, 0, 255)\",\"opacity\":0.7,\"size\":10},\"mode\":\"markers\",\"name\":\"nanotechnology\",\"text\":[\"\\u003cb\\u003enanotechnology\\u003c\\u002fb\\u003e\\u003cbr\\u003e# Nanotechnology...\",\"\\u003cb\\u003enanotechnology\\u003c\\u002fb\\u003e\\u003cbr\\u003eNanotechnology encompasses the manipulation of matter at dimensions between 1 and 100 nanometers, wh...\",\"\\u003cb\\u003enanotechnology\\u003c\\u002fb\\u003e\\u003cbr\\u003eNanomaterial synthesis employs bottom-up and top-down fabrication strategies. Bottom-up methods asse...\",\"\\u003cb\\u003enanotechnology\\u003c\\u002fb\\u003e\\u003cbr\\u003eCarbon nanomaterials demonstrate structural diversity with remarkable properties. Carbon nanotubes, ...\",\"\\u003cb\\u003enanotechnology\\u003c\\u002fb\\u003e\\u003cbr\\u003eNanoparticles serve diverse functions across multiple fields. Quantum dots—semiconductor nanocrystal...\",\"\\u003cb\\u003enanotechnology\\u003c\\u002fb\\u003e\\u003cbr\\u003eBiomedical nanotechnology addresses healthcare challenges through nanoscale approaches. Targeted dru...\",\"\\u003cb\\u003enanotechnology\\u003c\\u002fb\\u003e\\u003cbr\\u003eNanophotonics explores light-matter interactions at subwavelength scales, enabling optical devices b...\"],\"x\":[-15.232524,-14.418917,-13.311887,-5.2440195,-12.960594,-11.849604,26.212881],\"y\":[-9.222374,-9.084356,-8.05688,-25.178726,-12.916348,-12.9393215,-11.003113],\"type\":\"scatter\"},{\"hoverinfo\":\"text\",\"marker\":{\"color\":\"rgb(226, 0, 255)\",\"opacity\":0.7,\"size\":10},\"mode\":\"markers\",\"name\":\"neural_networks\",\"text\":[\"\\u003cb\\u003eneural_networks\\u003c\\u002fb\\u003e\\u003cbr\\u003e# Neural Networks\\nNeural networks form the computational backbone of modern artificial intelligence,...\",\"\\u003cb\\u003eneural_networks\\u003c\\u002fb\\u003e\\u003cbr\\u003eThe fundamental building block of neural networks is the artificial neuron, which receives multiple ...\",\"\\u003cb\\u003eneural_networks\\u003c\\u002fb\\u003e\\u003cbr\\u003eFeed-forward neural networks represent the simplest architecture, where information flows unidirecti...\",\"\\u003cb\\u003eneural_networks\\u003c\\u002fb\\u003e\\u003cbr\\u003eTraining neural networks involves adjusting connection weights to minimize prediction errors, typica...\",\"\\u003cb\\u003eneural_networks\\u003c\\u002fb\\u003e\\u003cbr\\u003eDeep learning, utilizing neural networks with many layers, has revolutionized fields like computer v...\",\"\\u003cb\\u003eneural_networks\\u003c\\u002fb\\u003e\\u003cbr\\u003eDespite their impressive capabilities, neural networks face significant challenges. Their black-box ...\"],\"x\":[12.665254,13.065043,16.424803,12.123761,14.687965,13.752634],\"y\":[63.087627,63.421806,60.272537,61.4614,58.78363,59.496613],\"type\":\"scatter\"},{\"hoverinfo\":\"text\",\"marker\":{\"color\":\"rgb(249, 0, 249)\",\"opacity\":0.7,\"size\":10},\"mode\":\"markers\",\"name\":\"optics\",\"text\":[\"\\u003cb\\u003eoptics\\u003c\\u002fb\\u003e\\u003cbr\\u003e# Optics...\",\"\\u003cb\\u003eoptics\\u003c\\u002fb\\u003e\\u003cbr\\u003eOptics investigates light behavior and its interactions with matter, encompassing both classical wav...\",\"\\u003cb\\u003eoptics\\u003c\\u002fb\\u003e\\u003cbr\\u003eGeometric optics applies ray models to describe light propagation through media with varying refract...\",\"\\u003cb\\u003eoptics\\u003c\\u002fb\\u003e\\u003cbr\\u003eWave optics extends beyond geometric approximations, accounting for interference and diffraction phe...\",\"\\u003cb\\u003eoptics\\u003c\\u002fb\\u003e\\u003cbr\\u003ePolarization describes light wave orientation perpendicular to propagation direction. Unpolarized li...\",\"\\u003cb\\u003eoptics\\u003c\\u002fb\\u003e\\u003cbr\\u003eLasers generate coherent, monochromatic light through stimulated emission of radiation. Population i...\",\"\\u003cb\\u003eoptics\\u003c\\u002fb\\u003e\\u003cbr\\u003eNonlinear optics examines phenomena occurring at high light intensities where material response beco...\"],\"x\":[23.493006,25.268875,25.131737,26.372402,27.205973,24.480825,24.942263],\"y\":[-6.426809,-8.537767,-7.0337987,-8.299384,-6.9964604,-9.334532,-10.822771],\"type\":\"scatter\"},{\"hoverinfo\":\"text\",\"marker\":{\"color\":\"rgb(255, 0, 224)\",\"opacity\":0.7,\"size\":10},\"mode\":\"markers\",\"name\":\"organic_chemistry\",\"text\":[\"\\u003cb\\u003eorganic_chemistry\\u003c\\u002fb\\u003e\\u003cbr\\u003e# Organic Chemistry\\nOrganic chemistry explores the vast realm of carbon-containing compounds, exclud...\",\"\\u003cb\\u003eorganic_chemistry\\u003c\\u002fb\\u003e\\u003cbr\\u003eFunctional groups serve as reactive centers within organic molecules, determining their chemical beh...\",\"\\u003cb\\u003eorganic_chemistry\\u003c\\u002fb\\u003e\\u003cbr\\u003eStereochemistry addresses the three-dimensional arrangement of atoms within molecules, critical for ...\",\"\\u003cb\\u003eorganic_chemistry\\u003c\\u002fb\\u003e\\u003cbr\\u003eReaction mechanisms elucidate step-by-step molecular transformations, revealing intermediates and tr...\",\"\\u003cb\\u003eorganic_chemistry\\u003c\\u002fb\\u003e\\u003cbr\\u003eSpectroscopic techniques revolutionized structural determination by providing molecular fingerprints...\"],\"x\":[-4.3037043,-1.2772772,-7.137082,-0.5914986,-5.6917286],\"y\":[-27.032013,-28.426208,-36.160095,-26.163809,-30.192896],\"type\":\"scatter\"},{\"hoverinfo\":\"text\",\"marker\":{\"color\":\"rgb(255, 0, 195)\",\"opacity\":0.7,\"size\":10},\"mode\":\"markers\",\"name\":\"pharmacokinetics\",\"text\":[\"\\u003cb\\u003epharmacokinetics\\u003c\\u002fb\\u003e\\u003cbr\\u003e# Pharmacokinetics\\nPharmacokinetics examines the temporal course of drug concentrations in the body,...\",\"\\u003cb\\u003epharmacokinetics\\u003c\\u002fb\\u003e\\u003cbr\\u003eAbsorption describes drug movement from administration site to systemic circulation. For oral medica...\",\"\\u003cb\\u003epharmacokinetics\\u003c\\u002fb\\u003e\\u003cbr\\u003eDistribution reflects drug movement from bloodstream to tissues and organs. This process depends on ...\",\"\\u003cb\\u003epharmacokinetics\\u003c\\u002fb\\u003e\\u003cbr\\u003eMetabolism transforms drugs into more hydrophilic metabolites facilitating elimination, primarily oc...\",\"\\u003cb\\u003epharmacokinetics\\u003c\\u002fb\\u003e\\u003cbr\\u003eExcretion eliminates drugs and their metabolites from the body, primarily through renal and biliary ...\",\"\\u003cb\\u003epharmacokinetics\\u003c\\u002fb\\u003e\\u003cbr\\u003ePharmacokinetic models mathematically describe drug concentration-time profiles. Compartmental model...\"],\"x\":[-11.309695,-12.328275,-13.5699005,-8.617903,-11.641816,-12.043094],\"y\":[-47.27348,-48.270367,-46.98261,-48.151703,-49.637142,-46.327827],\"type\":\"scatter\"},{\"hoverinfo\":\"text\",\"marker\":{\"color\":\"rgb(255, 0, 165)\",\"opacity\":0.7,\"size\":10},\"mode\":\"markers\",\"name\":\"polymer_science\",\"text\":[\"\\u003cb\\u003epolymer_science\\u003c\\u002fb\\u003e\\u003cbr\\u003e# Polymer Science\\nPolymer science investigates macromolecules composed of repeating structural units...\",\"\\u003cb\\u003epolymer_science\\u003c\\u002fb\\u003e\\u003cbr\\u003ePolymer classification encompasses several organizational schemes. Based on source, polymers divide ...\",\"\\u003cb\\u003epolymer_science\\u003c\\u002fb\\u003e\\u003cbr\\u003ePolymerization mechanisms follow two primary routes: chain (addition) polymerization and step-growth...\",\"\\u003cb\\u003epolymer_science\\u003c\\u002fb\\u003e\\u003cbr\\u003eMolecular weight critically influences polymer properties, with higher values generally increasing s...\",\"\\u003cb\\u003epolymer_science\\u003c\\u002fb\\u003e\\u003cbr\\u003eMechanical properties reflect polymer behavior under applied forces. Elastic modulus measures stiffn...\",\"\\u003cb\\u003epolymer_science\\u003c\\u002fb\\u003e\\u003cbr\\u003eModern polymer development addresses sustainability concerns through biodegradable materials, recycl...\"],\"x\":[-0.31076306,-0.18447806,0.58328515,1.5629435,0.8219934,-1.9024827],\"y\":[-16.007017,-16.570793,-18.046753,-18.201303,-14.9365,-15.873042],\"type\":\"scatter\"},{\"hoverinfo\":\"text\",\"marker\":{\"color\":\"rgb(255, 0, 136)\",\"opacity\":0.7,\"size\":10},\"mode\":\"markers\",\"name\":\"quantum_computing\",\"text\":[\"\\u003cb\\u003equantum_computing\\u003c\\u002fb\\u003e\\u003cbr\\u003e# Quantum Computing\\nQuantum computing leverages quantum mechanical phenomena to perform computations...\",\"\\u003cb\\u003equantum_computing\\u003c\\u002fb\\u003e\\u003cbr\\u003eThe principle of superposition forms the foundation of quantum computing's power. When multiple qubi...\",\"\\u003cb\\u003equantum_computing\\u003c\\u002fb\\u003e\\u003cbr\\u003eQuantum algorithms demonstrate remarkable advantages over classical approaches for specific tasks. S...\",\"\\u003cb\\u003equantum_computing\\u003c\\u002fb\\u003e\\u003cbr\\u003eHowever, quantum computing faces significant challenges. Quantum decoherence, where qubits lose thei...\",\"\\u003cb\\u003equantum_computing\\u003c\\u002fb\\u003e\\u003cbr\\u003eSeveral quantum computing architectures compete for dominance. Superconducting circuits, used by IBM...\",\"\\u003cb\\u003equantum_computing\\u003c\\u002fb\\u003e\\u003cbr\\u003eAs the field advances, researchers focus on achieving quantum advantage—the point where quantum comp...\"],\"x\":[25.96591,25.381605,28.05585,25.187069,27.177473,27.196085],\"y\":[13.580925,13.679028,16.559916,12.092179,12.693679,15.593195],\"type\":\"scatter\"},{\"hoverinfo\":\"text\",\"marker\":{\"color\":\"rgb(255, 0, 106)\",\"opacity\":0.7,\"size\":10},\"mode\":\"markers\",\"name\":\"semiconductor_physics\",\"text\":[\"\\u003cb\\u003esemiconductor_physics\\u003c\\u002fb\\u003e\\u003cbr\\u003e# Semiconductor Physics...\",\"\\u003cb\\u003esemiconductor_physics\\u003c\\u002fb\\u003e\\u003cbr\\u003eSemiconductor physics explores materials with electrical conductivity between conductors and insulat...\",\"\\u003cb\\u003esemiconductor_physics\\u003c\\u002fb\\u003e\\u003cbr\\u003eThe band structure of semiconductors explains their distinctive properties. Valence bands contain bo...\",\"\\u003cb\\u003esemiconductor_physics\\u003c\\u002fb\\u003e\\u003cbr\\u003eIntrinsic semiconductors contain equal numbers of electrons and holes (electron vacancies), with car...\",\"\\u003cb\\u003esemiconductor_physics\\u003c\\u002fb\\u003e\\u003cbr\\u003eDoping—intentionally introducing impurities—dramatically alters semiconductor properties. N-type dop...\",\"\\u003cb\\u003esemiconductor_physics\\u003c\\u002fb\\u003e\\u003cbr\\u003eCarrier transport mechanisms determine semiconductor device performance. Drift current results from ...\",\"\\u003cb\\u003esemiconductor_physics\\u003c\\u002fb\\u003e\\u003cbr\\u003eModern semiconductor devices leverage quantum effects at nanoscale dimensions. Quantum confinement i...\"],\"x\":[19.532621,20.927437,22.511652,22.521114,22.952837,20.416946,19.285381],\"y\":[-27.524637,-25.175753,-24.80922,-26.756563,-29.546875,-29.618195,-22.954063],\"type\":\"scatter\"},{\"hoverinfo\":\"text\",\"marker\":{\"color\":\"rgb(255, 0, 77)\",\"opacity\":0.7,\"size\":10},\"mode\":\"markers\",\"name\":\"structural_engineering\",\"text\":[\"\\u003cb\\u003estructural_engineering\\u003c\\u002fb\\u003e\\u003cbr\\u003e# Structural Engineering...\",\"\\u003cb\\u003estructural_engineering\\u003c\\u002fb\\u003e\\u003cbr\\u003eStructural engineering applies physical principles to design load-bearing systems that safely suppor...\",\"\\u003cb\\u003estructural_engineering\\u003c\\u002fb\\u003e\\u003cbr\\u003eLoading conditions fundamentally influence structural design approaches. Dead loads represent perman...\",\"\\u003cb\\u003estructural_engineering\\u003c\\u002fb\\u003e\\u003cbr\\u003eStructural systems distribute forces through specific load paths determined by their configuration. ...\",\"\\u003cb\\u003estructural_engineering\\u003c\\u002fb\\u003e\\u003cbr\\u003eMaterial properties critically influence structural behavior and design approaches. Structural steel...\",\"\\u003cb\\u003estructural_engineering\\u003c\\u002fb\\u003e\\u003cbr\\u003eStructural analysis predicts system behavior under applied loads using mathematical models that appr...\",\"\\u003cb\\u003estructural_engineering\\u003c\\u002fb\\u003e\\u003cbr\\u003eModern structural engineering embraces innovation through emerging technologies and methodologies. P...\"],\"x\":[-17.62947,-18.323221,-18.576025,-16.767088,-19.934494,-18.289566,-18.771008],\"y\":[14.549673,16.039762,18.32154,16.623755,16.783213,19.108173,15.391022],\"type\":\"scatter\"},{\"hoverinfo\":\"text\",\"marker\":{\"color\":\"rgb(255, 0, 47)\",\"opacity\":0.7,\"size\":10},\"mode\":\"markers\",\"name\":\"thermodynamics_1\",\"text\":[\"\\u003cb\\u003ethermodynamics_1\\u003c\\u002fb\\u003e\\u003cbr\\u003e# Thermodynamics\\nThermodynamics, the branch of physics examining energy and its transformations, est...\",\"\\u003cb\\u003ethermodynamics_1\\u003c\\u002fb\\u003e\\u003cbr\\u003eThe first law of thermodynamics articulates energy conservation, stating that energy cannot be creat...\",\"\\u003cb\\u003ethermodynamics_1\\u003c\\u002fb\\u003e\\u003cbr\\u003eEntropy, the central concept of the second law of thermodynamics, quantifies disorder or randomness ...\",\"\\u003cb\\u003ethermodynamics_1\\u003c\\u002fb\\u003e\\u003cbr\\u003ePhase equilibria explain how substances transition between solid, liquid, and gaseous states. Phase ...\",\"\\u003cb\\u003ethermodynamics_1\\u003c\\u002fb\\u003e\\u003cbr\\u003eStatistical thermodynamics connects macroscopic thermodynamic properties to microscopic molecular be...\",\"\\u003cb\\u003ethermodynamics_1\\u003c\\u002fb\\u003e\\u003cbr\\u003eModern thermodynamic applications extend beyond traditional heat engines to biological systems, wher...\"],\"x\":[0.5443399,2.2878785,2.878935,7.0130606,11.685546,-0.0266288],\"y\":[7.931454,7.7626734,4.914297,-0.22228928,5.2147264,5.9158764],\"type\":\"scatter\"}],                        {\"template\":{\"data\":{\"histogram2dcontour\":[{\"type\":\"histogram2dcontour\",\"colorbar\":{\"outlinewidth\":0,\"ticks\":\"\"},\"colorscale\":[[0.0,\"#0d0887\"],[0.1111111111111111,\"#46039f\"],[0.2222222222222222,\"#7201a8\"],[0.3333333333333333,\"#9c179e\"],[0.4444444444444444,\"#bd3786\"],[0.5555555555555556,\"#d8576b\"],[0.6666666666666666,\"#ed7953\"],[0.7777777777777778,\"#fb9f3a\"],[0.8888888888888888,\"#fdca26\"],[1.0,\"#f0f921\"]]}],\"choropleth\":[{\"type\":\"choropleth\",\"colorbar\":{\"outlinewidth\":0,\"ticks\":\"\"}}],\"histogram2d\":[{\"type\":\"histogram2d\",\"colorbar\":{\"outlinewidth\":0,\"ticks\":\"\"},\"colorscale\":[[0.0,\"#0d0887\"],[0.1111111111111111,\"#46039f\"],[0.2222222222222222,\"#7201a8\"],[0.3333333333333333,\"#9c179e\"],[0.4444444444444444,\"#bd3786\"],[0.5555555555555556,\"#d8576b\"],[0.6666666666666666,\"#ed7953\"],[0.7777777777777778,\"#fb9f3a\"],[0.8888888888888888,\"#fdca26\"],[1.0,\"#f0f921\"]]}],\"heatmap\":[{\"type\":\"heatmap\",\"colorbar\":{\"outlinewidth\":0,\"ticks\":\"\"},\"colorscale\":[[0.0,\"#0d0887\"],[0.1111111111111111,\"#46039f\"],[0.2222222222222222,\"#7201a8\"],[0.3333333333333333,\"#9c179e\"],[0.4444444444444444,\"#bd3786\"],[0.5555555555555556,\"#d8576b\"],[0.6666666666666666,\"#ed7953\"],[0.7777777777777778,\"#fb9f3a\"],[0.8888888888888888,\"#fdca26\"],[1.0,\"#f0f921\"]]}],\"heatmapgl\":[{\"type\":\"heatmapgl\",\"colorbar\":{\"outlinewidth\":0,\"ticks\":\"\"},\"colorscale\":[[0.0,\"#0d0887\"],[0.1111111111111111,\"#46039f\"],[0.2222222222222222,\"#7201a8\"],[0.3333333333333333,\"#9c179e\"],[0.4444444444444444,\"#bd3786\"],[0.5555555555555556,\"#d8576b\"],[0.6666666666666666,\"#ed7953\"],[0.7777777777777778,\"#fb9f3a\"],[0.8888888888888888,\"#fdca26\"],[1.0,\"#f0f921\"]]}],\"contourcarpet\":[{\"type\":\"contourcarpet\",\"colorbar\":{\"outlinewidth\":0,\"ticks\":\"\"}}],\"contour\":[{\"type\":\"contour\",\"colorbar\":{\"outlinewidth\":0,\"ticks\":\"\"},\"colorscale\":[[0.0,\"#0d0887\"],[0.1111111111111111,\"#46039f\"],[0.2222222222222222,\"#7201a8\"],[0.3333333333333333,\"#9c179e\"],[0.4444444444444444,\"#bd3786\"],[0.5555555555555556,\"#d8576b\"],[0.6666666666666666,\"#ed7953\"],[0.7777777777777778,\"#fb9f3a\"],[0.8888888888888888,\"#fdca26\"],[1.0,\"#f0f921\"]]}],\"surface\":[{\"type\":\"surface\",\"colorbar\":{\"outlinewidth\":0,\"ticks\":\"\"},\"colorscale\":[[0.0,\"#0d0887\"],[0.1111111111111111,\"#46039f\"],[0.2222222222222222,\"#7201a8\"],[0.3333333333333333,\"#9c179e\"],[0.4444444444444444,\"#bd3786\"],[0.5555555555555556,\"#d8576b\"],[0.6666666666666666,\"#ed7953\"],[0.7777777777777778,\"#fb9f3a\"],[0.8888888888888888,\"#fdca26\"],[1.0,\"#f0f921\"]]}],\"mesh3d\":[{\"type\":\"mesh3d\",\"colorbar\":{\"outlinewidth\":0,\"ticks\":\"\"}}],\"scatter\":[{\"fillpattern\":{\"fillmode\":\"overlay\",\"size\":10,\"solidity\":0.2},\"type\":\"scatter\"}],\"parcoords\":[{\"type\":\"parcoords\",\"line\":{\"colorbar\":{\"outlinewidth\":0,\"ticks\":\"\"}}}],\"scatterpolargl\":[{\"type\":\"scatterpolargl\",\"marker\":{\"colorbar\":{\"outlinewidth\":0,\"ticks\":\"\"}}}],\"bar\":[{\"error_x\":{\"color\":\"#2a3f5f\"},\"error_y\":{\"color\":\"#2a3f5f\"},\"marker\":{\"line\":{\"color\":\"#E5ECF6\",\"width\":0.5},\"pattern\":{\"fillmode\":\"overlay\",\"size\":10,\"solidity\":0.2}},\"type\":\"bar\"}],\"scattergeo\":[{\"type\":\"scattergeo\",\"marker\":{\"colorbar\":{\"outlinewidth\":0,\"ticks\":\"\"}}}],\"scatterpolar\":[{\"type\":\"scatterpolar\",\"marker\":{\"colorbar\":{\"outlinewidth\":0,\"ticks\":\"\"}}}],\"histogram\":[{\"marker\":{\"pattern\":{\"fillmode\":\"overlay\",\"size\":10,\"solidity\":0.2}},\"type\":\"histogram\"}],\"scattergl\":[{\"type\":\"scattergl\",\"marker\":{\"colorbar\":{\"outlinewidth\":0,\"ticks\":\"\"}}}],\"scatter3d\":[{\"type\":\"scatter3d\",\"line\":{\"colorbar\":{\"outlinewidth\":0,\"ticks\":\"\"}},\"marker\":{\"colorbar\":{\"outlinewidth\":0,\"ticks\":\"\"}}}],\"scattermapbox\":[{\"type\":\"scattermapbox\",\"marker\":{\"colorbar\":{\"outlinewidth\":0,\"ticks\":\"\"}}}],\"scatterternary\":[{\"type\":\"scatterternary\",\"marker\":{\"colorbar\":{\"outlinewidth\":0,\"ticks\":\"\"}}}],\"scattercarpet\":[{\"type\":\"scattercarpet\",\"marker\":{\"colorbar\":{\"outlinewidth\":0,\"ticks\":\"\"}}}],\"carpet\":[{\"aaxis\":{\"endlinecolor\":\"#2a3f5f\",\"gridcolor\":\"white\",\"linecolor\":\"white\",\"minorgridcolor\":\"white\",\"startlinecolor\":\"#2a3f5f\"},\"baxis\":{\"endlinecolor\":\"#2a3f5f\",\"gridcolor\":\"white\",\"linecolor\":\"white\",\"minorgridcolor\":\"white\",\"startlinecolor\":\"#2a3f5f\"},\"type\":\"carpet\"}],\"table\":[{\"cells\":{\"fill\":{\"color\":\"#EBF0F8\"},\"line\":{\"color\":\"white\"}},\"header\":{\"fill\":{\"color\":\"#C8D4E3\"},\"line\":{\"color\":\"white\"}},\"type\":\"table\"}],\"barpolar\":[{\"marker\":{\"line\":{\"color\":\"#E5ECF6\",\"width\":0.5},\"pattern\":{\"fillmode\":\"overlay\",\"size\":10,\"solidity\":0.2}},\"type\":\"barpolar\"}],\"pie\":[{\"automargin\":true,\"type\":\"pie\"}]},\"layout\":{\"autotypenumbers\":\"strict\",\"colorway\":[\"#636efa\",\"#EF553B\",\"#00cc96\",\"#ab63fa\",\"#FFA15A\",\"#19d3f3\",\"#FF6692\",\"#B6E880\",\"#FF97FF\",\"#FECB52\"],\"font\":{\"color\":\"#2a3f5f\"},\"hovermode\":\"closest\",\"hoverlabel\":{\"align\":\"left\"},\"paper_bgcolor\":\"white\",\"plot_bgcolor\":\"#E5ECF6\",\"polar\":{\"bgcolor\":\"#E5ECF6\",\"angularaxis\":{\"gridcolor\":\"white\",\"linecolor\":\"white\",\"ticks\":\"\"},\"radialaxis\":{\"gridcolor\":\"white\",\"linecolor\":\"white\",\"ticks\":\"\"}},\"ternary\":{\"bgcolor\":\"#E5ECF6\",\"aaxis\":{\"gridcolor\":\"white\",\"linecolor\":\"white\",\"ticks\":\"\"},\"baxis\":{\"gridcolor\":\"white\",\"linecolor\":\"white\",\"ticks\":\"\"},\"caxis\":{\"gridcolor\":\"white\",\"linecolor\":\"white\",\"ticks\":\"\"}},\"coloraxis\":{\"colorbar\":{\"outlinewidth\":0,\"ticks\":\"\"}},\"colorscale\":{\"sequential\":[[0.0,\"#0d0887\"],[0.1111111111111111,\"#46039f\"],[0.2222222222222222,\"#7201a8\"],[0.3333333333333333,\"#9c179e\"],[0.4444444444444444,\"#bd3786\"],[0.5555555555555556,\"#d8576b\"],[0.6666666666666666,\"#ed7953\"],[0.7777777777777778,\"#fb9f3a\"],[0.8888888888888888,\"#fdca26\"],[1.0,\"#f0f921\"]],\"sequentialminus\":[[0.0,\"#0d0887\"],[0.1111111111111111,\"#46039f\"],[0.2222222222222222,\"#7201a8\"],[0.3333333333333333,\"#9c179e\"],[0.4444444444444444,\"#bd3786\"],[0.5555555555555556,\"#d8576b\"],[0.6666666666666666,\"#ed7953\"],[0.7777777777777778,\"#fb9f3a\"],[0.8888888888888888,\"#fdca26\"],[1.0,\"#f0f921\"]],\"diverging\":[[0,\"#8e0152\"],[0.1,\"#c51b7d\"],[0.2,\"#de77ae\"],[0.3,\"#f1b6da\"],[0.4,\"#fde0ef\"],[0.5,\"#f7f7f7\"],[0.6,\"#e6f5d0\"],[0.7,\"#b8e186\"],[0.8,\"#7fbc41\"],[0.9,\"#4d9221\"],[1,\"#276419\"]]},\"xaxis\":{\"gridcolor\":\"white\",\"linecolor\":\"white\",\"ticks\":\"\",\"title\":{\"standoff\":15},\"zerolinecolor\":\"white\",\"automargin\":true,\"zerolinewidth\":2},\"yaxis\":{\"gridcolor\":\"white\",\"linecolor\":\"white\",\"ticks\":\"\",\"title\":{\"standoff\":15},\"zerolinecolor\":\"white\",\"automargin\":true,\"zerolinewidth\":2},\"scene\":{\"xaxis\":{\"backgroundcolor\":\"#E5ECF6\",\"gridcolor\":\"white\",\"linecolor\":\"white\",\"showbackground\":true,\"ticks\":\"\",\"zerolinecolor\":\"white\",\"gridwidth\":2},\"yaxis\":{\"backgroundcolor\":\"#E5ECF6\",\"gridcolor\":\"white\",\"linecolor\":\"white\",\"showbackground\":true,\"ticks\":\"\",\"zerolinecolor\":\"white\",\"gridwidth\":2},\"zaxis\":{\"backgroundcolor\":\"#E5ECF6\",\"gridcolor\":\"white\",\"linecolor\":\"white\",\"showbackground\":true,\"ticks\":\"\",\"zerolinecolor\":\"white\",\"gridwidth\":2}},\"shapedefaults\":{\"line\":{\"color\":\"#2a3f5f\"}},\"annotationdefaults\":{\"arrowcolor\":\"#2a3f5f\",\"arrowhead\":0,\"arrowwidth\":1},\"geo\":{\"bgcolor\":\"white\",\"landcolor\":\"#E5ECF6\",\"subunitcolor\":\"white\",\"showland\":true,\"showlakes\":true,\"lakecolor\":\"white\"},\"title\":{\"x\":0.05},\"mapbox\":{\"style\":\"light\"}}},\"legend\":{\"font\":{\"size\":10},\"itemsizing\":\"constant\"},\"margin\":{\"r\":20,\"b\":20,\"l\":20,\"t\":40},\"title\":{\"text\":\"2D Visualization of Chroma Vector Store (t-SNE)\"},\"xaxis\":{\"title\":{\"text\":\"t-SNE Dimension 1\"}},\"yaxis\":{\"title\":{\"text\":\"t-SNE Dimension 2\"}},\"width\":1000,\"height\":700},                        {\"responsive\": true}                    ).then(function(){\n",
              "                            \n",
              "var gd = document.getElementById('f2e93c2c-b085-41fa-9ab9-daad04320143');\n",
              "var x = new MutationObserver(function (mutations, observer) {{\n",
              "        var display = window.getComputedStyle(gd).display;\n",
              "        if (!display || display === 'none') {{\n",
              "            console.log([gd, 'removed!']);\n",
              "            Plotly.purge(gd);\n",
              "            observer.disconnect();\n",
              "        }}\n",
              "}});\n",
              "\n",
              "// Listen for the removal of the full notebook cells\n",
              "var notebookContainer = gd.closest('#notebook-container');\n",
              "if (notebookContainer) {{\n",
              "    x.observe(notebookContainer, {childList: true});\n",
              "}}\n",
              "\n",
              "// Listen for the clearing of the current output cell\n",
              "var outputEl = gd.closest('.output');\n",
              "if (outputEl) {{\n",
              "    x.observe(outputEl, {childList: true});\n",
              "}}\n",
              "\n",
              "                        })                };                            </script>        </div>\n",
              "</body>\n",
              "</html>"
            ]
          },
          "metadata": {}
        }
      ],
      "source": [
        "\n",
        "tsne = TSNE(n_components=2, perplexity=5, random_state=42)\n",
        "reduced_vectors = tsne.fit_transform(vectors)\n",
        "\n",
        "\n",
        "unique_doc_types = sorted(set(doc_types))\n",
        "palette = sns.color_palette(\"hsv\", len(unique_doc_types))\n",
        "doc_type_to_color = {doc: f'rgb({int(r*255)}, {int(g*255)}, {int(b*255)})' for doc, (r, g, b) in zip(unique_doc_types, palette)}\n",
        "colors = [doc_type_to_color[dt] for dt in doc_types]\n",
        "\n",
        "\n",
        "fig = go.Figure()\n",
        "\n",
        "for doc_type in unique_doc_types:\n",
        "    indices = [i for i, t in enumerate(doc_types) if t == doc_type]\n",
        "    fig.add_trace(go.Scatter(\n",
        "        x=reduced_vectors[indices, 0],\n",
        "        y=reduced_vectors[indices, 1],\n",
        "        mode='markers',\n",
        "        name=doc_type,\n",
        "        marker=dict(size=10, color=doc_type_to_color[doc_type], opacity=0.7),\n",
        "        text=[f\"<b>{doc_type}</b><br>{docs[i][:100]}...\" for i in indices],\n",
        "        hoverinfo='text'\n",
        "    ))\n",
        "\n",
        "fig.update_layout(\n",
        "    title='2D Visualization of Chroma Vector Store (t-SNE)',\n",
        "    xaxis_title='t-SNE Dimension 1',\n",
        "    yaxis_title='t-SNE Dimension 2',\n",
        "    width=1000,\n",
        "    height=700,\n",
        "    legend=dict(itemsizing='constant', font=dict(size=10)),\n",
        "    margin=dict(r=20, b=20, l=20, t=40)\n",
        ")\n",
        "\n",
        "fig.show()\n"
      ]
    },
    {
      "cell_type": "markdown",
      "source": [
        "# Calling the Agent"
      ],
      "metadata": {
        "id": "XSw8jyCn3Kwq"
      }
    },
    {
      "cell_type": "code",
      "execution_count": 167,
      "metadata": {
        "colab": {
          "base_uri": "https://localhost:8080/",
          "height": 116
        },
        "id": "L9OR49BNziVe",
        "outputId": "a64fff1f-0d3a-40a7-9423-1d0e62280f48"
      },
      "outputs": [
        {
          "output_type": "display_data",
          "data": {
            "text/plain": [
              "<IPython.core.display.Markdown object>"
            ],
            "text/markdown": "Numerical analysis is the study of algorithms for solving mathematical problems that arise in science and engineering. It focuses on approximating solutions for problems that often do not have analytical solutions expressed in simple formulas. Numerical analysis provides methods to approximate these solutions using numerical techniques that can be implemented on computers. The field encompasses various numerical methods for tasks such as solving equations, numerical integration and differentiation, and optimizing functions, all while addressing issues of accuracy and stability of the algorithms."
          },
          "metadata": {}
        }
      ],
      "source": [
        "llm = ChatOpenAI(\n",
        "    temperature=0.7,\n",
        "    model_name=\"gpt-4o-mini\",\n",
        "    openai_api_key=openai_token\n",
        ")\n",
        "# Memory Context\n",
        "memory = ConversationBufferMemory(memory_key=\"chat_history\", return_messages=True)\n",
        "retriever = vectorstore.as_retriever()\n",
        "\n",
        "conversation_chain = ConversationalRetrievalChain.from_llm(\n",
        "    llm=llm,\n",
        "    retriever=retriever,\n",
        "    memory=memory\n",
        ")\n",
        "# Query 1 related to topics of knowledge base , for example here in numerical analysis\n",
        "query = \"Hi i'm ahmad , Define me numerical analysis\"\n",
        "result = conversation_chain.invoke({\"question\": query})\n",
        "display(Markdown(result[\"answer\"]))\n"
      ]
    },
    {
      "cell_type": "code",
      "source": [
        "# Query 2 related to Organic Chemistry\n",
        "query = \"Explain me organic chemistry\"\n",
        "result = conversation_chain.invoke({\"question\": query})\n",
        "display(Markdown(result[\"answer\"]))\n"
      ],
      "metadata": {
        "colab": {
          "base_uri": "https://localhost:8080/",
          "height": 278
        },
        "id": "jwRMGfE7ZKaU",
        "outputId": "41633a4e-5f50-40e4-a65a-d8db86129c05"
      },
      "execution_count": 168,
      "outputs": [
        {
          "output_type": "display_data",
          "data": {
            "text/plain": [
              "<IPython.core.display.Markdown object>"
            ],
            "text/markdown": "Organic chemistry is the branch of chemistry that focuses on the study of organic compounds, which are primarily composed of carbon atoms. This field examines the structure, properties, composition, reactions, and synthesis of these compounds. While carbon is the central element, organic compounds can also include other elements such as hydrogen, oxygen, nitrogen, sulfur, phosphorus, and halogens.\n\nOne of the key features of organic chemistry is the unique ability of carbon to form stable bonds with itself and with other elements, allowing for an immense diversity of organic molecules. These molecules form the foundation of life and are also essential in various synthetic materials.\n\nOrganic chemists use various representations, like Lewis structures and skeletal structures, to illustrate the arrangement of atoms and bonds in organic molecules. Functional groups, which are specific groups of atoms within a molecule, play a critical role in determining the chemical behavior and reactivity of those molecules.\n\nA significant aspect of organic chemistry is organic synthesis, which involves constructing complex organic molecules from simpler ones. This is crucial for the development of pharmaceuticals, polymers, and other materials. Techniques such as spectroscopy (including NMR, IR, and Mass Spectrometry) are important tools for identifying and characterizing organic compounds.\n\nOverall, organic chemistry is fundamental to many scientific disciplines, including biochemistry, medicine, and materials science, and its principles are applied in various practical applications, such as drug discovery and the creation of new materials."
          },
          "metadata": {}
        }
      ]
    },
    {
      "cell_type": "code",
      "execution_count": 169,
      "metadata": {
        "id": "gDixBHziziVe",
        "colab": {
          "base_uri": "https://localhost:8080/",
          "height": 46
        },
        "outputId": "70707d16-799f-4507-c6d3-fb715906ba6d"
      },
      "outputs": [
        {
          "output_type": "display_data",
          "data": {
            "text/plain": [
              "<IPython.core.display.Markdown object>"
            ],
            "text/markdown": "I don't know."
          },
          "metadata": {}
        }
      ],
      "source": [
        "# Testing Unrelated Query\n",
        "query = \"Who is Elon Musk ? \"\n",
        "\n",
        "result = conversation_chain.invoke({\"question\":query})\n",
        "display(Markdown(result[\"answer\"]))"
      ]
    },
    {
      "cell_type": "markdown",
      "source": [
        "# Search using FAISS LSH"
      ],
      "metadata": {
        "id": "yS8tDBPcmKQX"
      }
    },
    {
      "cell_type": "code",
      "source": [
        "# Computing embedding dimensions\n",
        "d =np.array(embeddings.embed_query(\"test query\")) .shape[0]\n",
        "\n",
        "# Creating LSH Index for searching\n",
        "index_lsh = faiss.IndexLSH(d, d)\n",
        "\n",
        "# Creating list of all texts (page content of each chunk)\n",
        "texts = [doc.page_content for doc in chunks]\n",
        "\n",
        "# Transform each text as embedded vector , and store them all in an embedding matrix\n",
        "embeddings_matrix = np.array([embeddings.embed_query(text) for text in texts]).astype('float32')\n",
        "\n",
        "# Add the matrix for the LSH index , for fast searching\n",
        "index_lsh.add(embeddings_matrix)\n",
        "\n",
        "# Defining a query for searching\n",
        "query_text = \"What is the definition of Linear Algebra\"\n",
        "query_embedding = np.array([embeddings.embed_query(query_text)]).astype('float32')\n",
        "\n",
        "# Getting Document lists with thier Indices Lists , for all queries (list of queries)\n",
        "D, I = index_lsh.search(query_embedding, 3)\n",
        "\n",
        "# Print TOP 3 Locality Sensitive Hashing Chunks\n",
        "print(\"Top 3 LSH results:\")\n",
        "print('')\n",
        "\n",
        "# Printing Score , Chunk (First 300 token) and metadata of each candidate chunks , for the first & single query\n",
        "# ( D[0] & I[0] => 0 for first & single index at same time)\n",
        "\n",
        "for dist, idx in zip(D[0], I[0]):\n",
        "    print(f\"Score (Distance): {dist}\")\n",
        "    print(f\"Text:\\n{texts[idx][:300]}...\\n\")\n",
        "    print(f\"Metadata:\\n{chunks[idx].metadata}\\n\")\n",
        "\n",
        "    print(\"=\"*80)\n"
      ],
      "metadata": {
        "colab": {
          "base_uri": "https://localhost:8080/"
        },
        "id": "bFo50xzDleCg",
        "outputId": "a96baafe-edf7-4237-d095-26c5ac01fa75"
      },
      "execution_count": null,
      "outputs": [
        {
          "output_type": "stream",
          "name": "stdout",
          "text": [
            "Top 3 LSH results:\n",
            "\n",
            "Score (Distance): 72.0\n",
            "Text:\n",
            "Linear algebra is a branch of mathematics concerning linear equations, linear functions, and their representations through matrices and vector spaces. It is a fundamental tool in many areas of mathematics, science, and engineering, providing the language and methods to solve systems of linear equati...\n",
            "\n",
            "Metadata:\n",
            "{'source': 'knowledge-base2/Linear algebra.txt', 'doc_type': 'Linear algebra'}\n",
            "\n",
            "================================================================================\n",
            "Score (Distance): 104.0\n",
            "Text:\n",
            "Vector spaces are abstract mathematical structures that generalize the concept of vectors in two or three dimensions. A vector space is a set of vectors that can be added together and multiplied by scalars, satisfying certain axioms. Concepts like linear independence, span, basis, and dimension are ...\n",
            "\n",
            "Metadata:\n",
            "{'source': 'knowledge-base2/Linear algebra.txt', 'doc_type': 'Linear algebra'}\n",
            "\n",
            "================================================================================\n",
            "Score (Distance): 109.0\n",
            "Text:\n",
            "A central object in linear algebra is the matrix, a rectangular array of numbers. Matrices are used to represent linear transformations, which are functions that map vectors to vectors in a way that preserves vector addition and scalar multiplication. Matrix operations, such as addition, subtraction...\n",
            "\n",
            "Metadata:\n",
            "{'source': 'knowledge-base2/Linear algebra.txt', 'doc_type': 'Linear algebra'}\n",
            "\n",
            "================================================================================\n"
          ]
        }
      ]
    },
    {
      "cell_type": "markdown",
      "source": [
        "# Visulaization of Query & Top 3 Chunks with LSH"
      ],
      "metadata": {
        "id": "dPuM8UVaLqj-"
      }
    },
    {
      "cell_type": "code",
      "source": [
        "# Getting embeddings of top 3 results from LSH\n",
        "selected_embeddings = embeddings_matrix[I[0]]\n",
        "\n",
        "# Merging query embedding with selected embeddings ( for showing in same figure) => Vertical Stacking\n",
        "all_embeddings = np.vstack([query_embedding, selected_embeddings])\n",
        "\n",
        "# Defining TSNE with perplexity of 1, 2 dimensions\n",
        "tsne = TSNE(perplexity = 1,n_components=2, random_state=42)\n",
        "\n",
        "# Transforming embeddings into 2 diemnsional space using tnse\n",
        "embeddings_2d = tsne.fit_transform(all_embeddings)\n",
        "\n",
        "# Debugging Embeddings for LSH\n",
        "print(\"Selected Embeddings : \\n\\n\",selected_embeddings)\n",
        "print('')\n",
        "\n",
        "print(\"All Embeddings \\n\\n\",all_embeddings )\n",
        "print('')\n",
        "print(\"2D Embeddings \\n\\n\",embeddings_2d )"
      ],
      "metadata": {
        "colab": {
          "base_uri": "https://localhost:8080/"
        },
        "id": "cwSUfQoMPxKl",
        "outputId": "51c4a2c9-9e61-43b0-9d32-0f38da1a2a1e"
      },
      "execution_count": null,
      "outputs": [
        {
          "output_type": "stream",
          "name": "stdout",
          "text": [
            "Selected Embeddings : \n",
            "\n",
            " [[-0.04863872 -0.00986886 -0.07452533 ...  0.02935886  0.01650819\n",
            "  -0.00553349]\n",
            " [-0.06330035 -0.01101384 -0.05653913 ... -0.01363987  0.01144241\n",
            "  -0.04564484]\n",
            " [ 0.00312493  0.04330307 -0.10415188 ...  0.0410157  -0.00191511\n",
            "  -0.00465369]]\n",
            "\n",
            "All Embeddings \n",
            "\n",
            " [[-0.06299161  0.00611919 -0.10115462 ... -0.01281732  0.03399163\n",
            "  -0.03131092]\n",
            " [-0.04863872 -0.00986886 -0.07452533 ...  0.02935886  0.01650819\n",
            "  -0.00553349]\n",
            " [-0.06330035 -0.01101384 -0.05653913 ... -0.01363987  0.01144241\n",
            "  -0.04564484]\n",
            " [ 0.00312493  0.04330307 -0.10415188 ...  0.0410157  -0.00191511\n",
            "  -0.00465369]]\n",
            "\n",
            "2D Embeddings \n",
            "\n",
            " [[ 251.15245      6.6231065]\n",
            " [ 191.91019    -61.612106 ]\n",
            " [ 230.82188   -203.64743  ]\n",
            " [  45.818714   -43.02613  ]]\n"
          ]
        }
      ]
    },
    {
      "cell_type": "code",
      "source": [
        "\n",
        "# Normalize distances between 0-1\n",
        "norm = matplotlib.colors.Normalize(vmin=min(D[0]), vmax=max(D[0]))\n",
        "\n",
        "# Defining colors map\n",
        "cmap = plt.get_cmap('RdYlBu_r')\n",
        "\n",
        "# Defining Colors for Results based on distance from query point\n",
        "colors = [f'rgb({int(r*255)}, {int(g*255)}, {int(b*255)})'\n",
        "          for r, g, b, _ in [cmap(norm(dist)) for dist in D[0]]]\n",
        "\n",
        "fig = go.Figure()\n",
        "\n",
        "# Adding Query point with blue color\n",
        "fig.add_trace(go.Scatter(\n",
        "    x=[embeddings_2d[0,0]], y=[embeddings_2d[0,1]],\n",
        "    mode='markers',\n",
        "    marker=dict(size=15, color='blue'),\n",
        "    name='Query'\n",
        "))\n",
        "\n",
        "# Adding Result Points , assigning distance - based colors for them\n",
        "fig.add_trace(go.Scatter(\n",
        "    x=embeddings_2d[1:,0], y=embeddings_2d[1:,1],\n",
        "    mode='markers+text',\n",
        "    marker=dict(size=12, color=colors),\n",
        "    text=[f\"Dist: {dist:.2f}\" for dist in D[0]],\n",
        "    textposition=\"top center\",\n",
        "    name='Top 3 Results'\n",
        "))\n",
        "\n",
        "fig.update_layout(title=\"t-SNE visualization of FAISS LSH Search - Ahmad Hudhud - 1220718\")\n",
        "fig.show()\n"
      ],
      "metadata": {
        "colab": {
          "base_uri": "https://localhost:8080/",
          "height": 542
        },
        "id": "4JzQ6D01msbc",
        "outputId": "c5cfa19b-b199-4457-c9fa-39c17d6c8182"
      },
      "execution_count": null,
      "outputs": [
        {
          "output_type": "display_data",
          "data": {
            "text/html": [
              "<html>\n",
              "<head><meta charset=\"utf-8\" /></head>\n",
              "<body>\n",
              "    <div>            <script src=\"https://cdnjs.cloudflare.com/ajax/libs/mathjax/2.7.5/MathJax.js?config=TeX-AMS-MML_SVG\"></script><script type=\"text/javascript\">if (window.MathJax && window.MathJax.Hub && window.MathJax.Hub.Config) {window.MathJax.Hub.Config({SVG: {font: \"STIX-Web\"}});}</script>                <script type=\"text/javascript\">window.PlotlyConfig = {MathJaxConfig: 'local'};</script>\n",
              "        <script charset=\"utf-8\" src=\"https://cdn.plot.ly/plotly-2.35.2.min.js\"></script>                <div id=\"1ddd83a1-5046-4071-9734-8a80ef79b092\" class=\"plotly-graph-div\" style=\"height:525px; width:100%;\"></div>            <script type=\"text/javascript\">                                    window.PLOTLYENV=window.PLOTLYENV || {};                                    if (document.getElementById(\"1ddd83a1-5046-4071-9734-8a80ef79b092\")) {                    Plotly.newPlot(                        \"1ddd83a1-5046-4071-9734-8a80ef79b092\",                        [{\"marker\":{\"color\":\"blue\",\"size\":15},\"mode\":\"markers\",\"name\":\"Query\",\"x\":[251.15245056152344],\"y\":[6.623106479644775],\"type\":\"scatter\"},{\"marker\":{\"color\":[\"rgb(49, 54, 149)\",\"rgb(224, 68, 48)\",\"rgb(165, 0, 38)\"],\"size\":12},\"mode\":\"markers+text\",\"name\":\"Top 3 Results\",\"text\":[\"Dist: 72.00\",\"Dist: 104.00\",\"Dist: 109.00\"],\"textposition\":\"top center\",\"x\":[191.91019,230.82188,45.818714],\"y\":[-61.612106,-203.64743,-43.02613],\"type\":\"scatter\"}],                        {\"template\":{\"data\":{\"histogram2dcontour\":[{\"type\":\"histogram2dcontour\",\"colorbar\":{\"outlinewidth\":0,\"ticks\":\"\"},\"colorscale\":[[0.0,\"#0d0887\"],[0.1111111111111111,\"#46039f\"],[0.2222222222222222,\"#7201a8\"],[0.3333333333333333,\"#9c179e\"],[0.4444444444444444,\"#bd3786\"],[0.5555555555555556,\"#d8576b\"],[0.6666666666666666,\"#ed7953\"],[0.7777777777777778,\"#fb9f3a\"],[0.8888888888888888,\"#fdca26\"],[1.0,\"#f0f921\"]]}],\"choropleth\":[{\"type\":\"choropleth\",\"colorbar\":{\"outlinewidth\":0,\"ticks\":\"\"}}],\"histogram2d\":[{\"type\":\"histogram2d\",\"colorbar\":{\"outlinewidth\":0,\"ticks\":\"\"},\"colorscale\":[[0.0,\"#0d0887\"],[0.1111111111111111,\"#46039f\"],[0.2222222222222222,\"#7201a8\"],[0.3333333333333333,\"#9c179e\"],[0.4444444444444444,\"#bd3786\"],[0.5555555555555556,\"#d8576b\"],[0.6666666666666666,\"#ed7953\"],[0.7777777777777778,\"#fb9f3a\"],[0.8888888888888888,\"#fdca26\"],[1.0,\"#f0f921\"]]}],\"heatmap\":[{\"type\":\"heatmap\",\"colorbar\":{\"outlinewidth\":0,\"ticks\":\"\"},\"colorscale\":[[0.0,\"#0d0887\"],[0.1111111111111111,\"#46039f\"],[0.2222222222222222,\"#7201a8\"],[0.3333333333333333,\"#9c179e\"],[0.4444444444444444,\"#bd3786\"],[0.5555555555555556,\"#d8576b\"],[0.6666666666666666,\"#ed7953\"],[0.7777777777777778,\"#fb9f3a\"],[0.8888888888888888,\"#fdca26\"],[1.0,\"#f0f921\"]]}],\"heatmapgl\":[{\"type\":\"heatmapgl\",\"colorbar\":{\"outlinewidth\":0,\"ticks\":\"\"},\"colorscale\":[[0.0,\"#0d0887\"],[0.1111111111111111,\"#46039f\"],[0.2222222222222222,\"#7201a8\"],[0.3333333333333333,\"#9c179e\"],[0.4444444444444444,\"#bd3786\"],[0.5555555555555556,\"#d8576b\"],[0.6666666666666666,\"#ed7953\"],[0.7777777777777778,\"#fb9f3a\"],[0.8888888888888888,\"#fdca26\"],[1.0,\"#f0f921\"]]}],\"contourcarpet\":[{\"type\":\"contourcarpet\",\"colorbar\":{\"outlinewidth\":0,\"ticks\":\"\"}}],\"contour\":[{\"type\":\"contour\",\"colorbar\":{\"outlinewidth\":0,\"ticks\":\"\"},\"colorscale\":[[0.0,\"#0d0887\"],[0.1111111111111111,\"#46039f\"],[0.2222222222222222,\"#7201a8\"],[0.3333333333333333,\"#9c179e\"],[0.4444444444444444,\"#bd3786\"],[0.5555555555555556,\"#d8576b\"],[0.6666666666666666,\"#ed7953\"],[0.7777777777777778,\"#fb9f3a\"],[0.8888888888888888,\"#fdca26\"],[1.0,\"#f0f921\"]]}],\"surface\":[{\"type\":\"surface\",\"colorbar\":{\"outlinewidth\":0,\"ticks\":\"\"},\"colorscale\":[[0.0,\"#0d0887\"],[0.1111111111111111,\"#46039f\"],[0.2222222222222222,\"#7201a8\"],[0.3333333333333333,\"#9c179e\"],[0.4444444444444444,\"#bd3786\"],[0.5555555555555556,\"#d8576b\"],[0.6666666666666666,\"#ed7953\"],[0.7777777777777778,\"#fb9f3a\"],[0.8888888888888888,\"#fdca26\"],[1.0,\"#f0f921\"]]}],\"mesh3d\":[{\"type\":\"mesh3d\",\"colorbar\":{\"outlinewidth\":0,\"ticks\":\"\"}}],\"scatter\":[{\"fillpattern\":{\"fillmode\":\"overlay\",\"size\":10,\"solidity\":0.2},\"type\":\"scatter\"}],\"parcoords\":[{\"type\":\"parcoords\",\"line\":{\"colorbar\":{\"outlinewidth\":0,\"ticks\":\"\"}}}],\"scatterpolargl\":[{\"type\":\"scatterpolargl\",\"marker\":{\"colorbar\":{\"outlinewidth\":0,\"ticks\":\"\"}}}],\"bar\":[{\"error_x\":{\"color\":\"#2a3f5f\"},\"error_y\":{\"color\":\"#2a3f5f\"},\"marker\":{\"line\":{\"color\":\"#E5ECF6\",\"width\":0.5},\"pattern\":{\"fillmode\":\"overlay\",\"size\":10,\"solidity\":0.2}},\"type\":\"bar\"}],\"scattergeo\":[{\"type\":\"scattergeo\",\"marker\":{\"colorbar\":{\"outlinewidth\":0,\"ticks\":\"\"}}}],\"scatterpolar\":[{\"type\":\"scatterpolar\",\"marker\":{\"colorbar\":{\"outlinewidth\":0,\"ticks\":\"\"}}}],\"histogram\":[{\"marker\":{\"pattern\":{\"fillmode\":\"overlay\",\"size\":10,\"solidity\":0.2}},\"type\":\"histogram\"}],\"scattergl\":[{\"type\":\"scattergl\",\"marker\":{\"colorbar\":{\"outlinewidth\":0,\"ticks\":\"\"}}}],\"scatter3d\":[{\"type\":\"scatter3d\",\"line\":{\"colorbar\":{\"outlinewidth\":0,\"ticks\":\"\"}},\"marker\":{\"colorbar\":{\"outlinewidth\":0,\"ticks\":\"\"}}}],\"scattermapbox\":[{\"type\":\"scattermapbox\",\"marker\":{\"colorbar\":{\"outlinewidth\":0,\"ticks\":\"\"}}}],\"scatterternary\":[{\"type\":\"scatterternary\",\"marker\":{\"colorbar\":{\"outlinewidth\":0,\"ticks\":\"\"}}}],\"scattercarpet\":[{\"type\":\"scattercarpet\",\"marker\":{\"colorbar\":{\"outlinewidth\":0,\"ticks\":\"\"}}}],\"carpet\":[{\"aaxis\":{\"endlinecolor\":\"#2a3f5f\",\"gridcolor\":\"white\",\"linecolor\":\"white\",\"minorgridcolor\":\"white\",\"startlinecolor\":\"#2a3f5f\"},\"baxis\":{\"endlinecolor\":\"#2a3f5f\",\"gridcolor\":\"white\",\"linecolor\":\"white\",\"minorgridcolor\":\"white\",\"startlinecolor\":\"#2a3f5f\"},\"type\":\"carpet\"}],\"table\":[{\"cells\":{\"fill\":{\"color\":\"#EBF0F8\"},\"line\":{\"color\":\"white\"}},\"header\":{\"fill\":{\"color\":\"#C8D4E3\"},\"line\":{\"color\":\"white\"}},\"type\":\"table\"}],\"barpolar\":[{\"marker\":{\"line\":{\"color\":\"#E5ECF6\",\"width\":0.5},\"pattern\":{\"fillmode\":\"overlay\",\"size\":10,\"solidity\":0.2}},\"type\":\"barpolar\"}],\"pie\":[{\"automargin\":true,\"type\":\"pie\"}]},\"layout\":{\"autotypenumbers\":\"strict\",\"colorway\":[\"#636efa\",\"#EF553B\",\"#00cc96\",\"#ab63fa\",\"#FFA15A\",\"#19d3f3\",\"#FF6692\",\"#B6E880\",\"#FF97FF\",\"#FECB52\"],\"font\":{\"color\":\"#2a3f5f\"},\"hovermode\":\"closest\",\"hoverlabel\":{\"align\":\"left\"},\"paper_bgcolor\":\"white\",\"plot_bgcolor\":\"#E5ECF6\",\"polar\":{\"bgcolor\":\"#E5ECF6\",\"angularaxis\":{\"gridcolor\":\"white\",\"linecolor\":\"white\",\"ticks\":\"\"},\"radialaxis\":{\"gridcolor\":\"white\",\"linecolor\":\"white\",\"ticks\":\"\"}},\"ternary\":{\"bgcolor\":\"#E5ECF6\",\"aaxis\":{\"gridcolor\":\"white\",\"linecolor\":\"white\",\"ticks\":\"\"},\"baxis\":{\"gridcolor\":\"white\",\"linecolor\":\"white\",\"ticks\":\"\"},\"caxis\":{\"gridcolor\":\"white\",\"linecolor\":\"white\",\"ticks\":\"\"}},\"coloraxis\":{\"colorbar\":{\"outlinewidth\":0,\"ticks\":\"\"}},\"colorscale\":{\"sequential\":[[0.0,\"#0d0887\"],[0.1111111111111111,\"#46039f\"],[0.2222222222222222,\"#7201a8\"],[0.3333333333333333,\"#9c179e\"],[0.4444444444444444,\"#bd3786\"],[0.5555555555555556,\"#d8576b\"],[0.6666666666666666,\"#ed7953\"],[0.7777777777777778,\"#fb9f3a\"],[0.8888888888888888,\"#fdca26\"],[1.0,\"#f0f921\"]],\"sequentialminus\":[[0.0,\"#0d0887\"],[0.1111111111111111,\"#46039f\"],[0.2222222222222222,\"#7201a8\"],[0.3333333333333333,\"#9c179e\"],[0.4444444444444444,\"#bd3786\"],[0.5555555555555556,\"#d8576b\"],[0.6666666666666666,\"#ed7953\"],[0.7777777777777778,\"#fb9f3a\"],[0.8888888888888888,\"#fdca26\"],[1.0,\"#f0f921\"]],\"diverging\":[[0,\"#8e0152\"],[0.1,\"#c51b7d\"],[0.2,\"#de77ae\"],[0.3,\"#f1b6da\"],[0.4,\"#fde0ef\"],[0.5,\"#f7f7f7\"],[0.6,\"#e6f5d0\"],[0.7,\"#b8e186\"],[0.8,\"#7fbc41\"],[0.9,\"#4d9221\"],[1,\"#276419\"]]},\"xaxis\":{\"gridcolor\":\"white\",\"linecolor\":\"white\",\"ticks\":\"\",\"title\":{\"standoff\":15},\"zerolinecolor\":\"white\",\"automargin\":true,\"zerolinewidth\":2},\"yaxis\":{\"gridcolor\":\"white\",\"linecolor\":\"white\",\"ticks\":\"\",\"title\":{\"standoff\":15},\"zerolinecolor\":\"white\",\"automargin\":true,\"zerolinewidth\":2},\"scene\":{\"xaxis\":{\"backgroundcolor\":\"#E5ECF6\",\"gridcolor\":\"white\",\"linecolor\":\"white\",\"showbackground\":true,\"ticks\":\"\",\"zerolinecolor\":\"white\",\"gridwidth\":2},\"yaxis\":{\"backgroundcolor\":\"#E5ECF6\",\"gridcolor\":\"white\",\"linecolor\":\"white\",\"showbackground\":true,\"ticks\":\"\",\"zerolinecolor\":\"white\",\"gridwidth\":2},\"zaxis\":{\"backgroundcolor\":\"#E5ECF6\",\"gridcolor\":\"white\",\"linecolor\":\"white\",\"showbackground\":true,\"ticks\":\"\",\"zerolinecolor\":\"white\",\"gridwidth\":2}},\"shapedefaults\":{\"line\":{\"color\":\"#2a3f5f\"}},\"annotationdefaults\":{\"arrowcolor\":\"#2a3f5f\",\"arrowhead\":0,\"arrowwidth\":1},\"geo\":{\"bgcolor\":\"white\",\"landcolor\":\"#E5ECF6\",\"subunitcolor\":\"white\",\"showland\":true,\"showlakes\":true,\"lakecolor\":\"white\"},\"title\":{\"x\":0.05},\"mapbox\":{\"style\":\"light\"}}},\"title\":{\"text\":\"t-SNE visualization of FAISS LSH Search - Ahmad Hudhud - 1220718\"}},                        {\"responsive\": true}                    ).then(function(){\n",
              "                            \n",
              "var gd = document.getElementById('1ddd83a1-5046-4071-9734-8a80ef79b092');\n",
              "var x = new MutationObserver(function (mutations, observer) {{\n",
              "        var display = window.getComputedStyle(gd).display;\n",
              "        if (!display || display === 'none') {{\n",
              "            console.log([gd, 'removed!']);\n",
              "            Plotly.purge(gd);\n",
              "            observer.disconnect();\n",
              "        }}\n",
              "}});\n",
              "\n",
              "// Listen for the removal of the full notebook cells\n",
              "var notebookContainer = gd.closest('#notebook-container');\n",
              "if (notebookContainer) {{\n",
              "    x.observe(notebookContainer, {childList: true});\n",
              "}}\n",
              "\n",
              "// Listen for the clearing of the current output cell\n",
              "var outputEl = gd.closest('.output');\n",
              "if (outputEl) {{\n",
              "    x.observe(outputEl, {childList: true});\n",
              "}}\n",
              "\n",
              "                        })                };                            </script>        </div>\n",
              "</body>\n",
              "</html>"
            ]
          },
          "metadata": {}
        }
      ]
    },
    {
      "cell_type": "markdown",
      "source": [
        "# Search using Scikit-Learn Cosine Similairty"
      ],
      "metadata": {
        "id": "E_y-6VZzMCRT"
      }
    },
    {
      "cell_type": "code",
      "source": [
        "# Computing Cos-Sim between query & chunk embedding vectors for the first & single query [0]\n",
        "cos_sim = cosine_similarity(query_embedding, embeddings_matrix)[0]\n",
        "\n",
        "# Array of top 3 scores ( highest scores by order)\n",
        "top_idx = np.argsort(cos_sim)[::-1][:3]\n",
        "\n",
        "# Retrieve Top 3 Cos-Sim Chunks\n",
        "print(\"Top 3 Cosine Similarity results:\")\n",
        "print('')\n",
        "\n",
        "# For each index in top indices, print score , text and metadata\n",
        "for idx in top_idx:\n",
        "    print(f\"Score: {cos_sim[idx]}\")\n",
        "    print(f\"Text: {texts[idx][:300]}...\\n\")\n",
        "    print(f\"Metadata:\\n{chunks[idx].metadata}\\n\")\n"
      ],
      "metadata": {
        "colab": {
          "base_uri": "https://localhost:8080/"
        },
        "id": "mfT_1Zj_viE2",
        "outputId": "71ccba89-c20b-481a-91dc-435ff2757846"
      },
      "execution_count": null,
      "outputs": [
        {
          "output_type": "stream",
          "name": "stdout",
          "text": [
            "Top 3 Cosine Similarity results:\n",
            "\n",
            "Score: 0.795343279838562\n",
            "Text: Linear algebra is a branch of mathematics concerning linear equations, linear functions, and their representations through matrices and vector spaces. It is a fundamental tool in many areas of mathematics, science, and engineering, providing the language and methods to solve systems of linear equati...\n",
            "\n",
            "Metadata:\n",
            "{'source': 'knowledge-base2/Linear algebra.txt', 'doc_type': 'Linear algebra'}\n",
            "\n",
            "Score: 0.5926274061203003\n",
            "Text: Vector spaces are abstract mathematical structures that generalize the concept of vectors in two or three dimensions. A vector space is a set of vectors that can be added together and multiplied by scalars, satisfying certain axioms. Concepts like linear independence, span, basis, and dimension are ...\n",
            "\n",
            "Metadata:\n",
            "{'source': 'knowledge-base2/Linear algebra.txt', 'doc_type': 'Linear algebra'}\n",
            "\n",
            "Score: 0.5866361856460571\n",
            "Text: A central object in linear algebra is the matrix, a rectangular array of numbers. Matrices are used to represent linear transformations, which are functions that map vectors to vectors in a way that preserves vector addition and scalar multiplication. Matrix operations, such as addition, subtraction...\n",
            "\n",
            "Metadata:\n",
            "{'source': 'knowledge-base2/Linear algebra.txt', 'doc_type': 'Linear algebra'}\n",
            "\n"
          ]
        }
      ]
    },
    {
      "cell_type": "code",
      "source": [
        "# Get Embeddings of top 3 chunk vectors results from cosine similarity\n",
        "selected_cos_embeddings = embeddings_matrix[top_idx]\n",
        "\n",
        "# Merge/Stack with query embedding for showing it later in same space\n",
        "all_cos_embeddings = np.vstack([query_embedding, selected_cos_embeddings])\n",
        "\n",
        "# Transform into 2D space using same predefined TSNE Object\n",
        "embeddings_2d_cos = tsne.fit_transform(all_cos_embeddings)\n",
        "\n",
        "# Debugging Embeddings for Cosine Similarity Results\n",
        "print(\"Selected Embeddings : \\n\\n\",selected_cos_embeddings)\n",
        "print('')\n",
        "\n",
        "print(\"All Embeddings \\n\\n\",all_cos_embeddings )\n",
        "print('')\n",
        "print(\"2D Embeddings \\n\\n\",embeddings_2d_cos )\n",
        "\n"
      ],
      "metadata": {
        "colab": {
          "base_uri": "https://localhost:8080/"
        },
        "id": "I_XT17P1vpTF",
        "outputId": "e5253dd0-40e9-42d3-d1a6-2cf5e22f6ed3"
      },
      "execution_count": null,
      "outputs": [
        {
          "output_type": "stream",
          "name": "stdout",
          "text": [
            "Selected Embeddings : \n",
            "\n",
            " [[-0.04863872 -0.00986886 -0.07452533 ...  0.02935886  0.01650819\n",
            "  -0.00553349]\n",
            " [-0.06330035 -0.01101384 -0.05653913 ... -0.01363987  0.01144241\n",
            "  -0.04564484]\n",
            " [ 0.00312493  0.04330307 -0.10415188 ...  0.0410157  -0.00191511\n",
            "  -0.00465369]]\n",
            "\n",
            "All Embeddings \n",
            "\n",
            " [[-0.06299161  0.00611919 -0.10115462 ... -0.01281732  0.03399163\n",
            "  -0.03131092]\n",
            " [-0.04863872 -0.00986886 -0.07452533 ...  0.02935886  0.01650819\n",
            "  -0.00553349]\n",
            " [-0.06330035 -0.01101384 -0.05653913 ... -0.01363987  0.01144241\n",
            "  -0.04564484]\n",
            " [ 0.00312493  0.04330307 -0.10415188 ...  0.0410157  -0.00191511\n",
            "  -0.00465369]]\n",
            "\n",
            "2D Embeddings \n",
            "\n",
            " [[ 251.15245      6.6231065]\n",
            " [ 191.91019    -61.612106 ]\n",
            " [ 230.82188   -203.64743  ]\n",
            " [  45.818714   -43.02613  ]]\n"
          ]
        }
      ]
    },
    {
      "cell_type": "code",
      "source": [
        "# TNSE Space Visualization for cosine similarity results\n",
        "fig_cos = go.Figure()\n",
        "\n",
        "# Defining Query Point\n",
        "fig_cos.add_trace(go.Scatter(\n",
        "    x=[embeddings_2d_cos[0,0]], y=[embeddings_2d_cos[0,1]],\n",
        "    mode='markers',\n",
        "    marker=dict(size=15, color='red'),\n",
        "    name='Query'\n",
        "))\n",
        "\n",
        "# Normalize distances between 0-1\n",
        "norm = matplotlib.colors.Normalize(vmin=min(cos_sim[top_idx]), vmax=max(cos_sim[top_idx]))\n",
        "\n",
        "# Defining colors map\n",
        "cmap = plt.get_cmap('coolwarm')\n",
        "\n",
        "# Defining Colors for Results based on distance from query point\n",
        "colors_cos = [\n",
        "    f'rgb({int(r*255)}, {int(g*255)}, {int(b*255)})'\n",
        "    for r, g, b, _ in [cmap(norm(score)) for score in cos_sim[top_idx]]\n",
        "]\n",
        "\n",
        "# Defining Results Point\n",
        "fig_cos.add_trace(go.Scatter(\n",
        "    x=embeddings_2d_cos[1:,0], y=embeddings_2d_cos[1:,1],\n",
        "    mode='markers+text',\n",
        "    marker=dict(size=12, color=colors_cos),\n",
        "    text=[f\"Score: {cos_sim[idx]:.2f}\" for idx in top_idx],\n",
        "    textposition=\"top center\",\n",
        "    name='Top 3 Results'\n",
        "))\n",
        "\n",
        "fig_cos.update_layout(title=\"t-SNE visualization of Cosine Similarity Search - Ahmad Hudhud - 1220718\")\n",
        "fig_cos.show()\n"
      ],
      "metadata": {
        "colab": {
          "base_uri": "https://localhost:8080/",
          "height": 542
        },
        "id": "xQO3xDtqRXga",
        "outputId": "a0112c1a-a6b7-4de6-fe68-8e90c8ea1fba"
      },
      "execution_count": null,
      "outputs": [
        {
          "output_type": "display_data",
          "data": {
            "text/html": [
              "<html>\n",
              "<head><meta charset=\"utf-8\" /></head>\n",
              "<body>\n",
              "    <div>            <script src=\"https://cdnjs.cloudflare.com/ajax/libs/mathjax/2.7.5/MathJax.js?config=TeX-AMS-MML_SVG\"></script><script type=\"text/javascript\">if (window.MathJax && window.MathJax.Hub && window.MathJax.Hub.Config) {window.MathJax.Hub.Config({SVG: {font: \"STIX-Web\"}});}</script>                <script type=\"text/javascript\">window.PlotlyConfig = {MathJaxConfig: 'local'};</script>\n",
              "        <script charset=\"utf-8\" src=\"https://cdn.plot.ly/plotly-2.35.2.min.js\"></script>                <div id=\"e913bf0c-9cc9-4bc7-92f2-8b180b86541c\" class=\"plotly-graph-div\" style=\"height:525px; width:100%;\"></div>            <script type=\"text/javascript\">                                    window.PLOTLYENV=window.PLOTLYENV || {};                                    if (document.getElementById(\"e913bf0c-9cc9-4bc7-92f2-8b180b86541c\")) {                    Plotly.newPlot(                        \"e913bf0c-9cc9-4bc7-92f2-8b180b86541c\",                        [{\"marker\":{\"color\":\"red\",\"size\":15},\"mode\":\"markers\",\"name\":\"Query\",\"x\":[251.15245056152344],\"y\":[6.623106479644775],\"type\":\"scatter\"},{\"marker\":{\"color\":[\"rgb(179, 3, 38)\",\"rgb(66, 88, 202)\",\"rgb(58, 76, 192)\"],\"size\":12},\"mode\":\"markers+text\",\"name\":\"Top 3 Results\",\"text\":[\"Score: 0.80\",\"Score: 0.59\",\"Score: 0.59\"],\"textposition\":\"top center\",\"x\":[191.91019,230.82188,45.818714],\"y\":[-61.612106,-203.64743,-43.02613],\"type\":\"scatter\"}],                        {\"template\":{\"data\":{\"histogram2dcontour\":[{\"type\":\"histogram2dcontour\",\"colorbar\":{\"outlinewidth\":0,\"ticks\":\"\"},\"colorscale\":[[0.0,\"#0d0887\"],[0.1111111111111111,\"#46039f\"],[0.2222222222222222,\"#7201a8\"],[0.3333333333333333,\"#9c179e\"],[0.4444444444444444,\"#bd3786\"],[0.5555555555555556,\"#d8576b\"],[0.6666666666666666,\"#ed7953\"],[0.7777777777777778,\"#fb9f3a\"],[0.8888888888888888,\"#fdca26\"],[1.0,\"#f0f921\"]]}],\"choropleth\":[{\"type\":\"choropleth\",\"colorbar\":{\"outlinewidth\":0,\"ticks\":\"\"}}],\"histogram2d\":[{\"type\":\"histogram2d\",\"colorbar\":{\"outlinewidth\":0,\"ticks\":\"\"},\"colorscale\":[[0.0,\"#0d0887\"],[0.1111111111111111,\"#46039f\"],[0.2222222222222222,\"#7201a8\"],[0.3333333333333333,\"#9c179e\"],[0.4444444444444444,\"#bd3786\"],[0.5555555555555556,\"#d8576b\"],[0.6666666666666666,\"#ed7953\"],[0.7777777777777778,\"#fb9f3a\"],[0.8888888888888888,\"#fdca26\"],[1.0,\"#f0f921\"]]}],\"heatmap\":[{\"type\":\"heatmap\",\"colorbar\":{\"outlinewidth\":0,\"ticks\":\"\"},\"colorscale\":[[0.0,\"#0d0887\"],[0.1111111111111111,\"#46039f\"],[0.2222222222222222,\"#7201a8\"],[0.3333333333333333,\"#9c179e\"],[0.4444444444444444,\"#bd3786\"],[0.5555555555555556,\"#d8576b\"],[0.6666666666666666,\"#ed7953\"],[0.7777777777777778,\"#fb9f3a\"],[0.8888888888888888,\"#fdca26\"],[1.0,\"#f0f921\"]]}],\"heatmapgl\":[{\"type\":\"heatmapgl\",\"colorbar\":{\"outlinewidth\":0,\"ticks\":\"\"},\"colorscale\":[[0.0,\"#0d0887\"],[0.1111111111111111,\"#46039f\"],[0.2222222222222222,\"#7201a8\"],[0.3333333333333333,\"#9c179e\"],[0.4444444444444444,\"#bd3786\"],[0.5555555555555556,\"#d8576b\"],[0.6666666666666666,\"#ed7953\"],[0.7777777777777778,\"#fb9f3a\"],[0.8888888888888888,\"#fdca26\"],[1.0,\"#f0f921\"]]}],\"contourcarpet\":[{\"type\":\"contourcarpet\",\"colorbar\":{\"outlinewidth\":0,\"ticks\":\"\"}}],\"contour\":[{\"type\":\"contour\",\"colorbar\":{\"outlinewidth\":0,\"ticks\":\"\"},\"colorscale\":[[0.0,\"#0d0887\"],[0.1111111111111111,\"#46039f\"],[0.2222222222222222,\"#7201a8\"],[0.3333333333333333,\"#9c179e\"],[0.4444444444444444,\"#bd3786\"],[0.5555555555555556,\"#d8576b\"],[0.6666666666666666,\"#ed7953\"],[0.7777777777777778,\"#fb9f3a\"],[0.8888888888888888,\"#fdca26\"],[1.0,\"#f0f921\"]]}],\"surface\":[{\"type\":\"surface\",\"colorbar\":{\"outlinewidth\":0,\"ticks\":\"\"},\"colorscale\":[[0.0,\"#0d0887\"],[0.1111111111111111,\"#46039f\"],[0.2222222222222222,\"#7201a8\"],[0.3333333333333333,\"#9c179e\"],[0.4444444444444444,\"#bd3786\"],[0.5555555555555556,\"#d8576b\"],[0.6666666666666666,\"#ed7953\"],[0.7777777777777778,\"#fb9f3a\"],[0.8888888888888888,\"#fdca26\"],[1.0,\"#f0f921\"]]}],\"mesh3d\":[{\"type\":\"mesh3d\",\"colorbar\":{\"outlinewidth\":0,\"ticks\":\"\"}}],\"scatter\":[{\"fillpattern\":{\"fillmode\":\"overlay\",\"size\":10,\"solidity\":0.2},\"type\":\"scatter\"}],\"parcoords\":[{\"type\":\"parcoords\",\"line\":{\"colorbar\":{\"outlinewidth\":0,\"ticks\":\"\"}}}],\"scatterpolargl\":[{\"type\":\"scatterpolargl\",\"marker\":{\"colorbar\":{\"outlinewidth\":0,\"ticks\":\"\"}}}],\"bar\":[{\"error_x\":{\"color\":\"#2a3f5f\"},\"error_y\":{\"color\":\"#2a3f5f\"},\"marker\":{\"line\":{\"color\":\"#E5ECF6\",\"width\":0.5},\"pattern\":{\"fillmode\":\"overlay\",\"size\":10,\"solidity\":0.2}},\"type\":\"bar\"}],\"scattergeo\":[{\"type\":\"scattergeo\",\"marker\":{\"colorbar\":{\"outlinewidth\":0,\"ticks\":\"\"}}}],\"scatterpolar\":[{\"type\":\"scatterpolar\",\"marker\":{\"colorbar\":{\"outlinewidth\":0,\"ticks\":\"\"}}}],\"histogram\":[{\"marker\":{\"pattern\":{\"fillmode\":\"overlay\",\"size\":10,\"solidity\":0.2}},\"type\":\"histogram\"}],\"scattergl\":[{\"type\":\"scattergl\",\"marker\":{\"colorbar\":{\"outlinewidth\":0,\"ticks\":\"\"}}}],\"scatter3d\":[{\"type\":\"scatter3d\",\"line\":{\"colorbar\":{\"outlinewidth\":0,\"ticks\":\"\"}},\"marker\":{\"colorbar\":{\"outlinewidth\":0,\"ticks\":\"\"}}}],\"scattermapbox\":[{\"type\":\"scattermapbox\",\"marker\":{\"colorbar\":{\"outlinewidth\":0,\"ticks\":\"\"}}}],\"scatterternary\":[{\"type\":\"scatterternary\",\"marker\":{\"colorbar\":{\"outlinewidth\":0,\"ticks\":\"\"}}}],\"scattercarpet\":[{\"type\":\"scattercarpet\",\"marker\":{\"colorbar\":{\"outlinewidth\":0,\"ticks\":\"\"}}}],\"carpet\":[{\"aaxis\":{\"endlinecolor\":\"#2a3f5f\",\"gridcolor\":\"white\",\"linecolor\":\"white\",\"minorgridcolor\":\"white\",\"startlinecolor\":\"#2a3f5f\"},\"baxis\":{\"endlinecolor\":\"#2a3f5f\",\"gridcolor\":\"white\",\"linecolor\":\"white\",\"minorgridcolor\":\"white\",\"startlinecolor\":\"#2a3f5f\"},\"type\":\"carpet\"}],\"table\":[{\"cells\":{\"fill\":{\"color\":\"#EBF0F8\"},\"line\":{\"color\":\"white\"}},\"header\":{\"fill\":{\"color\":\"#C8D4E3\"},\"line\":{\"color\":\"white\"}},\"type\":\"table\"}],\"barpolar\":[{\"marker\":{\"line\":{\"color\":\"#E5ECF6\",\"width\":0.5},\"pattern\":{\"fillmode\":\"overlay\",\"size\":10,\"solidity\":0.2}},\"type\":\"barpolar\"}],\"pie\":[{\"automargin\":true,\"type\":\"pie\"}]},\"layout\":{\"autotypenumbers\":\"strict\",\"colorway\":[\"#636efa\",\"#EF553B\",\"#00cc96\",\"#ab63fa\",\"#FFA15A\",\"#19d3f3\",\"#FF6692\",\"#B6E880\",\"#FF97FF\",\"#FECB52\"],\"font\":{\"color\":\"#2a3f5f\"},\"hovermode\":\"closest\",\"hoverlabel\":{\"align\":\"left\"},\"paper_bgcolor\":\"white\",\"plot_bgcolor\":\"#E5ECF6\",\"polar\":{\"bgcolor\":\"#E5ECF6\",\"angularaxis\":{\"gridcolor\":\"white\",\"linecolor\":\"white\",\"ticks\":\"\"},\"radialaxis\":{\"gridcolor\":\"white\",\"linecolor\":\"white\",\"ticks\":\"\"}},\"ternary\":{\"bgcolor\":\"#E5ECF6\",\"aaxis\":{\"gridcolor\":\"white\",\"linecolor\":\"white\",\"ticks\":\"\"},\"baxis\":{\"gridcolor\":\"white\",\"linecolor\":\"white\",\"ticks\":\"\"},\"caxis\":{\"gridcolor\":\"white\",\"linecolor\":\"white\",\"ticks\":\"\"}},\"coloraxis\":{\"colorbar\":{\"outlinewidth\":0,\"ticks\":\"\"}},\"colorscale\":{\"sequential\":[[0.0,\"#0d0887\"],[0.1111111111111111,\"#46039f\"],[0.2222222222222222,\"#7201a8\"],[0.3333333333333333,\"#9c179e\"],[0.4444444444444444,\"#bd3786\"],[0.5555555555555556,\"#d8576b\"],[0.6666666666666666,\"#ed7953\"],[0.7777777777777778,\"#fb9f3a\"],[0.8888888888888888,\"#fdca26\"],[1.0,\"#f0f921\"]],\"sequentialminus\":[[0.0,\"#0d0887\"],[0.1111111111111111,\"#46039f\"],[0.2222222222222222,\"#7201a8\"],[0.3333333333333333,\"#9c179e\"],[0.4444444444444444,\"#bd3786\"],[0.5555555555555556,\"#d8576b\"],[0.6666666666666666,\"#ed7953\"],[0.7777777777777778,\"#fb9f3a\"],[0.8888888888888888,\"#fdca26\"],[1.0,\"#f0f921\"]],\"diverging\":[[0,\"#8e0152\"],[0.1,\"#c51b7d\"],[0.2,\"#de77ae\"],[0.3,\"#f1b6da\"],[0.4,\"#fde0ef\"],[0.5,\"#f7f7f7\"],[0.6,\"#e6f5d0\"],[0.7,\"#b8e186\"],[0.8,\"#7fbc41\"],[0.9,\"#4d9221\"],[1,\"#276419\"]]},\"xaxis\":{\"gridcolor\":\"white\",\"linecolor\":\"white\",\"ticks\":\"\",\"title\":{\"standoff\":15},\"zerolinecolor\":\"white\",\"automargin\":true,\"zerolinewidth\":2},\"yaxis\":{\"gridcolor\":\"white\",\"linecolor\":\"white\",\"ticks\":\"\",\"title\":{\"standoff\":15},\"zerolinecolor\":\"white\",\"automargin\":true,\"zerolinewidth\":2},\"scene\":{\"xaxis\":{\"backgroundcolor\":\"#E5ECF6\",\"gridcolor\":\"white\",\"linecolor\":\"white\",\"showbackground\":true,\"ticks\":\"\",\"zerolinecolor\":\"white\",\"gridwidth\":2},\"yaxis\":{\"backgroundcolor\":\"#E5ECF6\",\"gridcolor\":\"white\",\"linecolor\":\"white\",\"showbackground\":true,\"ticks\":\"\",\"zerolinecolor\":\"white\",\"gridwidth\":2},\"zaxis\":{\"backgroundcolor\":\"#E5ECF6\",\"gridcolor\":\"white\",\"linecolor\":\"white\",\"showbackground\":true,\"ticks\":\"\",\"zerolinecolor\":\"white\",\"gridwidth\":2}},\"shapedefaults\":{\"line\":{\"color\":\"#2a3f5f\"}},\"annotationdefaults\":{\"arrowcolor\":\"#2a3f5f\",\"arrowhead\":0,\"arrowwidth\":1},\"geo\":{\"bgcolor\":\"white\",\"landcolor\":\"#E5ECF6\",\"subunitcolor\":\"white\",\"showland\":true,\"showlakes\":true,\"lakecolor\":\"white\"},\"title\":{\"x\":0.05},\"mapbox\":{\"style\":\"light\"}}},\"title\":{\"text\":\"t-SNE visualization of Cosine Similarity Search - Ahmad Hudhud - 1220718\"}},                        {\"responsive\": true}                    ).then(function(){\n",
              "                            \n",
              "var gd = document.getElementById('e913bf0c-9cc9-4bc7-92f2-8b180b86541c');\n",
              "var x = new MutationObserver(function (mutations, observer) {{\n",
              "        var display = window.getComputedStyle(gd).display;\n",
              "        if (!display || display === 'none') {{\n",
              "            console.log([gd, 'removed!']);\n",
              "            Plotly.purge(gd);\n",
              "            observer.disconnect();\n",
              "        }}\n",
              "}});\n",
              "\n",
              "// Listen for the removal of the full notebook cells\n",
              "var notebookContainer = gd.closest('#notebook-container');\n",
              "if (notebookContainer) {{\n",
              "    x.observe(notebookContainer, {childList: true});\n",
              "}}\n",
              "\n",
              "// Listen for the clearing of the current output cell\n",
              "var outputEl = gd.closest('.output');\n",
              "if (outputEl) {{\n",
              "    x.observe(outputEl, {childList: true});\n",
              "}}\n",
              "\n",
              "                        })                };                            </script>        </div>\n",
              "</body>\n",
              "</html>"
            ]
          },
          "metadata": {}
        }
      ]
    },
    {
      "cell_type": "markdown",
      "source": [
        "## Thanks For Reviewing my code.\n",
        "### by Ahmad Hudhud - 12220718"
      ],
      "metadata": {
        "id": "PuhdJvBAHMjp"
      }
    }
  ],
  "metadata": {
    "kernelspec": {
      "display_name": "Python 3",
      "name": "python3"
    },
    "language_info": {
      "codemirror_mode": {
        "name": "ipython",
        "version": 3
      },
      "file_extension": ".py",
      "mimetype": "text/x-python",
      "name": "python",
      "nbconvert_exporter": "python",
      "pygments_lexer": "ipython3",
      "version": "3.12.10"
    },
    "colab": {
      "provenance": [],
      "gpuType": "T4"
    },
    "accelerator": "GPU"
  },
  "nbformat": 4,
  "nbformat_minor": 0
}